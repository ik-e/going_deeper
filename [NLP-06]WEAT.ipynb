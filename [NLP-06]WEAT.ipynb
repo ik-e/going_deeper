{
 "cells": [
  {
   "cell_type": "markdown",
   "id": "referenced-progressive",
   "metadata": {},
   "source": [
    "# WEAT project\n",
    "GD 노드 6\n",
    "\n",
    "프로세스는 다음과 같다.\n",
    "1. 데이터 로드 및 전처리\n",
    "2. 편향성 측정을 위한 target, attribute 설정\n",
    "3. 편향성 측정 (WEAT)\n",
    "4. Fasttext에 대한 실험"
   ]
  },
  {
   "cell_type": "markdown",
   "id": "romantic-medicaid",
   "metadata": {},
   "source": [
    "## 1. 데이터 로드 및 전처리\n",
    "영화 시놉시스 데이터의 편향성을 알아보기 위해서 명사를 추출하고 이에 대한 임베딩을 한다.   \n",
    "이때 편향성을 측정하기 위해서 target으로 예술 영화와 일반 영화를 설정하고   \n",
    "attribute로 영화의 각 장르로 설정한다."
   ]
  },
  {
   "cell_type": "code",
   "execution_count": 1,
   "id": "committed-treaty",
   "metadata": {},
   "outputs": [
    {
     "name": "stdout",
     "output_type": "stream",
     "text": [
      "사운드 엔지니어 상우(유지태 분)는 치매에 걸린 할머니(백성희 분)와\n",
      " 젊은 시절 상처한 한 아버지(박인환 분), 고모(신신애 분)와 함께 살고 있다.\n",
      " 어느 겨울 그는 지방 방송국 라디오 PD 은수(이영애 분)를 만난다.\n",
      " 자연의 소리를 채집해 틀어주는 라디오 프로그램을 준비하는 은수는 상우와 녹음 여행을 떠난다.\n",
      " 자연스레 가까워지는 두 사람은 어느 날, 은수의 아파트에서 밤을 보낸다.\n",
      " 너무 쉽게 사랑에 빠진 두 사람... 상우는 주체할 수 없을 정도로 그녀에게 빨려든다.\n",
      " 그러나 겨울에 만난 두 사람의 관계는 봄을 지나 여름을 맞이하면서 삐걱거린다.\n",
      " 이혼 경험이 있는 은수는 상우에게 결혼할 생각이 없다며 부담스러운 표정을 내비친다.\n",
      " \"어떻게 사랑이 변하니?...\"라고 묻는 상우에게 은수는 그저 \"헤어져\" 라고 단호하게 말한다.\n",
      " 영원히 변할 것 같지 않던 사랑이 변하고, 그 사실을 받아들이지 못하는 상우는 어찌 할 바를 모른다.\n",
      " 은수를 잊지 못하는 상우는 미련과 집착의 감정을 이기지 못하고 서울과 강릉을 오간다.\n",
      "유사 이래 연령, 성별, 빈부의 차이와 정치적인 입장을 불문하고 일거에 국민을 통합해 온 '애국심'이라는 성역에 일침을 가하는 다큐멘터리. 재작년 전국 민족민주 유가족협의회의 장기농성을 다룬 인상적인 다큐멘터리 <민들레>를 만들었던 독립영화집단 '빨간 눈사람'이 우리 사회 구석구석을 발빠르게 돌아다니며 애국심과 민족주의가 강요되는 현장을 발굴하여 카메라에 담았다. 박홍 서강대 명예총장, 이도형 '한국논단' 발행인, 축구해설자 신문선, 홍세화, 박노해 등 사회 각계의 '스타'들이 등장해 저마다의 확고한 신념을 성토한다. 감독 이경순과 최하동하는 이 작품을 위해 3년간 백여 명을 인터뷰했다고 한다. 2001 올해의 독립영화상 수상.\n",
      " 민족과 국가란 공동체에서 부단히 권력과 부를 얻는 자, 나아가 민족과 국가란 공동체에서 얻은 신분과 부귀를 영원히 그의 자손에게 대물림하려는 자, 그래서 민족과 국가란 공동체를 부단히 유지해야만 하는 자, 따라서 민족과 국가란 공동체의 당위성과 개인의 가치를 초월하는 그 존엄성을 끝도 없이 창조하고 되뇌어야 하는 자, 종국에는 민족과 국가란 공동체에 속해 있다고 태내에서부터 세뇌된 모든 이들의 삶과 행동에서 영원히 자기복제되는 순환의 고리, 영생하는 애국의 원동력은 그 순환의 골에서 온다.\n",
      "엽기적인 살인사건이 발생한 장소를 관광하는 투어팀. 그 팀에서 관광객들은 살인사건과 관련하여 히스테리컬한 반응을 보이는데 과연 이들의 정체는? (Tourists see whrer a murder take place. They respond hysterically to the murder…what are they?)\n",
      " 제46회 발라돌리드 국제영화제 (2001, 스페인)\n",
      "착하지만 엉뚱한 태희(배두나 분), 예쁜 깍쟁이 혜주(이요원 분), 그림을 잘 그리는 지영(옥지영 분), 명랑한 쌍둥이 비류(이은실 분)와 온조(이은주 분)는 단짝친구들. 늘 함께였던 그들이지만 스무 살이 되면서 길이 달라진다. 증권회사에 입사한 혜주는 성공한 커리어우먼의 야심을 키우고 미술에 재능이 있는 지영은 유학을 꿈꾼다. 한편 태희는 봉사활동에서 알게 된 뇌성마비 시인을 좋아하는데...\n",
      "  어느 날 지영이 길 잃은 새끼 고양이 티티를 만남면서 스무 살 그녀들의 삶에 고양이 한 마리가 끼어들게 된다. 혼자 있길 좋아하고, 쉽게 마음을 열지 않는 신비로운 동물 고양이. 고양이를 닮은 스무 살 그녀들. 고양이 티티와 함께 한 시간동안 삶은 예상못한 방향으로 흘러가지만 마침내 그녀들만의 해결책을 찾게 되는데... 사랑스런 몽상가 태희, 아름다운 야심가 혜주, 신비로운 아웃사이더 지영. 마지막으로 고양이를 부탁받은 사람은 누구일까?\n",
      "인도 등 아시아 식민지에 처음 발을 디딘 뒤 여행하고 “경영”한 이들은 과연 누구였을까? 과거의 이미지들은, 이민과 인종 문제, ‘오리엔탈리즘’이 격렬히 충돌하고 있는 현재와 강력하게 공명한다.\n",
      " [제19회 인디다큐페스티발]\n",
      "홀로 살아가는 미국 할머니와 한국 할머니의 이야기. 공원에서 가끔 마주치게 되는 그들은 비록 언어 소통의 어려움을 겪지만 시간이 흘러감에 따라 서로 가까워져 그들의 외로움과 우정을 공유하게 된다. 겨울이 지나고 봄이 왔을 때 길가의 민들레 홀씨는 삶의 이치를 말해주듯 한 할머니의 주위를 맴돈다. (Two elderly widows, an American and a Korean, frequent the same park in Philadelphia and attempt a friendship, though the Korean widow speaks no English. Driven by loneliness and a spark of hope, they persevere within the limits of body language, and the outcome poses a question of life as fundamental as a flower.)\n"
     ]
    }
   ],
   "source": [
    "import os\n",
    "\n",
    "with open(os.getenv('HOME')+'/aiffel/weat/synopsis.txt', 'r') as file:\n",
    "    for i in range(20):\n",
    "        print(file.readline(), end='')"
   ]
  },
  {
   "cell_type": "markdown",
   "id": "crazy-marketplace",
   "metadata": {},
   "source": [
    "### 명사 추출 "
   ]
  },
  {
   "cell_type": "code",
   "execution_count": 2,
   "id": "characteristic-procurement",
   "metadata": {},
   "outputs": [],
   "source": [
    "# 약 15분정도 걸립니다.\n",
    "from konlpy.tag import Okt\n",
    "okt = Okt()\n",
    "tokenized = []\n",
    "with open(os.getenv('HOME')+'/aiffel/weat/synopsis.txt', 'r') as file:\n",
    "    while True:\n",
    "        line = file.readline()\n",
    "        if not line: break\n",
    "        words = okt.pos(line, stem=True, norm=True)\n",
    "        res = []\n",
    "        for w in words:\n",
    "            if w[1] in [\"Noun\"]:      # \"Adjective\", \"Verb\" 등을 포함할 수도 있습니다.\n",
    "                res.append(w[0])    # 명사일 때만 tokenized 에 저장하게 됩니다. \n",
    "        tokenized.append(res)"
   ]
  },
  {
   "cell_type": "code",
   "execution_count": 3,
   "id": "dietary-selection",
   "metadata": {},
   "outputs": [
    {
     "name": "stdout",
     "output_type": "stream",
     "text": [
      "71156\n"
     ]
    }
   ],
   "source": [
    "print(len(tokenized))"
   ]
  },
  {
   "cell_type": "markdown",
   "id": "capital-aluminum",
   "metadata": {},
   "source": [
    "### 임베딩(word2vec)\n",
    "임베딩한 결과로 비슷한 단어들의 리스트를 보면 대부분 잘 나오는데   \n",
    "다큐에 대한 비슷한 단어로 지역 이름을 볼 수 있는 것으로 보아   \n",
    "다큐와 관련된 단어는 의미를 잘 학습하지 못 한 것을 볼 수 있다."
   ]
  },
  {
   "cell_type": "code",
   "execution_count": 4,
   "id": "extensive-worse",
   "metadata": {},
   "outputs": [
    {
     "name": "stderr",
     "output_type": "stream",
     "text": [
      "/home/aiffel-dj28/anaconda3/envs/aiffel/lib/python3.7/site-packages/gensim/similarities/__init__.py:15: UserWarning: The gensim.similarities.levenshtein submodule is disabled, because the optional Levenshtein package <https://pypi.org/project/python-Levenshtein/> is unavailable. Install Levenhstein (e.g. `pip install python-Levenshtein`) to suppress this warning.\n",
      "  warnings.warn(msg)\n"
     ]
    },
    {
     "data": {
      "text/plain": [
       "[('작품', 0.9041378498077393),\n",
       " ('다큐멘터리', 0.860173761844635),\n",
       " ('드라마', 0.809423565864563),\n",
       " ('영화로', 0.7989707589149475),\n",
       " ('코미디', 0.7953214645385742),\n",
       " ('형식', 0.7915093898773193),\n",
       " ('에마데딘', 0.7634924650192261),\n",
       " ('주제', 0.7622937560081482),\n",
       " ('영상', 0.7621946930885315),\n",
       " ('소재', 0.7613174319267273)]"
      ]
     },
     "execution_count": 4,
     "metadata": {},
     "output_type": "execute_result"
    }
   ],
   "source": [
    "from gensim.models import Word2Vec\n",
    "\n",
    "# tokenized에 담긴 데이터를 가지고 나만의 Word2Vec을 생성합니다. (Gensim 4.0 기준)\n",
    "model = Word2Vec(tokenized, vector_size=100, window=5, min_count=3, sg=0)  \n",
    "model.wv.most_similar(positive=['영화'])\n",
    "\n",
    "# Gensim 3.X 에서는 아래와 같이 생성합니다. \n",
    "# model = Word2Vec(tokenized, size=100, window=5, min_count=3, sg=0)  \n",
    "# model.most_similar(positive=['영화'])"
   ]
  },
  {
   "cell_type": "code",
   "execution_count": 5,
   "id": "entitled-cylinder",
   "metadata": {},
   "outputs": [
    {
     "data": {
      "text/plain": [
       "[('진심', 0.708071768283844),\n",
       " ('첫사랑', 0.703249990940094),\n",
       " ('목말', 0.6959591507911682),\n",
       " ('행복', 0.6871227622032166),\n",
       " ('이별', 0.676256537437439),\n",
       " ('애정', 0.6750743389129639),\n",
       " ('연애', 0.6749711632728577),\n",
       " ('가슴', 0.6712675094604492),\n",
       " ('우정', 0.6703492403030396),\n",
       " ('운명', 0.6637415885925293)]"
      ]
     },
     "execution_count": 5,
     "metadata": {},
     "output_type": "execute_result"
    }
   ],
   "source": [
    "model.wv.most_similar(positive=['사랑'])"
   ]
  },
  {
   "cell_type": "code",
   "execution_count": 6,
   "id": "intellectual-special",
   "metadata": {},
   "outputs": [
    {
     "data": {
      "text/plain": [
       "[('영화감독', 0.8993803262710571),\n",
       " ('캐스팅', 0.8933894634246826),\n",
       " ('데뷔', 0.8817960023880005),\n",
       " ('시나리오', 0.8791415691375732),\n",
       " ('배우', 0.8731175661087036),\n",
       " ('영감', 0.8690257668495178),\n",
       " ('뮤지션', 0.8602502346038818),\n",
       " ('공연', 0.8596439361572266),\n",
       " ('대본', 0.8580760955810547),\n",
       " ('주연', 0.8578104376792908)]"
      ]
     },
     "execution_count": 6,
     "metadata": {},
     "output_type": "execute_result"
    }
   ],
   "source": [
    "model.wv.most_similar(positive=['연극'])"
   ]
  },
  {
   "cell_type": "code",
   "execution_count": 7,
   "id": "mathematical-edmonton",
   "metadata": {},
   "outputs": [
    {
     "data": {
      "text/plain": [
       "[('전주', 0.9506300091743469),\n",
       " ('부산', 0.9005485773086548),\n",
       " ('광주', 0.8827415704727173),\n",
       " ('실험영화', 0.87296462059021),\n",
       " ('속초', 0.8682247400283813),\n",
       " ('일반', 0.8647458553314209),\n",
       " ('입체', 0.8630593419075012),\n",
       " ('초상', 0.861217737197876),\n",
       " ('단편영화', 0.8604570031166077),\n",
       " ('도그마', 0.8590399622917175)]"
      ]
     },
     "execution_count": 7,
     "metadata": {},
     "output_type": "execute_result"
    }
   ],
   "source": [
    "model.wv.most_similar(positive=['다큐'])"
   ]
  },
  {
   "cell_type": "markdown",
   "id": "comparable-bundle",
   "metadata": {},
   "source": [
    "## 2. 편향성 측정을 위한 target, attribute 설정\n",
    "예술 영화와 일반 영화를 target으로 설정하고 각 장르는 attribute로 설정한다.   \n",
    "이때 단어를 추출할 때에 TFIDF 방식을 이용한다."
   ]
  },
  {
   "cell_type": "markdown",
   "id": "generic-store",
   "metadata": {},
   "source": [
    "### Target 설정\n",
    "명사만을 추출하여 TFIDF로 만들고   \n",
    "대표단어 200개 중에서 서로 겹치는 것을 제외한 15개를 선정한다."
   ]
  },
  {
   "cell_type": "code",
   "execution_count": 8,
   "id": "imported-state",
   "metadata": {},
   "outputs": [],
   "source": [
    "import os\n",
    "from sklearn.feature_extraction.text import TfidfVectorizer\n",
    "import numpy as np\n",
    "from konlpy.tag import Okt\n",
    "\n",
    "art_txt = 'synopsis_art.txt'\n",
    "gen_txt = 'synopsis_gen.txt'\n",
    "\n",
    "def read_token(file_name):\n",
    "    okt = Okt()\n",
    "    result = []\n",
    "    with open(os.getenv('HOME')+'/aiffel/weat/'+file_name, 'r') as fread: \n",
    "        print(file_name, '파일을 읽고 있습니다.')\n",
    "        while True:\n",
    "            line = fread.readline() \n",
    "            if not line: break \n",
    "            tokenlist = okt.pos(line, stem=True, norm=True) \n",
    "            for word in tokenlist:\n",
    "                if word[1] in [\"Noun\"]:#, \"Adjective\", \"Verb\"]:\n",
    "                    result.append((word[0])) \n",
    "    return ' '.join(result)"
   ]
  },
  {
   "cell_type": "code",
   "execution_count": 9,
   "id": "painted-politics",
   "metadata": {},
   "outputs": [
    {
     "name": "stdout",
     "output_type": "stream",
     "text": [
      "synopsis_art.txt 파일을 읽고 있습니다.\n",
      "synopsis_gen.txt 파일을 읽고 있습니다.\n"
     ]
    }
   ],
   "source": [
    "# 2개의 파일을 처리하는데 10분 가량 걸립니다. \n",
    "art = read_token(art_txt)\n",
    "gen = read_token(gen_txt)"
   ]
  },
  {
   "cell_type": "code",
   "execution_count": 10,
   "id": "typical-gender",
   "metadata": {},
   "outputs": [
    {
     "name": "stdout",
     "output_type": "stream",
     "text": [
      "(2, 41082)\n"
     ]
    }
   ],
   "source": [
    "vectorizer = TfidfVectorizer()\n",
    "X = vectorizer.fit_transform([art, gen])\n",
    "\n",
    "print(X.shape)"
   ]
  },
  {
   "cell_type": "code",
   "execution_count": 11,
   "id": "restricted-multimedia",
   "metadata": {},
   "outputs": [
    {
     "name": "stdout",
     "output_type": "stream",
     "text": [
      "23976\n",
      "영화\n"
     ]
    }
   ],
   "source": [
    "print(vectorizer.vocabulary_['영화'])\n",
    "print(vectorizer.get_feature_names()[23976])"
   ]
  },
  {
   "cell_type": "code",
   "execution_count": 12,
   "id": "passive-washer",
   "metadata": {},
   "outputs": [
    {
     "name": "stdout",
     "output_type": "stream",
     "text": [
      "예술영화를 대표하는 단어들:\n",
      "그녀, 자신, 시작, 위해, 사랑, 사람, 영화, 친구, 남자, 가족, 이야기, 마을, 사건, 마음, 세상, 아버지, 아이, 엄마, 모든, 여자, 대한, 서로, 과연, 다시, 시간, 아들, 소녀, 아내, 다른, 사이, 영화제, 세계, 사실, 하나, 점점, 남편, 감독, 여행, 인생, 발견, 모두, 순간, 우리, 가장, 마지막, 생활, 아빠, 모습, 통해, 죽음, 기억, 비밀, 학교, 음악, 한편, 소년, 생각, 도시, 명의, 사고, 결혼, 전쟁, 때문, 위기, 이제, 최고, 이자, 과거, 일상, 경찰, 상황, 간다, 미국, 결심, 운명, 현실, 관계, 지금, 단편, 여인, 하루, 이름, 이후, 준비, 인간, 감정, 만난, 국제, 처음, 충격, 살인, 누구, 동안, 존재, 그린, 어머니, 연인, 계속, 동생, 작품, 청년, 한국, 가지, 상처, 할머니, 목숨, 이상, 희망, 계획, 매력, 프랑스, 사회, 제안, 만남, 무엇, 거리, 이유, 파리, 여성, 정체, 매일, 바로, 시절, 보고, 진실, 홀로, 혼란, 배우, 선택, 다큐멘터리, 혼자, 작가, 갑자기, 일본, 고향, 마주, 도착, 병원, 문제, 로부터, 노래, 주인공, 자리, 대해, 미래, 갈등, 소식, 공연, 서울, 할아버지, 부부, 도움, 연애, 회사, 여자친구, 조직, 소개, 낯선, 찾기, 애인, 잠시, 당신, 고백, 역시, 아무, 시골, 동료, 편지, 촬영, 과정, 영국, 오늘, 마침내, 지구, 마치, 자살, 뉴욕, 탈출, 무대, 주변, 학생, 열정, 발생, 고양이, 고민, 천재, 첫사랑, 더욱, 납치, 약속, 복수, 역사, 의문, 동네, 행복, 파티, 현재, 달리, 여정, 전설, \n",
      "\n",
      "일반영화를 대표하는 단어들:\n",
      "자신, 그녀, 영화제, 위해, 사람, 시작, 국제, 영화, 친구, 사랑, 남자, 이야기, 대한, 서울, 여자, 사건, 남편, 아이, 가족, 아버지, 다른, 마을, 시간, 엄마, 아들, 모든, 단편, 마음, 사실, 다시, 세계, 모습, 작품, 통해, 생각, 서로, 세상, 발견, 감독, 아내, 관계, 소녀, 사이, 하나, 우리, 애니메이션, 때문, 여성, 죽음, 과연, 점점, 인간, 생활, 한편, 결혼, 상황, 모두, 기억, 명의, 소년, 여행, 가장, 간다, 순간, 이제, 도시, 비밀, 학교, 과거, 가지, 이자, 경찰, 마지막, 미국, 동안, 전쟁, 주인공, 대해, 존재, 현실, 연출, 사고, 살인, 일상, 어머니, 계속, 사회, 인생, 다큐멘터리, 부문, 섹스, 최고, 바로, 동생, 의도, 하루, 위기, 계획, 정체, 한국, 이후, 조직, 회사, 보고, 부산, 아빠, 부부, 일본, 문제, 처음, 그것, 로부터, 독립, 운명, 감정, 음악, 경쟁, 무엇, 할머니, 결심, 거리, 누구, 혼자, 시절, 준비, 이상, 동료, 만난, 갑자기, 목숨, 과정, 소리, 부천, 이름, 제안, 여인, 지금, 도움, 살해, 역시, 현장, 지구, 촬영, 자기, 페스티벌, 발생, 그린, 이유, 사진, 도착, 자리, 미래, 복수, 학생, 환경, 매일, 경험, 지역, 다큐, 충격, 카메라, 공간, 행동, 중국, 또한, 선택, 방법, 공포, 영상, 대학, 납치, 상처, 배우, 판타스틱, 유혹, 병원, 인물, 상상, 애인, 노인, 할아버지, 공격, 가게, 대신, 게임, 위협, 연인, 매력, 변화, 형사, 고민, 고향, 진실, 노력, 전화, 잠시, 희망, 아무, 홀로, 현재, "
     ]
    }
   ],
   "source": [
    "m1 = X[0].tocoo()   # art를 TF-IDF로 표현한 spart matrix를 가져옵니다. \n",
    "m2 = X[1].tocoo()   # gen을 TF-IDF로 표현한 spart matrix를 가져옵니다. \n",
    "\n",
    "w1 = [[i, j] for i, j in zip(m1.col, m1.data)]\n",
    "w2 = [[i, j] for i, j in zip(m2.col, m2.data)]\n",
    "\n",
    "w1.sort(key=lambda x: x[1], reverse=True)   #art를 구성하는 단어들을 TF-IDF가 높은 순으로 정렬합니다. \n",
    "w2.sort(key=lambda x: x[1], reverse=True)   #gen을 구성하는 단어들을 TF-IDF가 높은 순으로 정렬합니다. \n",
    "\n",
    "print('예술영화를 대표하는 단어들:')\n",
    "for i in range(200):\n",
    "    print(vectorizer.get_feature_names()[w1[i][0]], end=', ')\n",
    "\n",
    "print('\\n')\n",
    "    \n",
    "print('일반영화를 대표하는 단어들:')\n",
    "for i in range(200):\n",
    "    print(vectorizer.get_feature_names()[w2[i][0]], end=', ')"
   ]
  },
  {
   "cell_type": "code",
   "execution_count": 13,
   "id": "turned-liability",
   "metadata": {},
   "outputs": [],
   "source": [
    "n = 15\n",
    "w1_, w2_ = [], []\n",
    "for i in range(200):\n",
    "    w1_.append(vectorizer.get_feature_names()[w1[i][0]])\n",
    "    w2_.append(vectorizer.get_feature_names()[w2[i][0]])\n",
    "\n",
    "# w1에만 있고 w2에는 없는, 예술영화를 잘 대표하는 단어를 15개 추출한다.\n",
    "target_art, target_gen = [], []\n",
    "for i in range(200):\n",
    "    if (w1_[i] not in w2_) and (w1_[i] in model.wv): target_art.append(w1_[i])\n",
    "    if len(target_art) == n: break \n",
    "    \n",
    "# w2에만 있고 w1에는 없는, 일반영화를 잘 대표하는 단어를 15개 추출한다.\n",
    "for i in range(200):\n",
    "    if (w2_[i] not in w1_) and (w2_[i] in model.wv): target_gen.append(w2_[i])\n",
    "    if len(target_gen) == n: break"
   ]
  },
  {
   "cell_type": "code",
   "execution_count": 14,
   "id": "editorial-gilbert",
   "metadata": {},
   "outputs": [
    {
     "name": "stdout",
     "output_type": "stream",
     "text": [
      "['청년', '프랑스', '만남', '파리', '혼란', '작가', '마주', '노래', '갈등', '소식', '공연', '연애', '여자친구', '소개', '낯선']\n"
     ]
    }
   ],
   "source": [
    "print(target_art)"
   ]
  },
  {
   "cell_type": "code",
   "execution_count": 15,
   "id": "basic-alignment",
   "metadata": {},
   "outputs": [
    {
     "name": "stdout",
     "output_type": "stream",
     "text": [
      "['애니메이션', '연출', '부문', '섹스', '의도', '부산', '그것', '독립', '경쟁', '소리', '부천', '살해', '현장', '자기', '페스티벌']\n"
     ]
    }
   ],
   "source": [
    "print(target_gen)"
   ]
  },
  {
   "cell_type": "code",
   "execution_count": 16,
   "id": "concrete-supervision",
   "metadata": {},
   "outputs": [
    {
     "name": "stderr",
     "output_type": "stream",
     "text": [
      "Duplicate key in file PosixPath('/home/aiffel-dj28/anaconda3/envs/aiffel/lib/python3.7/site-packages/matplotlib/mpl-data/matplotlibrc'), line 250 ('font.family:  NanumGothic')\n"
     ]
    },
    {
     "data": {
      "text/plain": [
       "<matplotlib.collections.PathCollection at 0x7f708dddcf90>"
      ]
     },
     "execution_count": 16,
     "metadata": {},
     "output_type": "execute_result"
    },
    {
     "name": "stderr",
     "output_type": "stream",
     "text": [
      "/home/aiffel-dj28/anaconda3/envs/aiffel/lib/python3.7/site-packages/matplotlib/backends/backend_agg.py:238: RuntimeWarning: Glyph 8722 missing from current font.\n",
      "  font.set_text(s, 0.0, flags=flags)\n",
      "/home/aiffel-dj28/anaconda3/envs/aiffel/lib/python3.7/site-packages/matplotlib/backends/backend_agg.py:201: RuntimeWarning: Glyph 8722 missing from current font.\n",
      "  font.set_text(s, 0, flags=flags)\n"
     ]
    },
    {
     "data": {
      "image/png": "[encoded data removed]",
      "text/plain": [
       "<Figure size 432x288 with 1 Axes>"
      ]
     },
     "metadata": {
      "needs_background": "light"
     },
     "output_type": "display_data"
    }
   ],
   "source": [
    "# visualization\n",
    "from sklearn.decomposition import PCA\n",
    "A = np.array([model.wv[word] for word in target_art])\n",
    "B = np.array([model.wv[word] for word in target_gen])\n",
    "\n",
    "pca = PCA(n_components=2)\n",
    "pc_A = pca.fit_transform(A)\n",
    "pc_B = pca.fit_transform(B)\n",
    "\n",
    "import matplotlib.pyplot as plt\n",
    "fig, ax = plt.subplots()\n",
    "ax.scatter(pc_A[:,0],pc_A[:,1], c='blue', label='A')\n",
    "ax.scatter(pc_B[:,0],pc_B[:,1], c='red', label='B')"
   ]
  },
  {
   "cell_type": "markdown",
   "id": "loved-istanbul",
   "metadata": {},
   "source": [
    "### Attribute 설정\n",
    "Target을 설정하는 것과 비슷한 과정으로 attribute를 설정한다.   "
   ]
  },
  {
   "cell_type": "code",
   "execution_count": 17,
   "id": "willing-double",
   "metadata": {},
   "outputs": [],
   "source": [
    "genre_txt = ['synopsis_SF.txt','synopsis_family.txt','synopsis_show.txt','synopsis_horror.txt',\n",
    "             'synopsis_etc.txt','synopsis_documentary.txt','synopsis_drama.txt','synopsis_romance.txt',\n",
    "             'synopsis_musical.txt','synopsis_mystery.txt','synopsis_crime.txt','synopsis_historical.txt',\n",
    "             'synopsis_western.txt','synopsis_adult.txt','synopsis_thriller.txt','synopsis_animation.txt',\n",
    "             'synopsis_action.txt','synopsis_adventure.txt','synopsis_war.txt','synopsis_comedy.txt',\n",
    "            'synopsis_fantasy.txt']\n",
    "genre_name = ['SF','가족','공연','공포',\n",
    "              '기타','다큐멘터리','드라마','멜로로멘스',\n",
    "              '뮤지컬','미스터리','범죄','사극',\n",
    "              '서부극','성인물','스릴러','애니메이션',\n",
    "              '액션','어드벤쳐','전쟁','코미디',\n",
    "             '판타지']"
   ]
  },
  {
   "cell_type": "markdown",
   "id": "clear-pakistan",
   "metadata": {},
   "source": [
    "genre_txt = ['synopsis_drama.txt', 'synopsis_romance.txt', 'synopsis_action.txt', 'synopsis_comedy.txt', 'synopsis_war.txt', 'synopsis_horror.txt']\n",
    "genre_name = ['드라마', '멜로로맨스', '액션', '코미디', '전쟁', '공포(호러)']"
   ]
  },
  {
   "cell_type": "code",
   "execution_count": 18,
   "id": "sealed-routine",
   "metadata": {},
   "outputs": [
    {
     "name": "stdout",
     "output_type": "stream",
     "text": [
      "synopsis_SF.txt 파일을 읽고 있습니다.\n",
      "synopsis_family.txt 파일을 읽고 있습니다.\n",
      "synopsis_show.txt 파일을 읽고 있습니다.\n",
      "synopsis_horror.txt 파일을 읽고 있습니다.\n",
      "synopsis_etc.txt 파일을 읽고 있습니다.\n",
      "synopsis_documentary.txt 파일을 읽고 있습니다.\n",
      "synopsis_drama.txt 파일을 읽고 있습니다.\n",
      "synopsis_romance.txt 파일을 읽고 있습니다.\n",
      "synopsis_musical.txt 파일을 읽고 있습니다.\n",
      "synopsis_mystery.txt 파일을 읽고 있습니다.\n",
      "synopsis_crime.txt 파일을 읽고 있습니다.\n",
      "synopsis_historical.txt 파일을 읽고 있습니다.\n",
      "synopsis_western.txt 파일을 읽고 있습니다.\n",
      "synopsis_adult.txt 파일을 읽고 있습니다.\n",
      "synopsis_thriller.txt 파일을 읽고 있습니다.\n",
      "synopsis_animation.txt 파일을 읽고 있습니다.\n",
      "synopsis_action.txt 파일을 읽고 있습니다.\n",
      "synopsis_adventure.txt 파일을 읽고 있습니다.\n",
      "synopsis_war.txt 파일을 읽고 있습니다.\n",
      "synopsis_comedy.txt 파일을 읽고 있습니다.\n",
      "synopsis_fantasy.txt 파일을 읽고 있습니다.\n"
     ]
    }
   ],
   "source": [
    "# 약 10분정도 걸립니다.\n",
    "genre = []\n",
    "for file_name in genre_txt:\n",
    "    genre.append(read_token(file_name))"
   ]
  },
  {
   "cell_type": "code",
   "execution_count": 19,
   "id": "traditional-milton",
   "metadata": {},
   "outputs": [
    {
     "name": "stdout",
     "output_type": "stream",
     "text": [
      "(21, 42191)\n"
     ]
    }
   ],
   "source": [
    "vectorizer_g = TfidfVectorizer()\n",
    "X_genre = vectorizer_g.fit_transform(genre)\n",
    "\n",
    "print(X_genre.shape)"
   ]
  },
  {
   "cell_type": "code",
   "execution_count": 20,
   "id": "sonic-toolbox",
   "metadata": {
    "scrolled": false
   },
   "outputs": [
    {
     "name": "stdout",
     "output_type": "stream",
     "text": [
      "SF: 외계, 행성, 시스템, 생명체, 스타크, 리플리, 과학자, 파괴, 켈빈, 컨트, 수퍼맨, 외계인, 분파, 연구, 개발, \n",
      "가족: 아주르, 낙타, 씨제이, 동구, 슈이트, 마갈, 미아, 펠리칸, 벤트, 케이시, 크리스마스, 최호, 혜지, 유나, 테리, \n",
      "공연: 실황, 올레, 오텔로, 리골레토, 백작, 프레, 베르디, 비바, 콘서트, 백작부인, 반니, 아리아, 미노, 차이코프스키, 라다, \n",
      "공포: 악령, 좀비, 저주, 일행, 악몽, 귀신, 저택, 현상, 사라, 영혼, 살인마, 기운, 그날, 치료, 분홍신, \n",
      "기타: 뉴미디어, 아시아나, 이미지, 상영작, 지하철, 청소년, 유럽, 포럼, 메트로, 단편영화, 실험영화, 대화, 거리, 광주, 프라이드, \n",
      "다큐멘터리: 다큐, 다큐멘터리, 기록, 카메라, 투쟁, 인디다큐페스티발, 지금, 현재, 문화, 건축, 인터뷰, 중국, 변화, 운동, 자연, \n",
      "드라마: 시절, 고향, 청년, 자기, 이상, 선택, 전주, 이유, 동네, 그것, 자리, 오늘, 선생님, 소개, 대신, \n",
      "멜로로멘스: 애인, 남자친구, 선배, 커플, 고백, 동거, 이혼, 시아버지, 만남, 은밀, 첫사랑, 직장, 언니, 형부, 매일, \n",
      "뮤지컬: 뮤지컬, 에스메랄다, 충무로, 모차르트, 니웨, 바흐, 페뷔스, 프롤, 모도, 제루샤, 샤오캉, 데이비, 팬텀, 크리스틴, 노트르담, \n",
      "미스터리: 민혁, 미스터리, 방독면, 소설, 랭던, 몰카, 혼란, 지목, 누군가, 거미숲, 작가, 사이먼, 누구, 의사, 수연, \n",
      "범죄: 한길수, 프랭크, 파푸아, 금고, 테러범, 강도, 마샨, 거래, 달러, 검사, 철중, 도미, 사기꾼, 범행, 폭력, \n",
      "사극: 조선, 신기전, 아가멤논, 황제, 루안, 하선, 윤서, 트로이, 세자, 허균, 노준, 채선, 신재효, 히파티아, 권력, \n",
      "서부극: 서부, 보안관, 벌린, 카우보이, 그레이프바인, 헨리, 개릿, 무법자, 프린트, 마적, 태구, 현상금, 분노, 버질, 랜던, \n",
      "성인물: 에피소드, 유이, 욕구불만, 손님, 유우, 성적, 성관계, 유코, 유미, 행각, 유키, 카즈야, 요구, 카나, 요코, \n",
      "스릴러: 목격, 흔적, 행동, 아파트, 낯선, 아무, 이유, 지훈, 상태, 정신, 영훈, 아담, 피해자, 기자, 더욱, \n",
      "애니메이션: 인디애니페스트, 만화, 도롱, 최강, 퍼니퍼, 고고, 펭귄, 표현, 나무, 코리아, 임팩트, 그림, 곰퉁, 타고, 하늘, \n",
      "액션: 킬러, 무기, 암살, 갱단, 무술, 액션, 전사, 러시아, 정보, 인질, 홍콩, 제거, 훈련, 일당, 고수, \n",
      "어드벤쳐: 앤트, 옥자, 원주민, 보물, 윈치, 펠레, 크루소, 이름, 양말, 루카스, 부족, 소원, 히어로, 썰매개, 미션, \n",
      "전쟁: 독일군, 윈터스, 독일, 연합군, 미군, 나치, 병사, 이지중대, 혁리, 중위, 세계대전, 군인, 동막골, 대위, 프랑스, \n",
      "코미디: 코미디, 밴드, 삼순, 결혼식, 클럽, 게다가, 스타, 뉴욕, 진헌, 데이트, 동네, 생일, 외모, 그것, 바람, \n",
      "판타지: 요괴, 알렉스, 순영, 남보라, 차사, 니모, 원풍, 편지, 덤블도어, 저승, 마법사, 에드워드, 해리, 수현, 신들, \n"
     ]
    }
   ],
   "source": [
    "m = [X_genre[i].tocoo() for i in range(X_genre.shape[0])]\n",
    "\n",
    "w = [[[i, j] for i, j in zip(mm.col, mm.data)] for mm in m]\n",
    "\n",
    "for i in range(len(w)):\n",
    "    w[i].sort(key=lambda x: x[1], reverse=True)\n",
    "attributes = []\n",
    "\n",
    "words = []\n",
    "for i in range(len(w)):\n",
    "    wd = []\n",
    "    for j in range(100):\n",
    "        wd.append(vectorizer_g.get_feature_names()[w[i][j][0]])\n",
    "    words.append(wd)\n",
    "    \n",
    "for i in range(len(w)):\n",
    "    print(genre_name[i], end=': ')\n",
    "    attr = []\n",
    "    j = 0\n",
    "    while (len(attr) < 15):\n",
    "        dup = 0\n",
    "        for k in range(len(w)):\n",
    "            if k != i  and vectorizer_g.get_feature_names()[w[i][j][0]] in words[k]:\n",
    "                dup = 1\n",
    "                break\n",
    "        if dup == 0 and vectorizer_g.get_feature_names()[w[i][j][0]] in model.wv:\n",
    "            attr.append(vectorizer_g.get_feature_names()[w[i][j][0]])\n",
    "            print(vectorizer_g.get_feature_names()[w[i][j][0]], end=', ')\n",
    "        j += 1\n",
    "    attributes.append(attr)\n",
    "    print()\n",
    "    "
   ]
  },
  {
   "cell_type": "markdown",
   "id": "worthy-gregory",
   "metadata": {},
   "source": []
  },
  {
   "cell_type": "markdown",
   "id": "personal-titanium",
   "metadata": {},
   "source": [
    "##  3. 편향성 측정 (WEAT)\n",
    "Target에 대한 모든 attribute 쌍에 대해서 편향성 WEAT를 계산한다.  \n",
    "이에 대한 결과를 시각화까지 한다."
   ]
  },
  {
   "cell_type": "code",
   "execution_count": 21,
   "id": "electronic-alexander",
   "metadata": {},
   "outputs": [],
   "source": [
    "matrix = [[0 for _ in range(len(genre_name))] for _ in range(len(genre_name))]"
   ]
  },
  {
   "cell_type": "code",
   "execution_count": 22,
   "id": "filled-interval",
   "metadata": {},
   "outputs": [],
   "source": [
    "import numpy as np\n",
    "from numpy import dot\n",
    "from numpy.linalg import norm\n",
    "\n",
    "def cos_sim(i, j):\n",
    "    return dot(i, j.T)/(norm(i)*norm(j))\n",
    "\n",
    "def s(w, A, B):\n",
    "    c_a = cos_sim(w, A)\n",
    "    c_b = cos_sim(w, B)\n",
    "    mean_A = np.mean(c_a, axis=-1)\n",
    "    mean_B = np.mean(c_b, axis=-1)\n",
    "    return mean_A - mean_B#, c_a, c_b\n",
    "\n",
    "def weat_score(X, Y, A, B):\n",
    "    \n",
    "    s_X = s(X, A, B)\n",
    "    s_Y = s(Y, A, B)\n",
    "\n",
    "    mean_X = np.mean(s_X)\n",
    "    mean_Y = np.mean(s_Y)\n",
    "    \n",
    "    std_dev = np.std(np.concatenate([s_X, s_Y], axis=0))\n",
    "    \n",
    "    return  (mean_X-mean_Y)/std_dev"
   ]
  },
  {
   "cell_type": "code",
   "execution_count": 23,
   "id": "agreed-league",
   "metadata": {},
   "outputs": [],
   "source": [
    "A = np.array([model.wv[word] for word in target_art])\n",
    "B = np.array([model.wv[word] for word in target_gen])\n",
    "\n",
    "for i in range(len(genre_name)-1):\n",
    "    for j in range(i+1, len(genre_name)):\n",
    "        X = np.array([model.wv[word] for word in attributes[i]])\n",
    "        Y = np.array([model.wv[word] for word in attributes[j]])\n",
    "        matrix[i][j] = weat_score(X, Y, A, B)"
   ]
  },
  {
   "cell_type": "code",
   "execution_count": 24,
   "id": "optimum-sentence",
   "metadata": {},
   "outputs": [
    {
     "name": "stdout",
     "output_type": "stream",
     "text": [
      "SF 멜로로멘스 -1.709036\n",
      "공연 멜로로멘스 -1.7340963\n",
      "기타 멜로로멘스 -1.7517473\n",
      "다큐멘터리 멜로로멘스 -1.7167135\n",
      "멜로로멘스 범죄 1.7538109\n",
      "멜로로멘스 애니메이션 1.6949078\n",
      "멜로로멘스 액션 1.7884055\n",
      "멜로로멘스 전쟁 1.7501467\n"
     ]
    }
   ],
   "source": [
    "for i in range(len(genre_name)-1):\n",
    "    for j in range(i+1, len(genre_name)):\n",
    "        if matrix[i][j] > 1.6 or matrix[i][j] < -1.6:\n",
    "            print(genre_name[i], genre_name[j],matrix[i][j])"
   ]
  },
  {
   "cell_type": "markdown",
   "id": "logical-census",
   "metadata": {},
   "source": [
    "### 시각화\n",
    "결과를 보면 절대값이 1.6보다 큰 편향성을 보이는 것은 멜로로멘스와 관련된 쌍임을 알 수 있다."
   ]
  },
  {
   "cell_type": "code",
   "execution_count": 25,
   "id": "billion-rover",
   "metadata": {},
   "outputs": [
    {
     "data": {
      "text/plain": [
       "<AxesSubplot:>"
      ]
     },
     "execution_count": 25,
     "metadata": {},
     "output_type": "execute_result"
    },
    {
     "data": {
      "image/png": "[encoded data removed]",
      "text/plain": [
       "<Figure size 432x288 with 2 Axes>"
      ]
     },
     "metadata": {},
     "output_type": "display_data"
    }
   ],
   "source": [
    "import numpy as np; \n",
    "import seaborn as sns; \n",
    "\n",
    "np.random.seed(0)\n",
    "\n",
    "# 한글 지원 폰트\n",
    "sns.set(font=\"Noto Sans CJK JP\")\n",
    "\n",
    "ax = sns.heatmap(matrix, xticklabels=genre_name, yticklabels=genre_name)\n",
    "ax"
   ]
  },
  {
   "cell_type": "code",
   "execution_count": 26,
   "id": "convenient-spring",
   "metadata": {
    "scrolled": false
   },
   "outputs": [
    {
     "name": "stdout",
     "output_type": "stream",
     "text": [
      "SF 멜로로멘스 -1.709036\n"
     ]
    },
    {
     "data": {
      "image/png": "[encoded data removed]",
      "text/plain": [
       "<Figure size 432x288 with 1 Axes>"
      ]
     },
     "metadata": {},
     "output_type": "display_data"
    },
    {
     "name": "stdout",
     "output_type": "stream",
     "text": [
      "공연 멜로로멘스 -1.7340963\n"
     ]
    },
    {
     "data": {
      "image/png": "[encoded data removed]",
      "text/plain": [
       "<Figure size 432x288 with 1 Axes>"
      ]
     },
     "metadata": {},
     "output_type": "display_data"
    },
    {
     "name": "stdout",
     "output_type": "stream",
     "text": [
      "기타 멜로로멘스 -1.7517473\n"
     ]
    },
    {
     "data": {
      "image/png": "[encoded data removed]",
      "text/plain": [
       "<Figure size 432x288 with 1 Axes>"
      ]
     },
     "metadata": {},
     "output_type": "display_data"
    },
    {
     "name": "stdout",
     "output_type": "stream",
     "text": [
      "다큐멘터리 멜로로멘스 -1.7167135\n"
     ]
    },
    {
     "data": {
      "image/png": "[encoded data removed]",
      "text/plain": [
       "<Figure size 432x288 with 1 Axes>"
      ]
     },
     "metadata": {},
     "output_type": "display_data"
    },
    {
     "name": "stdout",
     "output_type": "stream",
     "text": [
      "멜로로멘스 범죄 1.7538109\n"
     ]
    },
    {
     "data": {
      "image/png": "[encoded data removed]",
      "text/plain": [
       "<Figure size 432x288 with 1 Axes>"
      ]
     },
     "metadata": {},
     "output_type": "display_data"
    },
    {
     "name": "stdout",
     "output_type": "stream",
     "text": [
      "멜로로멘스 애니메이션 1.6949078\n"
     ]
    },
    {
     "data": {
      "image/png": "[encoded data removed]",
      "text/plain": [
       "<Figure size 432x288 with 1 Axes>"
      ]
     },
     "metadata": {},
     "output_type": "display_data"
    },
    {
     "name": "stdout",
     "output_type": "stream",
     "text": [
      "멜로로멘스 액션 1.7884055\n"
     ]
    },
    {
     "data": {
      "image/png": "[encoded data removed]",
      "text/plain": [
       "<Figure size 432x288 with 1 Axes>"
      ]
     },
     "metadata": {},
     "output_type": "display_data"
    },
    {
     "name": "stdout",
     "output_type": "stream",
     "text": [
      "멜로로멘스 전쟁 1.7501467\n"
     ]
    },
    {
     "data": {
      "image/png": "[encoded data removed]",
      "text/plain": [
       "<Figure size 432x288 with 1 Axes>"
      ]
     },
     "metadata": {},
     "output_type": "display_data"
    }
   ],
   "source": [
    "from sklearn.decomposition import PCA\n",
    "A = np.array([model.wv[word] for word in target_art])\n",
    "B = np.array([model.wv[word] for word in target_gen])\n",
    "\n",
    "pca = PCA(n_components=2)\n",
    "pc_A = pca.fit_transform(A)\n",
    "pc_B = pca.fit_transform(B)\n",
    "# pc_X = pca.fit_transform(X)\n",
    "# pc_Y = pca.fit_transform(Y)\n",
    "\n",
    "import matplotlib.pyplot as plt\n",
    "for i in range(len(genre_name)-1):\n",
    "    for j in range(i+1, len(genre_name)):\n",
    "        if matrix[i][j] > 1.6 or matrix[i][j] < -1.6:\n",
    "            X = np.array([model.wv[word] for word in attributes[i]])\n",
    "            Y = np.array([model.wv[word] for word in attributes[j]])\n",
    "            pc_X = pca.fit_transform(X)\n",
    "            pc_Y = pca.fit_transform(Y)\n",
    "\n",
    "            fig, ax = plt.subplots()\n",
    "            ax.scatter(pc_A[:,0],pc_A[:,1], c='blue', label='A')\n",
    "            ax.scatter(pc_B[:,0],pc_B[:,1], c='red', label='B')\n",
    "            ax.scatter(pc_X[:,0],pc_X[:,1], c='skyblue', label='X')\n",
    "            ax.scatter(pc_Y[:,0],pc_Y[:,1], c='pink', label='Y')\n",
    "            print(genre_name[i], genre_name[j], matrix[i][j])\n",
    "            plt.show()"
   ]
  },
  {
   "cell_type": "markdown",
   "id": "tracked-bathroom",
   "metadata": {},
   "source": [
    "## 4. Fasttext 에 대한 실험\n",
    "앞에서 word2vec 임베딩이 아닌 fasttext에 대해서 실험을 동일하게 진행을 하였다.   \n",
    "결과를 보면 word2vec 보다 편향성이 낮게 나온 것을 확인할 수 있다."
   ]
  },
  {
   "cell_type": "markdown",
   "id": "lyric-tomato",
   "metadata": {},
   "source": [
    "### 임베딩"
   ]
  },
  {
   "cell_type": "code",
   "execution_count": 27,
   "id": "quiet-infection",
   "metadata": {},
   "outputs": [],
   "source": [
    "from gensim.models import FastText\n",
    "fasttext_model = FastText(tokenized, vector_size=100, window=5, min_count=5, workers=4, sg=1)"
   ]
  },
  {
   "cell_type": "code",
   "execution_count": 28,
   "id": "reflected-heath",
   "metadata": {},
   "outputs": [
    {
     "data": {
      "text/plain": [
       "[('영화로', 0.8165848851203918),\n",
       " ('극영화', 0.7917303442955017),\n",
       " ('가족영화', 0.7855702638626099),\n",
       " ('무성영화', 0.7749965786933899),\n",
       " ('호러영화', 0.767106294631958),\n",
       " ('공포영화', 0.7601042985916138),\n",
       " ('중국영화', 0.756523609161377),\n",
       " ('액션영화', 0.7493290305137634),\n",
       " ('모큐멘터리', 0.746667742729187),\n",
       " ('미국영화', 0.7428145408630371)]"
      ]
     },
     "execution_count": 28,
     "metadata": {},
     "output_type": "execute_result"
    }
   ],
   "source": [
    "fasttext_model.wv.most_similar(positive=['영화'])"
   ]
  },
  {
   "cell_type": "code",
   "execution_count": 29,
   "id": "sonic-crisis",
   "metadata": {},
   "outputs": [
    {
     "data": {
      "text/plain": [
       "[('옛사랑', 0.7500046491622925),\n",
       " ('삼각관계', 0.6992982625961304),\n",
       " ('연애관', 0.6662273406982422),\n",
       " ('행복감', 0.6627658009529114),\n",
       " ('해피엔딩', 0.6594241857528687),\n",
       " ('비랄', 0.6524941921234131),\n",
       " ('결실', 0.6517512798309326),\n",
       " ('소울메이트', 0.6500110626220703),\n",
       " ('심성', 0.6498023271560669),\n",
       " ('차이점', 0.6430630087852478)]"
      ]
     },
     "execution_count": 29,
     "metadata": {},
     "output_type": "execute_result"
    }
   ],
   "source": [
    "fasttext_model.wv.most_similar(positive=['사랑'])"
   ]
  },
  {
   "cell_type": "code",
   "execution_count": 30,
   "id": "coated-leadership",
   "metadata": {},
   "outputs": [
    {
     "data": {
      "text/plain": [
       "[('햄릿', 0.78570556640625),\n",
       " ('대본', 0.7678070068359375),\n",
       " ('스탭들', 0.7584375739097595),\n",
       " ('엑스트라', 0.7471652626991272),\n",
       " ('연극배우', 0.7459169626235962),\n",
       " ('리허설', 0.7392194867134094),\n",
       " ('연출가', 0.7385221719741821),\n",
       " ('에로영화', 0.7369958162307739),\n",
       " ('연기자', 0.7330494523048401),\n",
       " ('출연자', 0.7308616638183594)]"
      ]
     },
     "execution_count": 30,
     "metadata": {},
     "output_type": "execute_result"
    }
   ],
   "source": [
    "fasttext_model.wv.most_similar(positive=['연극'])"
   ]
  },
  {
   "cell_type": "code",
   "execution_count": 31,
   "id": "lyric-declaration",
   "metadata": {},
   "outputs": [
    {
     "data": {
      "text/plain": [
       "[('영정', 0.8354824185371399),\n",
       " ('디아스포라', 0.8339192867279053),\n",
       " ('프롤로그', 0.8307415843009949),\n",
       " ('네이션', 0.8261919021606445),\n",
       " ('정지연', 0.8214368224143982),\n",
       " ('김영진', 0.8197163939476013),\n",
       " ('문웅', 0.8167285919189453),\n",
       " ('김지훈', 0.8164557814598083),\n",
       " ('이수현', 0.8135167360305786),\n",
       " ('다큐멘터리', 0.8038017153739929)]"
      ]
     },
     "execution_count": 31,
     "metadata": {},
     "output_type": "execute_result"
    }
   ],
   "source": [
    "fasttext_model.wv.most_similar(positive=['다큐'])"
   ]
  },
  {
   "cell_type": "markdown",
   "id": "stuffed-qualification",
   "metadata": {},
   "source": [
    "### 편향성 측정 및 시각화 "
   ]
  },
  {
   "cell_type": "code",
   "execution_count": 32,
   "id": "universal-combining",
   "metadata": {},
   "outputs": [],
   "source": [
    "f_matrix = [[0 for _ in range(len(genre_name))] for _ in range(len(genre_name))]\n",
    "A = np.array([fasttext_model.wv[word] for word in target_art])\n",
    "B = np.array([fasttext_model.wv[word] for word in target_gen])\n",
    "\n",
    "for i in range(len(genre_name)-1):\n",
    "    for j in range(i+1, len(genre_name)):\n",
    "        X = np.array([fasttext_model.wv[word] for word in attributes[i]])\n",
    "        Y = np.array([fasttext_model.wv[word] for word in attributes[j]])\n",
    "        f_matrix[i][j] = weat_score(X, Y, A, B)"
   ]
  },
  {
   "cell_type": "code",
   "execution_count": 33,
   "id": "confused-plasma",
   "metadata": {},
   "outputs": [
    {
     "name": "stdout",
     "output_type": "stream",
     "text": [
      "SF 멜로로멘스 -1.6465364\n",
      "기타 멜로로멘스 -1.6642542\n"
     ]
    }
   ],
   "source": [
    "for i in range(len(genre_name)-1):\n",
    "    for j in range(i+1, len(genre_name)):\n",
    "        if f_matrix[i][j] > 1.6 or f_matrix[i][j] < -1.6:\n",
    "            print(genre_name[i], genre_name[j],f_matrix[i][j])"
   ]
  },
  {
   "cell_type": "code",
   "execution_count": 34,
   "id": "interim-porter",
   "metadata": {},
   "outputs": [
    {
     "data": {
      "text/plain": [
       "<AxesSubplot:>"
      ]
     },
     "execution_count": 34,
     "metadata": {},
     "output_type": "execute_result"
    },
    {
     "data": {
      "image/png": "[encoded data removed]",
      "text/plain": [
       "<Figure size 432x288 with 2 Axes>"
      ]
     },
     "metadata": {},
     "output_type": "display_data"
    }
   ],
   "source": [
    "import numpy as np; \n",
    "import seaborn as sns; \n",
    "\n",
    "np.random.seed(0)\n",
    "\n",
    "# 한글 지원 폰트\n",
    "sns.set(font=\"Noto Sans CJK JP\")\n",
    "\n",
    "ax = sns.heatmap(matrix, xticklabels=genre_name, yticklabels=genre_name)\n",
    "ax"
   ]
  },
  {
   "cell_type": "code",
   "execution_count": 35,
   "id": "young-class",
   "metadata": {},
   "outputs": [
    {
     "name": "stdout",
     "output_type": "stream",
     "text": [
      "SF 멜로로멘스 -1.6465364\n"
     ]
    },
    {
     "data": {
      "image/png": "[encoded data removed]",
      "text/plain": [
       "<Figure size 432x288 with 1 Axes>"
      ]
     },
     "metadata": {},
     "output_type": "display_data"
    },
    {
     "name": "stdout",
     "output_type": "stream",
     "text": [
      "기타 멜로로멘스 -1.6642542\n"
     ]
    },
    {
     "data": {
      "image/png": "[encoded data removed]",
      "text/plain": [
       "<Figure size 432x288 with 1 Axes>"
      ]
     },
     "metadata": {},
     "output_type": "display_data"
    }
   ],
   "source": [
    "from sklearn.decomposition import PCA\n",
    "A = np.array([fasttext_model.wv[word] for word in target_art])\n",
    "B = np.array([fasttext_model.wv[word] for word in target_gen])\n",
    "\n",
    "pca = PCA(n_components=2)\n",
    "pc_A = pca.fit_transform(A)\n",
    "pc_B = pca.fit_transform(B)\n",
    "# pc_X = pca.fit_transform(X)\n",
    "# pc_Y = pca.fit_transform(Y)\n",
    "\n",
    "import matplotlib.pyplot as plt\n",
    "for i in range(len(genre_name)-1):\n",
    "    for j in range(i+1, len(genre_name)):\n",
    "        if f_matrix[i][j] > 1.6 or f_matrix[i][j] < -1.6:\n",
    "            X = np.array([fasttext_model.wv[word] for word in attributes[i]])\n",
    "            Y = np.array([fasttext_model.wv[word] for word in attributes[j]])\n",
    "            pc_X = pca.fit_transform(X)\n",
    "            pc_Y = pca.fit_transform(Y)\n",
    "\n",
    "            fig, ax = plt.subplots()\n",
    "            ax.scatter(pc_A[:,0],pc_A[:,1], c='blue', label='A')\n",
    "            ax.scatter(pc_B[:,0],pc_B[:,1], c='red', label='B')\n",
    "            ax.scatter(pc_X[:,0],pc_X[:,1], c='skyblue', label='X')\n",
    "            ax.scatter(pc_Y[:,0],pc_Y[:,1], c='pink', label='Y')\n",
    "            print(genre_name[i], genre_name[j], f_matrix[i][j])\n",
    "            plt.show()"
   ]
  },
  {
   "cell_type": "markdown",
   "id": "experienced-treaty",
   "metadata": {},
   "source": [
    "## 회고 및 루브릭 평가"
   ]
  },
  {
   "cell_type": "markdown",
   "id": "structural-configuration",
   "metadata": {},
   "source": [
    "### 루브릭 평가 항목\n",
    "1. 주어진 영화 코퍼스를 바탕으로 워드임베딩 모델을 정상적으로 만들었다.\n",
    "\t(워드임베딩의 most_similar() 메소드 결과가 의미상 바르게 나왔다.)\n",
    "2. 영화 구분, 장르별로 target, attribute에 대한 대표성있는 단어 셋을 생성하였다.\n",
    "\t(타당한 방법론을 통해 중복이 잘 제거되고 개념축을 의미적으로 잘 대표하는 단어 셋이 만들어졌다.)\n",
    "3. WEAT score 계산 및 시각화를 정상적으로 진행하였다.\n",
    "\t(전체 영화 장르별로 예술/일반 영화에 대한 편향성 WEAT score가 상식에 부합하는 수치로 얻어졌으며 이를 잘 시각화하였다.)"
   ]
  },
  {
   "cell_type": "markdown",
   "id": "secure-count",
   "metadata": {},
   "source": [
    "### 평가 항목에 대한 수행\n",
    "1. 영화 코퍼스를 바탕으로 워드임베딩 모델을 정상적으로 만들었다. \n",
    "2. 영화 구분, 장르별로 target, attribute에 대한 대표성 있는 단어 셋을 생성했다.\n",
    "3. WEAT 점수를 계산하고 각 점수에 대한 행렬과 WEAT 점수에 대해서 시각화를 하였다."
   ]
  },
  {
   "cell_type": "markdown",
   "id": "noble-franklin",
   "metadata": {},
   "source": [
    "### 회고"
   ]
  },
  {
   "cell_type": "markdown",
   "id": "critical-horse",
   "metadata": {},
   "source": [
    "노션에 공지된 꼭 포함이 되어야 할 점\n",
    "- 이번 프로젝트에서 **어려웠던 점,**\n",
    "- 프로젝트를 진행하면서 **알아낸 점** 혹은 **아직 모호한 점**.\n",
    "- 루브릭 평가 지표를 맞추기 위해 **시도한 것들**.\n",
    "- 만약에 루브릭 평가 관련 지표를 **달성 하지 못했을 때, 이유에 관한 추정**.\n",
    "- **자기 다짐**"
   ]
  },
  {
   "cell_type": "markdown",
   "id": "formed-management",
   "metadata": {},
   "source": [
    "---\n",
    "- **어려웠던 점**    \n",
    "처음에 노드가 정확히 어떤 task를 원하는 지 갈피를 잡지 못 해서 헤맸다. 그리고 영화에 대해서 잘 모르기 때문에 어떤 장르가 편향성을 가졌는지에 대해서 판단할 근거가 없었던 것 같다. 그리고 정확히 노드에서 어떤 편향성을 원했는지 모르겠다. 정확히 따져보면 결국에 사람마다 주관이 다르기 때문에 편향성도 사람마다 다르게 생각할 수 있는데 '상식'이라는 애매한 표현으로 여러 생각만 많이 하게 되고 결국 예술 영화와 일반 영화에 대해서 찾아봤는데 점점 경계가 모호해진다는 이야기만 알 수 있었다.\n",
    "\n",
    "---\n",
    "- **알아낸 점**    \n",
    "편향성을 측정하기 위해서 WEAT 점수를 사용한다는 것을 알 수 있었다.\n",
    "\n",
    "- **모호한 점**    \n",
    "프로젝트 자체가 모호하다. 정확히 어떤 것을 목적으로 하는지를 모르겠다. 단순히 데이터의 편향성이 존재할 수 있다는 것이라면 going deeper에서 다룬 내용은 아니라고 생각한다.(차라리 exploration에서 다루는 것이 맞다고 생각한다.)\n",
    "\n",
    "---\n",
    "- **시도한 것들**   \n",
    "임베딩에 대한 WEAT 점수를 계산하였다. 그리고 word2vec 뿐만 아니라 fasttext에 대한 실험도 하여 임베딩 간의 편향성 차이를 알 수 있었다.\n",
    "\n",
    "---\n",
    "- **루브릭 평가 관련 지표**   \n",
    "제 예상에는 모두 달성되었다고 생각한다. 그 이유는 위에 있는 **평가 항목에 대한 수행**에 나와있다.  \n",
    "- **자기 다짐** 및 **나의 생각들**      \n",
    "위에서도 적었지만 이번 노드는 어떤 목적으로 하는 지 잘 모르겠다. 그래도 데이터 편향성을 계산할 때 WEAT를 사용할 수 있다는 점은 배운 것 같다. 그리고 편향성은 당연하게도 서로 관련 있는 데이터에서 일어날 수 밖에 없는 것인데 노드에서 너무 나쁜 식으로 몰아 가는 것 같아서 좀 그랬다."
   ]
  },
  {
   "cell_type": "code",
   "execution_count": null,
   "id": "sticky-hybrid",
   "metadata": {},
   "outputs": [],
   "source": []
  }
 ],
 "metadata": {
  "kernelspec": {
   "display_name": "aiffel",
   "language": "python",
   "name": "aiffel"
  },
  "language_info": {
   "codemirror_mode": {
    "name": "ipython",
    "version": 3
   },
   "file_extension": ".py",
   "mimetype": "text/x-python",
   "name": "python",
   "nbconvert_exporter": "python",
   "pygments_lexer": "ipython3",
   "version": "3.7.9"
  }
 },
 "nbformat": 4,
 "nbformat_minor": 5
}
