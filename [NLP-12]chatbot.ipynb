{
 "cells": [
  {
   "cell_type": "markdown",
   "id": "unnecessary-floor",
   "metadata": {},
   "source": [
    "# chatbot project\n",
    "GD 노드 12\n",
    "\n",
    "프로세스는 다음과 같다.\n",
    "1. 데이터 로드 및 전처리\n",
    "2. 모델링 (transformer)\n",
    "3. 모델 훈련\n",
    "4. 모델 평가"
   ]
  },
  {
   "cell_type": "markdown",
   "id": "brave-greek",
   "metadata": {},
   "source": [
    "## 1. 데이터 로드 및 전처리"
   ]
  },
  {
   "cell_type": "code",
   "execution_count": 1,
   "id": "willing-technology",
   "metadata": {},
   "outputs": [
    {
     "name": "stdout",
     "output_type": "stream",
     "text": [
      "2.2.0\n"
     ]
    }
   ],
   "source": [
    "import numpy as np\n",
    "import pandas as pd\n",
    "import tensorflow as tf\n",
    "\n",
    "import re\n",
    "import os\n",
    "import io\n",
    "import time\n",
    "import random\n",
    "\n",
    "from sklearn.model_selection import train_test_split\n",
    "\n",
    "print(tf.__version__)"
   ]
  },
  {
   "cell_type": "code",
   "execution_count": 2,
   "id": "pursuant-pricing",
   "metadata": {},
   "outputs": [],
   "source": [
    "# data load\n",
    "path_to_file = os.getenv('HOME')+'/aiffel/transformer_chatbot/Chatbot_data-master/ChatbotData .csv'\n",
    "data = pd.read_csv(path_to_file)"
   ]
  },
  {
   "cell_type": "code",
   "execution_count": 3,
   "id": "increasing-mission",
   "metadata": {},
   "outputs": [
    {
     "data": {
      "text/html": [
       "<div>\n",
       "<style scoped>\n",
       "    .dataframe tbody tr th:only-of-type {\n",
       "        vertical-align: middle;\n",
       "    }\n",
       "\n",
       "    .dataframe tbody tr th {\n",
       "        vertical-align: top;\n",
       "    }\n",
       "\n",
       "    .dataframe thead th {\n",
       "        text-align: right;\n",
       "    }\n",
       "</style>\n",
       "<table border=\"1\" class=\"dataframe\">\n",
       "  <thead>\n",
       "    <tr style=\"text-align: right;\">\n",
       "      <th></th>\n",
       "      <th>Q</th>\n",
       "      <th>A</th>\n",
       "      <th>label</th>\n",
       "    </tr>\n",
       "  </thead>\n",
       "  <tbody>\n",
       "    <tr>\n",
       "      <th>0</th>\n",
       "      <td>12시 땡!</td>\n",
       "      <td>하루가 또 가네요.</td>\n",
       "      <td>0</td>\n",
       "    </tr>\n",
       "    <tr>\n",
       "      <th>1</th>\n",
       "      <td>1지망 학교 떨어졌어</td>\n",
       "      <td>위로해 드립니다.</td>\n",
       "      <td>0</td>\n",
       "    </tr>\n",
       "    <tr>\n",
       "      <th>2</th>\n",
       "      <td>3박4일 놀러가고 싶다</td>\n",
       "      <td>여행은 언제나 좋죠.</td>\n",
       "      <td>0</td>\n",
       "    </tr>\n",
       "    <tr>\n",
       "      <th>3</th>\n",
       "      <td>3박4일 정도 놀러가고 싶다</td>\n",
       "      <td>여행은 언제나 좋죠.</td>\n",
       "      <td>0</td>\n",
       "    </tr>\n",
       "    <tr>\n",
       "      <th>4</th>\n",
       "      <td>PPL 심하네</td>\n",
       "      <td>눈살이 찌푸려지죠.</td>\n",
       "      <td>0</td>\n",
       "    </tr>\n",
       "    <tr>\n",
       "      <th>...</th>\n",
       "      <td>...</td>\n",
       "      <td>...</td>\n",
       "      <td>...</td>\n",
       "    </tr>\n",
       "    <tr>\n",
       "      <th>11818</th>\n",
       "      <td>훔쳐보는 것도 눈치 보임.</td>\n",
       "      <td>티가 나니까 눈치가 보이는 거죠!</td>\n",
       "      <td>2</td>\n",
       "    </tr>\n",
       "    <tr>\n",
       "      <th>11819</th>\n",
       "      <td>훔쳐보는 것도 눈치 보임.</td>\n",
       "      <td>훔쳐보는 거 티나나봐요.</td>\n",
       "      <td>2</td>\n",
       "    </tr>\n",
       "    <tr>\n",
       "      <th>11820</th>\n",
       "      <td>흑기사 해주는 짝남.</td>\n",
       "      <td>설렜겠어요.</td>\n",
       "      <td>2</td>\n",
       "    </tr>\n",
       "    <tr>\n",
       "      <th>11821</th>\n",
       "      <td>힘든 연애 좋은 연애라는게 무슨 차이일까?</td>\n",
       "      <td>잘 헤어질 수 있는 사이 여부인 거 같아요.</td>\n",
       "      <td>2</td>\n",
       "    </tr>\n",
       "    <tr>\n",
       "      <th>11822</th>\n",
       "      <td>힘들어서 결혼할까봐</td>\n",
       "      <td>도피성 결혼은 하지 않길 바라요.</td>\n",
       "      <td>2</td>\n",
       "    </tr>\n",
       "  </tbody>\n",
       "</table>\n",
       "<p>11823 rows × 3 columns</p>\n",
       "</div>"
      ],
      "text/plain": [
       "                             Q                         A  label\n",
       "0                       12시 땡!                하루가 또 가네요.      0\n",
       "1                  1지망 학교 떨어졌어                 위로해 드립니다.      0\n",
       "2                 3박4일 놀러가고 싶다               여행은 언제나 좋죠.      0\n",
       "3              3박4일 정도 놀러가고 싶다               여행은 언제나 좋죠.      0\n",
       "4                      PPL 심하네                눈살이 찌푸려지죠.      0\n",
       "...                        ...                       ...    ...\n",
       "11818           훔쳐보는 것도 눈치 보임.        티가 나니까 눈치가 보이는 거죠!      2\n",
       "11819           훔쳐보는 것도 눈치 보임.             훔쳐보는 거 티나나봐요.      2\n",
       "11820              흑기사 해주는 짝남.                    설렜겠어요.      2\n",
       "11821  힘든 연애 좋은 연애라는게 무슨 차이일까?  잘 헤어질 수 있는 사이 여부인 거 같아요.      2\n",
       "11822               힘들어서 결혼할까봐        도피성 결혼은 하지 않길 바라요.      2\n",
       "\n",
       "[11823 rows x 3 columns]"
      ]
     },
     "execution_count": 3,
     "metadata": {},
     "output_type": "execute_result"
    }
   ],
   "source": [
    "data"
   ]
  },
  {
   "cell_type": "code",
   "execution_count": 4,
   "id": "infinite-nature",
   "metadata": {},
   "outputs": [
    {
     "name": "stdout",
     "output_type": "stream",
     "text": [
      ">>  12시 땡! + 하루가 또 가네요.\n",
      ">>  1지망 학교 떨어졌어 + 위로해 드립니다.\n",
      ">>  3박4일 놀러가고 싶다 + 여행은 언제나 좋죠.\n",
      ">>  3박4일 정도 놀러가고 싶다 + 여행은 언제나 좋죠.\n",
      ">>  PPL 심하네 + 눈살이 찌푸려지죠.\n",
      ">>  SD카드 망가졌어 + 다시 새로 사는 게 마음 편해요.\n",
      ">>  SD카드 안돼 + 다시 새로 사는 게 마음 편해요.\n",
      ">>  SNS 맞팔 왜 안하지ㅠㅠ + 잘 모르고 있을 수도 있어요.\n",
      ">>  SNS 시간낭비인 거 아는데 매일 하는 중 + 시간을 정하고 해보세요.\n",
      ">>  SNS 시간낭비인데 자꾸 보게됨 + 시간을 정하고 해보세요.\n",
      ">>  SNS보면 나만 빼고 다 행복해보여 + 자랑하는 자리니까요.\n",
      ">>  가끔 궁금해 + 그 사람도 그럴 거예요.\n",
      ">>  가끔 뭐하는지 궁금해 + 그 사람도 그럴 거예요.\n",
      ">>  가끔은 혼자인게 좋다 + 혼자를 즐기세요.\n",
      ">>  가난한 자의 설움 + 돈은 다시 들어올 거예요.\n",
      ">>  가만 있어도 땀난다 + 땀을 식혀주세요.\n",
      ">>  가상화폐 쫄딱 망함 + 어서 잊고 새출발 하세요.\n",
      ">>  가스불 켜고 나갔어 + 빨리 집에 돌아가서 끄고 나오세요.\n",
      ">>  가스불 켜놓고 나온거 같아 + 빨리 집에 돌아가서 끄고 나오세요.\n",
      ">>  가스비 너무 많이 나왔다. + 다음 달에는 더 절약해봐요.\n"
     ]
    }
   ],
   "source": [
    "# data check\n",
    "src = []\n",
    "tgt = []\n",
    "for s,t in zip(data['Q'],data['A']):\n",
    "    src.append(str(s))\n",
    "    tgt.append(str(t))\n",
    "\n",
    "for s,t in zip(src[:20],tgt[:20]):\n",
    "    print(\">> \", s, \"+\",t)\n"
   ]
  },
  {
   "cell_type": "markdown",
   "id": "ecological-comparative",
   "metadata": {},
   "source": [
    "### 데이터 전처리\n",
    "영문자를 소문자로 변환 및 기본 알파벳을 제외한 나머지 제거   \n",
    "중복 제거 및 토큰화하기 및 사전 구축"
   ]
  },
  {
   "cell_type": "code",
   "execution_count": 5,
   "id": "recorded-wallet",
   "metadata": {},
   "outputs": [],
   "source": [
    "def preprocess_sentence(sentence):\n",
    "    sentence = sentence.lower().strip()\n",
    "\n",
    "    sentence = re.sub(r\"([?.!,])\", r\" \\1 \", sentence)\n",
    "    sentence = re.sub(r'[\" \"]+', \" \", sentence)\n",
    "    sentence = re.sub(r\"[^0-9ㄱ-ㅎㅏ-ㅣ가-힣a-zA-Z?.!,]+\", \" \", sentence)\n",
    "\n",
    "    sentence = sentence.strip()\n",
    "    \n",
    "    return sentence"
   ]
  },
  {
   "cell_type": "code",
   "execution_count": 6,
   "id": "sunrise-regular",
   "metadata": {},
   "outputs": [
    {
     "name": "stdout",
     "output_type": "stream",
     "text": [
      "[2057, 209, 2581, 105] [264, 9, 136, 9, 39, 4]\n",
      "[284, 3559, 599, 1043, 13] [624, 17, 1492, 4]\n",
      "[279, 2058, 480, 65, 271, 261, 9, 11, 44, 35] [275, 16, 672, 10, 34, 4]\n",
      "[3560, 1126, 36] [5180, 5, 5181, 19, 34, 4]\n",
      "[3561, 1535, 3562, 13] [121, 2000, 188, 6, 24, 51, 5182, 4]\n",
      "[544, 190, 1044, 132, 42, 7, 19, 627] [57, 116, 11, 15, 8, 38, 23, 15, 30, 4]\n",
      "[544, 73, 1536, 102, 14, 21, 46, 412, 7, 6, 146] [73, 8, 2452, 11, 17, 18, 12, 4]\n",
      "[544, 18, 37, 22, 66, 1127, 11, 35, 152, 17, 521] [2864, 7, 6, 846, 254, 4]\n",
      "[494, 318, 17] [90, 27, 23, 217, 14, 28, 4]\n",
      "[494, 16, 180, 102, 24, 10, 35] [180, 31, 969, 12, 4]\n",
      "[3563, 33, 206, 40, 3564] [266, 16, 121, 3278, 14, 28, 4]\n",
      "[3565, 15, 239, 2059, 1757] [2059, 8, 3279, 56, 12, 4]\n",
      "[3566, 3567, 3568, 2582] [291, 123, 11, 513, 1162, 7, 12, 4]\n",
      "[2060, 1045, 1758, 11, 1537, 13] [523, 228, 26, 844, 143, 982, 11, 562, 12, 4]\n",
      "[2060, 325, 54, 78, 825, 35, 4] [424, 140, 26, 6, 67, 1873, 17, 49, 4]\n",
      "[2060, 325, 3569, 863, 1128, 25, 13] [608, 7, 24, 707, 105]\n",
      "[454, 436, 33, 81, 534, 20] [454, 436, 33, 73, 16, 106, 5, 84, 4, 380, 167, 305, 8, 405, 11, 181, 7, 1067, 73, 8, 1536, 7, 19, 113, 4]\n",
      "[600, 275, 9, 62, 93, 59, 13] [1075, 600, 5, 445, 51, 26, 367, 6, 281, 76, 9, 18, 12, 4]\n",
      "[600, 15, 13, 20] [99, 31, 243, 13, 550, 27, 8, 429, 322, 230, 99, 129, 208, 17, 56, 6, 27, 8, 45, 93, 47, 7, 11, 15, 30]\n",
      "[600, 1538, 275, 783, 4] [67, 3280, 790, 9, 55, 25, 39, 4]\n"
     ]
    }
   ],
   "source": [
    "# using konlpy\n",
    "vocab_size = 20000\n",
    "from konlpy.tag import Mecab\n",
    "from collections import Counter\n",
    "tokenizer = Mecab()\n",
    "max_len = 50\n",
    "\n",
    "def build_corpus(src, tgt, l, num_words=vocab_size, dup=0):\n",
    "    if dup == 0:\n",
    "        sen_idx = {}\n",
    "        src_u = []\n",
    "        tgt_u = []\n",
    "\n",
    "        for sen1,sen2 in zip(src,tgt):\n",
    "            if sen1 not in sen_idx:\n",
    "                sen_idx[sen1] = 1\n",
    "                src_u.append(sen1)\n",
    "                tgt_u.append(sen2)\n",
    "\n",
    "        sen_idx = {}\n",
    "        src = []\n",
    "        tgt = []\n",
    "\n",
    "        for sen1,sen2 in zip(src_u,tgt_u):\n",
    "            if sen2 not in sen_idx:\n",
    "                sen_idx[sen2] = 1\n",
    "                src.append(sen1)\n",
    "                tgt.append(sen2)\n",
    "\n",
    "    \n",
    "    \n",
    "    src_p = []\n",
    "    tgt_p = []\n",
    "    for s,t in zip(src,tgt):\n",
    "        src_p.append(preprocess_sentence(s))\n",
    "        tgt_p.append(preprocess_sentence(t))\n",
    "    \n",
    "    src_tok = []\n",
    "    tgt_tok = []\n",
    "    word_tok = []\n",
    "    \n",
    "    for s in src_p:\n",
    "        tmp = tokenizer.morphs(s)\n",
    "        src_tok.append(tmp)\n",
    "        word_tok.append(tmp)\n",
    "    \n",
    "    for t in tgt_p:\n",
    "        tmp = tokenizer.morphs(t)\n",
    "        tgt_tok.append(tmp)\n",
    "        word_tok.append(tmp)\n",
    "        \n",
    "    words = np.concatenate(word_tok).tolist()\n",
    "    counter = Counter(words)\n",
    "    counter = counter.most_common(num_words-4)\n",
    "    vocab = ['<PAD>', '<BOS>', '<UNK>', '<EOS>'] + [key for key, _ in counter]\n",
    "    # 사전 구성\n",
    "    word_to_index = {word:index for index, word in enumerate(vocab)}\n",
    "\n",
    "    def wordlist_to_indexlist(wordlist):\n",
    "        return [word_to_index[word] if word in word_to_index else word_to_index['<UNK>'] for word in wordlist]\n",
    "    # 변환 text to index\n",
    "    src_data = list(map(wordlist_to_indexlist, src_tok))\n",
    "    tgt_data = list(map(wordlist_to_indexlist, tgt_tok))\n",
    "    \n",
    "    src_l = []\n",
    "    tgt_l = []\n",
    "    \n",
    "    for s,t in zip(src_data,tgt_data):\n",
    "        if len(s) <= l and len(t) <= l:\n",
    "            src_l.append(s)\n",
    "            tgt_l.append(t)\n",
    "            \n",
    "    \n",
    "    \n",
    "    return src_l, tgt_l, word_to_index\n",
    "\n",
    "que_corpus, ans_corpus, word_to_index = build_corpus(src,tgt,max_len)\n",
    "for q,a in zip(que_corpus[:20], ans_corpus[:20]):\n",
    "    print(q, a)"
   ]
  },
  {
   "cell_type": "code",
   "execution_count": 7,
   "id": "unique-responsibility",
   "metadata": {},
   "outputs": [],
   "source": [
    "index_to_word = {index:word for word, index in word_to_index.items()}"
   ]
  },
  {
   "cell_type": "markdown",
   "id": "possible-harmony",
   "metadata": {},
   "source": [
    "### Augmentation\n",
    "wiki data를 이용하여 훈련시킨 word2vec을 이용하여 데이터를 augmentation한다.   \n",
    "총 데이터가 30000개 정도가 되도록 한다.   "
   ]
  },
  {
   "cell_type": "code",
   "execution_count": 8,
   "id": "chinese-homework",
   "metadata": {},
   "outputs": [
    {
     "name": "stderr",
     "output_type": "stream",
     "text": [
      "/home/aiffel-dj28/anaconda3/envs/aiffel/lib/python3.7/site-packages/gensim/similarities/__init__.py:15: UserWarning: The gensim.similarities.levenshtein submodule is disabled, because the optional Levenshtein package <https://pypi.org/project/python-Levenshtein/> is unavailable. Install Levenhstein (e.g. `pip install python-Levenshtein`) to suppress this warning.\n",
      "  warnings.warn(msg)\n"
     ]
    }
   ],
   "source": [
    "from gensim.models import KeyedVectors\n",
    "wv = KeyedVectors.load(\"w2v_wiki.wv\", mmap='r')"
   ]
  },
  {
   "cell_type": "code",
   "execution_count": 9,
   "id": "gentle-milton",
   "metadata": {},
   "outputs": [],
   "source": [
    "def lexical_sub(sentence, word2vec, top=0):\n",
    "    import random\n",
    "\n",
    "    res = \"\"\n",
    "    toks = sentence.split()\n",
    "    \n",
    "    try:\n",
    "        _from = random.choice(toks)\n",
    "        _to = word2vec.most_similar(_from)[top][0]\n",
    "\n",
    "    except:   # 단어장에 없는 단어\n",
    "        return None\n",
    "\n",
    "    for tok in toks:\n",
    "        if tok is _from: res += _to + \" \"\n",
    "        else: res += tok + \" \"\n",
    "\n",
    "    return res"
   ]
  },
  {
   "cell_type": "code",
   "execution_count": 10,
   "id": "thrown-automation",
   "metadata": {},
   "outputs": [
    {
     "name": "stderr",
     "output_type": "stream",
     "text": [
      "/home/aiffel-dj28/anaconda3/envs/aiffel/lib/python3.7/site-packages/ipykernel_launcher.py:5: TqdmDeprecationWarning: This function will be removed in tqdm==5.0.0\n",
      "Please use `tqdm.notebook.tqdm` instead of `tqdm.tqdm_notebook`\n",
      "  \"\"\"\n"
     ]
    },
    {
     "data": {
      "application/vnd.jupyter.widget-view+json": {
       "model_id": "8f154ff746334b64b71b4d362d0e2b9e",
       "version_major": 2,
       "version_minor": 0
      },
      "text/plain": [
       "  0%|          | 0/7731 [00:00<?, ?it/s]"
      ]
     },
     "metadata": {},
     "output_type": "display_data"
    },
    {
     "name": "stdout",
     "output_type": "stream",
     "text": [
      "['12 시 땡 !', '12 시 땡 !', '12 시 땡 !', '12 시 고광렬 ! ', '12 시 고광렬 ! ', '12 시 고광렬 ! ', '12 시 우스개 ! ', '12 시 우스개 ! ', '12 시 우스개 ! ', '1 지망 학교 떨어졌 어', '1 장래희망 학교 떨어졌 어 ', '3 박 4 일 놀 러 가 고 싶 다', '3 박 4 일 놀 러 가 고 싶 다', '3 박 4 일 놀 러 가 고 싶 다', '3 박 4 일 지스 러 가 고 싶 다 ', '3 박 4 일 지스 러 가 고 싶 다 ', '3 박 4 일 지스 러 가 고 싶 다 ', '3 박 4 일 놀 러 고레 고 싶 다 ', '3 박 4 일 놀 러 고레 고 싶 다 ', '3 박 4 일 놀 러 고레 고 싶 다 ']\n",
      "['12시 땡!', '1지망 학교 떨어졌어', '3박4일 놀러가고 싶다', '3박4일 정도 놀러가고 싶다', 'PPL 심하네', 'SD카드 망가졌어', 'SD카드 안돼', 'SNS 맞팔 왜 안하지ㅠㅠ', 'SNS 시간낭비인 거 아는데 매일 하는 중', 'SNS 시간낭비인데 자꾸 보게됨', 'SNS보면 나만 빼고 다 행복해보여', '가끔 궁금해', '가끔 뭐하는지 궁금해', '가끔은 혼자인게 좋다', '가난한 자의 설움', '가만 있어도 땀난다', '가상화폐 쫄딱 망함', '가스불 켜고 나갔어', '가스불 켜놓고 나온거 같아', '가스비 너무 많이 나왔다.']\n",
      "37636\n"
     ]
    }
   ],
   "source": [
    "# augmentation\n",
    "from tqdm import tqdm_notebook\n",
    "\n",
    "src_corpus = []\n",
    "tgt_corpus = []\n",
    "for idx in tqdm_notebook(range(7731)):\n",
    "    \n",
    "    old_src = []\n",
    "    for w in que_corpus[idx]:\n",
    "        ow = index_to_word[w]\n",
    "        old_src.append(ow)\n",
    "    old_src = ' '.join(old_src)\n",
    "\n",
    "    old_tgt = []\n",
    "    for w in ans_corpus[idx]:\n",
    "        ow = index_to_word[w]\n",
    "        old_tgt.append(ow)\n",
    "    old_tgt = ' '.join(old_tgt)\n",
    "\n",
    "    \n",
    "    new_src = [None]*3\n",
    "    new_tgt = [None]*3\n",
    "    \n",
    "    new_src[0] = old_src\n",
    "    new_tgt[0] = old_tgt\n",
    "    \n",
    "    new_src[1] = lexical_sub(old_src, wv)\n",
    "    new_src[2] = lexical_sub(old_src, wv, 1)\n",
    "#    new_src[3] = lexical_sub(old_src, wv, 2)\n",
    "#    new_src[4] = lexical_sub(old_src, wv, 3)\n",
    "    \n",
    "    new_tgt[1] = lexical_sub(old_tgt, wv)\n",
    "    new_tgt[2] = lexical_sub(old_tgt, wv, 1)\n",
    "#    new_tgt[3] = lexical_sub(old_tgt, wv, 2)\n",
    "#    new_tgt[4] = lexical_sub(old_tgt, wv, 3)\n",
    "    \n",
    "    \n",
    "    for i in new_src:\n",
    "        for j in new_tgt:\n",
    "            if i is not None and j is not None:\n",
    "                src_corpus.append(i)\n",
    "                tgt_corpus.append(j)\n",
    "    \n",
    "    \n",
    "#     if new_src_1 is not None and new_tgt_1 is not None:\n",
    "#         src_corpus.append(new_src_1)\n",
    "#         tgt_corpus.append(new_tgt_1)\n",
    "        \n",
    "#     if new_src_2 is not None and new_tgt_2 is not None:\n",
    "#         src_corpus.append(new_src_2)\n",
    "#         tgt_corpus.append(new_tgt_2)\n",
    "        \n",
    "#     if new_src_3 is not None and new_tgt_3 is not None:\n",
    "#         src_corpus.append(new_src_3)\n",
    "#         tgt_corpus.append(new_tgt_3)\n",
    "        \n",
    "#     if new_src_4 is not None and new_tgt_4 is not None:\n",
    "#         src_corpus.append(new_src_4)\n",
    "#         tgt_corpus.append(new_tgt_4)\n",
    "    \n",
    "print(src_corpus[:20])\n",
    "print(src[:20])\n",
    "print(len(src_corpus))"
   ]
  },
  {
   "cell_type": "markdown",
   "id": "opposite-attendance",
   "metadata": {},
   "source": [
    "### 전처리\n",
    "augmentation한 데이터에 대하여 전처리 후 벡터화하는 과정과 데이터 셋 분리까지 한다."
   ]
  },
  {
   "cell_type": "code",
   "execution_count": 11,
   "id": "internal-switzerland",
   "metadata": {},
   "outputs": [],
   "source": [
    "new_que_corpus, new_ans_corpus, word_to_index = build_corpus(src_corpus,tgt_corpus,max_len,dup=1)"
   ]
  },
  {
   "cell_type": "code",
   "execution_count": 12,
   "id": "dietary-astrology",
   "metadata": {},
   "outputs": [
    {
     "data": {
      "text/plain": [
       "37636"
      ]
     },
     "execution_count": 12,
     "metadata": {},
     "output_type": "execute_result"
    }
   ],
   "source": [
    "len(new_que_corpus)"
   ]
  },
  {
   "cell_type": "code",
   "execution_count": 13,
   "id": "empty-canon",
   "metadata": {},
   "outputs": [],
   "source": [
    "index_to_word = {index:word for word, index in word_to_index.items()}"
   ]
  },
  {
   "cell_type": "code",
   "execution_count": 14,
   "id": "pediatric-sword",
   "metadata": {},
   "outputs": [],
   "source": [
    "ans = []\n",
    "for a in new_ans_corpus:\n",
    "    ans.append([word_to_index[\"<BOS>\"]] + a + [word_to_index[\"<EOS>\"]])"
   ]
  },
  {
   "cell_type": "code",
   "execution_count": 15,
   "id": "light-potential",
   "metadata": {},
   "outputs": [
    {
     "name": "stdout",
     "output_type": "stream",
     "text": [
      "enc_train : 37259 enc_val : 377\n",
      "dec_train : 37259 dec_val : 377\n"
     ]
    }
   ],
   "source": [
    "enc_tensor = tf.keras.preprocessing.sequence.pad_sequences(new_que_corpus, padding='post')\n",
    "dec_tensor = tf.keras.preprocessing.sequence.pad_sequences(ans, padding='post')\n",
    "\n",
    "enc_train, enc_val, dec_train, dec_val = \\\n",
    "train_test_split(enc_tensor, dec_tensor, test_size=0.01)\n",
    "\n",
    "print(\"enc_train :\", len(enc_train), \"enc_val :\", len(enc_val))\n",
    "print(\"dec_train :\", len(dec_train), \"dec_val :\",len(dec_val))"
   ]
  },
  {
   "cell_type": "code",
   "execution_count": 16,
   "id": "synthetic-davis",
   "metadata": {},
   "outputs": [
    {
     "data": {
      "text/plain": [
       "32"
      ]
     },
     "execution_count": 16,
     "metadata": {},
     "output_type": "execute_result"
    }
   ],
   "source": [
    "len(enc_train[0])"
   ]
  },
  {
   "cell_type": "code",
   "execution_count": 17,
   "id": "stupid-appointment",
   "metadata": {},
   "outputs": [
    {
     "data": {
      "text/plain": [
       "42"
      ]
     },
     "execution_count": 17,
     "metadata": {},
     "output_type": "execute_result"
    }
   ],
   "source": [
    "len(dec_train[0])"
   ]
  },
  {
   "cell_type": "markdown",
   "id": "inner-glory",
   "metadata": {},
   "source": [
    "## 2. 모델링 (transformer)"
   ]
  },
  {
   "cell_type": "code",
   "execution_count": 18,
   "id": "worth-thomson",
   "metadata": {},
   "outputs": [
    {
     "name": "stdout",
     "output_type": "stream",
     "text": [
      "슝=3\n"
     ]
    }
   ],
   "source": [
    "def positional_encoding(pos, d_model):\n",
    "    def cal_angle(position, i):\n",
    "        return position / np.power(10000, int(i) / d_model)\n",
    "\n",
    "    def get_posi_angle_vec(position):\n",
    "        return [cal_angle(position, i) for i in range(d_model)]\n",
    "\n",
    "    sinusoid_table = np.array([get_posi_angle_vec(pos_i) for pos_i in range(pos)])\n",
    "\n",
    "    sinusoid_table[:, 0::2] = np.sin(sinusoid_table[:, 0::2])\n",
    "    sinusoid_table[:, 1::2] = np.cos(sinusoid_table[:, 1::2])\n",
    "\n",
    "    return sinusoid_table\n",
    "print(\"슝=3\")"
   ]
  },
  {
   "cell_type": "code",
   "execution_count": 19,
   "id": "meaning-colorado",
   "metadata": {},
   "outputs": [
    {
     "name": "stdout",
     "output_type": "stream",
     "text": [
      "슝=3\n"
     ]
    }
   ],
   "source": [
    "# Mask  생성하기\n",
    "def generate_padding_mask(seq):\n",
    "    seq = tf.cast(tf.math.equal(seq, 0), tf.float32)\n",
    "    return seq[:, tf.newaxis, tf.newaxis, :]\n",
    "\n",
    "def generate_causality_mask(src_len, tgt_len):\n",
    "    mask = 1 - np.cumsum(np.eye(src_len, tgt_len), 0)\n",
    "    return tf.cast(mask, tf.float32)\n",
    "\n",
    "def generate_masks(src, tgt):\n",
    "    enc_mask = generate_padding_mask(src)\n",
    "    dec_mask = generate_padding_mask(tgt)\n",
    "\n",
    "    dec_causality_mask = generate_causality_mask(tgt.shape[1], tgt.shape[1])\n",
    "    dec_mask = tf.maximum(dec_mask, dec_causality_mask)\n",
    "\n",
    "    dec_enc_causality_mask = generate_causality_mask(tgt.shape[1], src.shape[1])\n",
    "    dec_enc_mask = tf.maximum(enc_mask, dec_enc_causality_mask)\n",
    "\n",
    "    return enc_mask, dec_enc_mask, dec_mask\n",
    "print(\"슝=3\")"
   ]
  },
  {
   "cell_type": "code",
   "execution_count": 20,
   "id": "bored-start",
   "metadata": {},
   "outputs": [
    {
     "name": "stdout",
     "output_type": "stream",
     "text": [
      "슝=3\n"
     ]
    }
   ],
   "source": [
    "# Multi Head Attention 구현\n",
    "class MultiHeadAttention(tf.keras.layers.Layer):\n",
    "    def __init__(self, d_model, num_heads):\n",
    "        super(MultiHeadAttention, self).__init__()\n",
    "        self.num_heads = num_heads\n",
    "        self.d_model = d_model\n",
    "\n",
    "        self.depth = d_model // self.num_heads\n",
    "\n",
    "        self.W_q = tf.keras.layers.Dense(d_model)\n",
    "        self.W_k = tf.keras.layers.Dense(d_model)\n",
    "        self.W_v = tf.keras.layers.Dense(d_model)\n",
    "\n",
    "        self.linear = tf.keras.layers.Dense(d_model)\n",
    "\n",
    "    def scaled_dot_product_attention(self, Q, K, V, mask):\n",
    "        d_k = tf.cast(K.shape[-1], tf.float32)\n",
    "        QK = tf.matmul(Q, K, transpose_b=True)\n",
    "\n",
    "        scaled_qk = QK / tf.math.sqrt(d_k)\n",
    "\n",
    "        if mask is not None: scaled_qk += (mask * -1e9)  \n",
    "\n",
    "        attentions = tf.nn.softmax(scaled_qk, axis=-1)\n",
    "        out = tf.matmul(attentions, V)\n",
    "\n",
    "        return out, attentions\n",
    "\n",
    "\n",
    "    def split_heads(self, x):\n",
    "        bsz = x.shape[0]\n",
    "        split_x = tf.reshape(x, (bsz, -1, self.num_heads, self.depth))\n",
    "        split_x = tf.transpose(split_x, perm=[0, 2, 1, 3])\n",
    "\n",
    "        return split_x\n",
    "\n",
    "    def combine_heads(self, x):\n",
    "        bsz = x.shape[0]\n",
    "        combined_x = tf.transpose(x, perm=[0, 2, 1, 3])\n",
    "        combined_x = tf.reshape(combined_x, (bsz, -1, self.d_model))\n",
    "\n",
    "        return combined_x\n",
    "\n",
    "\n",
    "    def call(self, Q, K, V, mask):\n",
    "        WQ = self.W_q(Q)\n",
    "        WK = self.W_k(K)\n",
    "        WV = self.W_v(V)\n",
    "\n",
    "        WQ_splits = self.split_heads(WQ)\n",
    "        WK_splits = self.split_heads(WK)\n",
    "        WV_splits = self.split_heads(WV)\n",
    "\n",
    "        out, attention_weights = self.scaled_dot_product_attention(\n",
    "            WQ_splits, WK_splits, WV_splits, mask)\n",
    "\n",
    "        out = self.combine_heads(out)\n",
    "        out = self.linear(out)\n",
    "\n",
    "        return out, attention_weights\n",
    "print(\"슝=3\")"
   ]
  },
  {
   "cell_type": "code",
   "execution_count": 21,
   "id": "improving-version",
   "metadata": {},
   "outputs": [
    {
     "name": "stdout",
     "output_type": "stream",
     "text": [
      "슝=3\n"
     ]
    }
   ],
   "source": [
    "# Position-wise Feed Forward Network 구현\n",
    "class PoswiseFeedForwardNet(tf.keras.layers.Layer):\n",
    "    def __init__(self, d_model, d_ff):\n",
    "        super(PoswiseFeedForwardNet, self).__init__()\n",
    "        self.d_model = d_model\n",
    "        self.d_ff = d_ff\n",
    "\n",
    "        self.fc1 = tf.keras.layers.Dense(d_ff, activation='relu')\n",
    "        self.fc2 = tf.keras.layers.Dense(d_model)\n",
    "\n",
    "    def call(self, x):\n",
    "        out = self.fc1(x)\n",
    "        out = self.fc2(out)\n",
    "\n",
    "        return out\n",
    "print(\"슝=3\")"
   ]
  },
  {
   "cell_type": "code",
   "execution_count": 22,
   "id": "perceived-salon",
   "metadata": {},
   "outputs": [
    {
     "name": "stdout",
     "output_type": "stream",
     "text": [
      "슝=3\n"
     ]
    }
   ],
   "source": [
    "# Encoder의 레이어 구현\n",
    "class EncoderLayer(tf.keras.layers.Layer):\n",
    "    def __init__(self, d_model, n_heads, d_ff, dropout):\n",
    "        super(EncoderLayer, self).__init__()\n",
    "\n",
    "        self.enc_self_attn = MultiHeadAttention(d_model, n_heads)\n",
    "        self.ffn = PoswiseFeedForwardNet(d_model, d_ff)\n",
    "\n",
    "        self.norm_1 = tf.keras.layers.LayerNormalization(epsilon=1e-6)\n",
    "        self.norm_2 = tf.keras.layers.LayerNormalization(epsilon=1e-6)\n",
    "\n",
    "        self.do = tf.keras.layers.Dropout(dropout)\n",
    "\n",
    "    def call(self, x, mask):\n",
    "\n",
    "        \"\"\"\n",
    "        Multi-Head Attention\n",
    "        \"\"\"\n",
    "        residual = x\n",
    "        out = self.norm_1(x)\n",
    "        out, enc_attn = self.enc_self_attn(out, out, out, mask)\n",
    "        out = self.do(out)\n",
    "        out += residual\n",
    "\n",
    "        \"\"\"\n",
    "        Position-Wise Feed Forward Network\n",
    "        \"\"\"\n",
    "        residual = out\n",
    "        out = self.norm_2(out)\n",
    "        out = self.ffn(out)\n",
    "        out = self.do(out)\n",
    "        out += residual\n",
    "\n",
    "        return out, enc_attn\n",
    "print(\"슝=3\")"
   ]
  },
  {
   "cell_type": "code",
   "execution_count": 23,
   "id": "reduced-listing",
   "metadata": {},
   "outputs": [
    {
     "name": "stdout",
     "output_type": "stream",
     "text": [
      "슝=3\n"
     ]
    }
   ],
   "source": [
    "# Decoder 레이어 구현\n",
    "class DecoderLayer(tf.keras.layers.Layer):\n",
    "    def __init__(self, d_model, num_heads, d_ff, dropout):\n",
    "        super(DecoderLayer, self).__init__()\n",
    "\n",
    "        self.dec_self_attn = MultiHeadAttention(d_model, num_heads)\n",
    "        self.enc_dec_attn = MultiHeadAttention(d_model, num_heads)\n",
    "\n",
    "        self.ffn = PoswiseFeedForwardNet(d_model, d_ff)\n",
    "\n",
    "        self.norm_1 = tf.keras.layers.LayerNormalization(epsilon=1e-6)\n",
    "        self.norm_2 = tf.keras.layers.LayerNormalization(epsilon=1e-6)\n",
    "        self.norm_3 = tf.keras.layers.LayerNormalization(epsilon=1e-6)\n",
    "\n",
    "        self.do = tf.keras.layers.Dropout(dropout)\n",
    "\n",
    "    def call(self, x, enc_out, causality_mask, padding_mask):\n",
    "\n",
    "        \"\"\"\n",
    "        Masked Multi-Head Attention\n",
    "        \"\"\"\n",
    "        residual = x\n",
    "        out = self.norm_1(x)\n",
    "        out, dec_attn = self.dec_self_attn(out, out, out, padding_mask)\n",
    "        out = self.do(out)\n",
    "        out += residual\n",
    "\n",
    "        \"\"\"\n",
    "        Multi-Head Attention\n",
    "        \"\"\"\n",
    "        residual = out\n",
    "        out = self.norm_2(out)\n",
    "        out, dec_enc_attn = self.dec_self_attn(out, enc_out, enc_out, causality_mask)\n",
    "        out = self.do(out)\n",
    "        out += residual\n",
    "\n",
    "        \"\"\"\n",
    "        Position-Wise Feed Forward Network\n",
    "        \"\"\"\n",
    "        residual = out\n",
    "        out = self.norm_3(out)\n",
    "        out = self.ffn(out)\n",
    "        out = self.do(out)\n",
    "        out += residual\n",
    "\n",
    "        return out, dec_attn, dec_enc_attn\n",
    "print(\"슝=3\")"
   ]
  },
  {
   "cell_type": "code",
   "execution_count": 24,
   "id": "decent-oxide",
   "metadata": {},
   "outputs": [
    {
     "name": "stdout",
     "output_type": "stream",
     "text": [
      "슝=3\n"
     ]
    }
   ],
   "source": [
    "# Encoder 구현\n",
    "class Encoder(tf.keras.Model):\n",
    "    def __init__(self,\n",
    "                    n_layers,\n",
    "                    d_model,\n",
    "                    n_heads,\n",
    "                    d_ff,\n",
    "                    dropout):\n",
    "        super(Encoder, self).__init__()\n",
    "        self.n_layers = n_layers\n",
    "        self.enc_layers = [EncoderLayer(d_model, n_heads, d_ff, dropout) \n",
    "                        for _ in range(n_layers)]\n",
    "\n",
    "        self.do = tf.keras.layers.Dropout(dropout)\n",
    "\n",
    "    def call(self, x, mask):\n",
    "        out = x\n",
    "\n",
    "        enc_attns = list()\n",
    "        for i in range(self.n_layers):\n",
    "            out, enc_attn = self.enc_layers[i](out, mask)\n",
    "            enc_attns.append(enc_attn)\n",
    "\n",
    "        return out, enc_attns\n",
    "print(\"슝=3\")"
   ]
  },
  {
   "cell_type": "code",
   "execution_count": 25,
   "id": "behavioral-madagascar",
   "metadata": {},
   "outputs": [
    {
     "name": "stdout",
     "output_type": "stream",
     "text": [
      "슝=3\n"
     ]
    }
   ],
   "source": [
    "# Decoder 구현\n",
    "class Decoder(tf.keras.Model):\n",
    "    def __init__(self,\n",
    "                    n_layers,\n",
    "                    d_model,\n",
    "                    n_heads,\n",
    "                    d_ff,\n",
    "                    dropout):\n",
    "        super(Decoder, self).__init__()\n",
    "        self.n_layers = n_layers\n",
    "        self.dec_layers = [DecoderLayer(d_model, n_heads, d_ff, dropout) \n",
    "                            for _ in range(n_layers)]\n",
    "\n",
    "\n",
    "    def call(self, x, enc_out, causality_mask, padding_mask):\n",
    "        out = x\n",
    "\n",
    "        dec_attns = list()\n",
    "        dec_enc_attns = list()\n",
    "        for i in range(self.n_layers):\n",
    "            out, dec_attn, dec_enc_attn = \\\n",
    "            self.dec_layers[i](out, enc_out, causality_mask, padding_mask)\n",
    "\n",
    "            dec_attns.append(dec_attn)\n",
    "            dec_enc_attns.append(dec_enc_attn)\n",
    "\n",
    "        return out, dec_attns, dec_enc_attns\n",
    "print(\"슝=3\")"
   ]
  },
  {
   "cell_type": "code",
   "execution_count": 26,
   "id": "composite-amplifier",
   "metadata": {},
   "outputs": [
    {
     "name": "stdout",
     "output_type": "stream",
     "text": [
      "슝=3\n"
     ]
    }
   ],
   "source": [
    "class Transformer(tf.keras.Model):\n",
    "    def __init__(self,\n",
    "                    n_layers,\n",
    "                    d_model,\n",
    "                    n_heads,\n",
    "                    d_ff,\n",
    "                    src_vocab_size,\n",
    "                    tgt_vocab_size,\n",
    "                    pos_len,\n",
    "                    dropout=0.2,\n",
    "                    shared_fc=True,\n",
    "                    shared_emb=False):\n",
    "        super(Transformer, self).__init__()\n",
    "\n",
    "        self.d_model = tf.cast(d_model, tf.float32)\n",
    "\n",
    "        if shared_emb:\n",
    "            self.enc_emb = self.dec_emb = \\\n",
    "            tf.keras.layers.Embedding(src_vocab_size, d_model)\n",
    "        else:\n",
    "            self.enc_emb = tf.keras.layers.Embedding(src_vocab_size, d_model)\n",
    "            self.dec_emb = tf.keras.layers.Embedding(tgt_vocab_size, d_model)\n",
    "\n",
    "        self.pos_encoding = positional_encoding(pos_len, d_model)\n",
    "        self.do = tf.keras.layers.Dropout(dropout)\n",
    "\n",
    "        self.encoder = Encoder(n_layers, d_model, n_heads, d_ff, dropout)\n",
    "        self.decoder = Decoder(n_layers, d_model, n_heads, d_ff, dropout)\n",
    "\n",
    "        self.fc = tf.keras.layers.Dense(tgt_vocab_size)\n",
    "\n",
    "        self.shared_fc = shared_fc\n",
    "\n",
    "        if shared_fc:\n",
    "            self.fc.set_weights(tf.transpose(self.dec_emb.weights))\n",
    "\n",
    "    def embedding(self, emb, x):\n",
    "        seq_len = x.shape[1]\n",
    "\n",
    "        out = emb(x)\n",
    "\n",
    "        if self.shared_fc: out *= tf.math.sqrt(self.d_model)\n",
    "\n",
    "        out += self.pos_encoding[np.newaxis, ...][:, :seq_len, :]\n",
    "        out = self.do(out)\n",
    "\n",
    "        return out\n",
    "\n",
    "\n",
    "    def call(self, enc_in, dec_in, enc_mask, causality_mask, dec_mask):\n",
    "        enc_in = self.embedding(self.enc_emb, enc_in)\n",
    "        dec_in = self.embedding(self.dec_emb, dec_in)\n",
    "\n",
    "        enc_out, enc_attns = self.encoder(enc_in, enc_mask)\n",
    "\n",
    "        dec_out, dec_attns, dec_enc_attns = \\\n",
    "        self.decoder(dec_in, enc_out, causality_mask, dec_mask)\n",
    "\n",
    "        logits = self.fc(dec_out)\n",
    "\n",
    "        return logits, enc_attns, dec_attns, dec_enc_attns\n",
    "\n",
    "print(\"슝=3\")"
   ]
  },
  {
   "cell_type": "markdown",
   "id": "rising-anaheim",
   "metadata": {},
   "source": [
    "## 3. 모델 훈련\n",
    "transformer 모델을 훈련시킨다.   \n",
    "하이퍼 파라미터는 아래와 같다.   \n",
    "n_layers=2   \n",
    "d_model=128   \n",
    "n_heads=8   \n",
    "d_ff=256   "
   ]
  },
  {
   "cell_type": "code",
   "execution_count": 27,
   "id": "advance-colleague",
   "metadata": {},
   "outputs": [
    {
     "name": "stdout",
     "output_type": "stream",
     "text": [
      "슝=3\n"
     ]
    }
   ],
   "source": [
    "# 주어진 하이퍼파라미터로 Transformer 인스턴스 생성\n",
    "transformer = Transformer(\n",
    "    n_layers=2,\n",
    "    d_model=128,\n",
    "    n_heads=8,\n",
    "    d_ff=256,\n",
    "    src_vocab_size=vocab_size,\n",
    "    tgt_vocab_size=vocab_size,\n",
    "    pos_len=42,\n",
    "    dropout=0.3,\n",
    "    shared_fc=True,\n",
    "    shared_emb=True)\n",
    "\n",
    "d_model = 128\n",
    "print(\"슝=3\")"
   ]
  },
  {
   "cell_type": "code",
   "execution_count": 28,
   "id": "finished-destruction",
   "metadata": {},
   "outputs": [
    {
     "name": "stdout",
     "output_type": "stream",
     "text": [
      "슝=3\n"
     ]
    }
   ],
   "source": [
    "# Learning Rate Scheduler 구현\n",
    "class LearningRateScheduler(tf.keras.optimizers.schedules.LearningRateSchedule):\n",
    "    def __init__(self, d_model, warmup_steps=4000):\n",
    "        super(LearningRateScheduler, self).__init__()\n",
    "\n",
    "        self.d_model = d_model\n",
    "        self.warmup_steps = warmup_steps\n",
    "\n",
    "    def __call__(self, step):\n",
    "        arg1 = step ** -0.5\n",
    "        arg2 = step * (self.warmup_steps ** -1.5)\n",
    "\n",
    "        return (self.d_model ** -0.5) * tf.math.minimum(arg1, arg2)\n",
    "\n",
    "print(\"슝=3\")"
   ]
  },
  {
   "cell_type": "code",
   "execution_count": 29,
   "id": "subjective-colony",
   "metadata": {},
   "outputs": [
    {
     "name": "stdout",
     "output_type": "stream",
     "text": [
      "슝=3\n"
     ]
    }
   ],
   "source": [
    "# Learning Rate 인스턴스 선언 & Optimizer 구현\n",
    "learning_rate = LearningRateScheduler(d_model)\n",
    "\n",
    "optimizer = tf.keras.optimizers.Adam(learning_rate,\n",
    "                                        beta_1=0.9,\n",
    "                                        beta_2=0.98, \n",
    "                                        epsilon=1e-9)\n",
    "print(\"슝=3\")"
   ]
  },
  {
   "cell_type": "code",
   "execution_count": 30,
   "id": "handmade-feelings",
   "metadata": {},
   "outputs": [
    {
     "name": "stdout",
     "output_type": "stream",
     "text": [
      "슝=3\n"
     ]
    }
   ],
   "source": [
    "# Loss Function 정의\n",
    "loss_object = tf.keras.losses.SparseCategoricalCrossentropy(\n",
    "    from_logits=True, reduction='none')\n",
    "\n",
    "def loss_function(real, pred):\n",
    "    mask = tf.math.logical_not(tf.math.equal(real, 0))\n",
    "    loss_ = loss_object(real, pred)\n",
    "\n",
    "    mask = tf.cast(mask, dtype=loss_.dtype)\n",
    "    loss_ *= mask\n",
    "\n",
    "    return tf.reduce_sum(loss_)/tf.reduce_sum(mask)\n",
    "\n",
    "print(\"슝=3\")"
   ]
  },
  {
   "cell_type": "code",
   "execution_count": 31,
   "id": "architectural-chile",
   "metadata": {},
   "outputs": [
    {
     "name": "stdout",
     "output_type": "stream",
     "text": [
      "슝=3\n"
     ]
    }
   ],
   "source": [
    "# Train Step 정의\n",
    "@tf.function()\n",
    "def train_step(src, tgt, model, optimizer):\n",
    "    tgt_in = tgt[:, :-1]  # Decoder의 input\n",
    "    gold = tgt[:, 1:]     # Decoder의 output과 비교하기 위해 right shift를 통해 생성한 최종 타겟\n",
    "\n",
    "    enc_mask, dec_enc_mask, dec_mask = generate_masks(src, tgt_in)\n",
    "\n",
    "    with tf.GradientTape() as tape:\n",
    "        predictions, enc_attns, dec_attns, dec_enc_attns = \\\n",
    "        model(src, tgt_in, enc_mask, dec_enc_mask, dec_mask)\n",
    "        loss = loss_function(gold, predictions)\n",
    "\n",
    "    gradients = tape.gradient(loss, model.trainable_variables)    \n",
    "    optimizer.apply_gradients(zip(gradients, model.trainable_variables))\n",
    "\n",
    "    return loss, enc_attns, dec_attns, dec_enc_attns\n",
    "\n",
    "print(\"슝=3\")"
   ]
  },
  {
   "cell_type": "code",
   "execution_count": 56,
   "id": "confidential-lafayette",
   "metadata": {},
   "outputs": [
    {
     "name": "stderr",
     "output_type": "stream",
     "text": [
      "/home/aiffel-dj28/anaconda3/envs/aiffel/lib/python3.7/site-packages/ipykernel_launcher.py:12: TqdmDeprecationWarning: This function will be removed in tqdm==5.0.0\n",
      "Please use `tqdm.notebook.tqdm` instead of `tqdm.tqdm_notebook`\n",
      "  if sys.path[0] == '':\n"
     ]
    },
    {
     "data": {
      "application/vnd.jupyter.widget-view+json": {
       "model_id": "266ce10c1a574f4b912aa5e7cf0d7a04",
       "version_major": 2,
       "version_minor": 0
      },
      "text/plain": [
       "  0%|          | 0/583 [00:00<?, ?it/s]"
      ]
     },
     "metadata": {},
     "output_type": "display_data"
    },
    {
     "data": {
      "application/vnd.jupyter.widget-view+json": {
       "model_id": "df1e66dc991c4872ae179502cd6dceaa",
       "version_major": 2,
       "version_minor": 0
      },
      "text/plain": [
       "  0%|          | 0/583 [00:00<?, ?it/s]"
      ]
     },
     "metadata": {},
     "output_type": "display_data"
    },
    {
     "data": {
      "application/vnd.jupyter.widget-view+json": {
       "model_id": "cb6e71c87c434b39800434c4af15d0bc",
       "version_major": 2,
       "version_minor": 0
      },
      "text/plain": [
       "  0%|          | 0/583 [00:00<?, ?it/s]"
      ]
     },
     "metadata": {},
     "output_type": "display_data"
    },
    {
     "data": {
      "application/vnd.jupyter.widget-view+json": {
       "model_id": "6b0f2da161f041adbecf261ae115c2a3",
       "version_major": 2,
       "version_minor": 0
      },
      "text/plain": [
       "  0%|          | 0/583 [00:00<?, ?it/s]"
      ]
     },
     "metadata": {},
     "output_type": "display_data"
    },
    {
     "data": {
      "application/vnd.jupyter.widget-view+json": {
       "model_id": "c8db392472e642c996e3ca06ec7bd3cc",
       "version_major": 2,
       "version_minor": 0
      },
      "text/plain": [
       "  0%|          | 0/583 [00:00<?, ?it/s]"
      ]
     },
     "metadata": {},
     "output_type": "display_data"
    }
   ],
   "source": [
    "# 훈련시키기\n",
    "from tqdm import tqdm_notebook \n",
    "\n",
    "BATCH_SIZE = 64\n",
    "EPOCHS = 5\n",
    "\n",
    "for epoch in range(EPOCHS):\n",
    "    total_loss = 0\n",
    "\n",
    "    idx_list = list(range(0, enc_train.shape[0], BATCH_SIZE))\n",
    "    random.shuffle(idx_list)\n",
    "    t = tqdm_notebook(idx_list)\n",
    "\n",
    "    for (batch, idx) in enumerate(t):\n",
    "        batch_loss, enc_attns, dec_attns, dec_enc_attns = \\\n",
    "        train_step(enc_train[idx:idx+BATCH_SIZE],\n",
    "                    dec_train[idx:idx+BATCH_SIZE],\n",
    "                    transformer,\n",
    "                    optimizer)\n",
    "\n",
    "        total_loss += batch_loss\n",
    "\n",
    "        t.set_description_str('Epoch %2d' % (epoch + 1))\n",
    "        t.set_postfix_str('Loss %.4f' % (total_loss.numpy() / (batch + 1)))"
   ]
  },
  {
   "cell_type": "markdown",
   "id": "appreciated-happening",
   "metadata": {},
   "source": [
    "## 4. 모델 평가\n",
    "챗봇 모델을 평가하기 위하여 bleu 점수를 이용한다."
   ]
  },
  {
   "cell_type": "code",
   "execution_count": 57,
   "id": "external-brief",
   "metadata": {},
   "outputs": [
    {
     "name": "stdout",
     "output_type": "stream",
     "text": [
      "원문: ['많', '은', '자연어', '처리', '연구자', '들', '이', '트랜스포머', '를', '선호', '한다']\n",
      "번역문: ['적', '은', '자연어', '학', '개발자', '들', '가', '트랜스포머', '을', '선호', '한다', '요']\n",
      "BLEU Score: 8.190757052088229e-155\n"
     ]
    }
   ],
   "source": [
    "# !pip install nltk # nltk가 설치되어 있지 않은 경우 주석 해제\n",
    "from nltk.translate.bleu_score import sentence_bleu\n",
    "\n",
    "reference = \"많 은 자연어 처리 연구자 들 이 트랜스포머 를 선호 한다\".split()\n",
    "candidate = \"적 은 자연어 학 개발자 들 가 트랜스포머 을 선호 한다 요\".split()\n",
    "\n",
    "print(\"원문:\", reference)\n",
    "print(\"번역문:\", candidate)\n",
    "print(\"BLEU Score:\", sentence_bleu([reference], candidate))"
   ]
  },
  {
   "cell_type": "code",
   "execution_count": 58,
   "id": "racial-beaver",
   "metadata": {},
   "outputs": [
    {
     "name": "stdout",
     "output_type": "stream",
     "text": [
      "1-gram: 0.5\n",
      "2-gram: 0.18181818181818182\n",
      "3-gram: 2.2250738585072626e-308\n",
      "4-gram: 2.2250738585072626e-308\n"
     ]
    }
   ],
   "source": [
    "print(\"1-gram:\", sentence_bleu([reference], candidate, weights=[1, 0, 0, 0]))\n",
    "print(\"2-gram:\", sentence_bleu([reference], candidate, weights=[0, 1, 0, 0]))\n",
    "print(\"3-gram:\", sentence_bleu([reference], candidate, weights=[0, 0, 1, 0]))\n",
    "print(\"4-gram:\", sentence_bleu([reference], candidate, weights=[0, 0, 0, 1]))"
   ]
  },
  {
   "cell_type": "code",
   "execution_count": 59,
   "id": "efficient-catholic",
   "metadata": {},
   "outputs": [
    {
     "name": "stdout",
     "output_type": "stream",
     "text": [
      "BLEU-1: 0.5\n",
      "BLEU-2: 0.18181818181818182\n",
      "BLEU-3: 0.010000000000000004\n",
      "BLEU-4: 0.011111111111111112\n",
      "\n",
      "BLEU-Total: 0.05637560315259291\n"
     ]
    }
   ],
   "source": [
    "from nltk.translate.bleu_score import SmoothingFunction\n",
    "\n",
    "def calculate_bleu(reference, candidate, weights=[0.25, 0.25, 0.25, 0.25]):\n",
    "    return sentence_bleu([reference],\n",
    "                         candidate,\n",
    "                         weights=weights,\n",
    "                         smoothing_function=SmoothingFunction().method1)  # smoothing_function 적용\n",
    "\n",
    "print(\"BLEU-1:\", calculate_bleu(reference, candidate, weights=[1, 0, 0, 0]))\n",
    "print(\"BLEU-2:\", calculate_bleu(reference, candidate, weights=[0, 1, 0, 0]))\n",
    "print(\"BLEU-3:\", calculate_bleu(reference, candidate, weights=[0, 0, 1, 0]))\n",
    "print(\"BLEU-4:\", calculate_bleu(reference, candidate, weights=[0, 0, 0, 1]))\n",
    "\n",
    "print(\"\\nBLEU-Total:\", calculate_bleu(reference, candidate))"
   ]
  },
  {
   "cell_type": "markdown",
   "id": "vertical-donna",
   "metadata": {},
   "source": [
    "### bleu 평가 및 결과\n",
    "위에서 나눈 데이터를 이용하여 bleu 점수를 계산한다.(0.55 정도)   \n",
    "그리고 예제에 대해서 결과도 확인한다.   "
   ]
  },
  {
   "cell_type": "code",
   "execution_count": 60,
   "id": "meaning-limitation",
   "metadata": {},
   "outputs": [
    {
     "name": "stdout",
     "output_type": "stream",
     "text": [
      "슝=3\n"
     ]
    }
   ],
   "source": [
    "# translate()\n",
    "\n",
    "def evaluate(sentence, model, src_tokenizer, tgt_tokenizer):\n",
    "    sentence = preprocess_sentence(sentence)\n",
    "    \n",
    "    print(sentence)\n",
    "    s = src_tokenizer.morphs(sentence)\n",
    "    tokens = []\n",
    "    for i in s:\n",
    "        tokens.append(word_to_index[i])\n",
    "    pieces = tokens        \n",
    "        \n",
    "#     pieces = src_tokenizer.encode_as_pieces(sentence)\n",
    "#     tokens = src_tokenizer.encode_as_ids(sentence)\n",
    "        \n",
    "    _input = tf.keras.preprocessing.sequence.pad_sequences([tokens],\n",
    "                                                           maxlen=enc_train.shape[-1],\n",
    "                                                           padding='post')\n",
    "    \n",
    "    ids = []\n",
    "    output = tf.expand_dims([1], 0)\n",
    "    for i in range(dec_train.shape[-1]):\n",
    "        enc_padding_mask, combined_mask, dec_padding_mask = \\\n",
    "        generate_masks(_input, output)\n",
    "\n",
    "        predictions, enc_attns, dec_attns, dec_enc_attns =\\\n",
    "        model(_input, \n",
    "              output,\n",
    "              enc_padding_mask,\n",
    "              combined_mask,\n",
    "              dec_padding_mask)\n",
    "\n",
    "        predicted_id = \\\n",
    "        tf.argmax(tf.math.softmax(predictions, axis=-1)[0, -1]).numpy().item()\n",
    "\n",
    "        if predicted_id == 3:\n",
    "            #result = tgt_tokenizer.decode_ids(ids)\n",
    "            result = []\n",
    "            for i in ids:\n",
    "                result.append(index_to_word[i])\n",
    "            print(result)\n",
    "            \n",
    "            return pieces, result, enc_attns, dec_attns, dec_enc_attns\n",
    "\n",
    "        ids.append(predicted_id)\n",
    "        output = tf.concat([output, tf.expand_dims([predicted_id], 0)], axis=-1)\n",
    "\n",
    "    #result = tgt_tokenizer.decode_ids(ids)\n",
    "    result = ''\n",
    "    for i in ids:\n",
    "        result += index_to_word[i]\n",
    "    \n",
    "    return pieces, result, enc_attns, dec_attns, dec_enc_attns\n",
    "\n",
    "def translate(sentence, model, src_tokenizer, tgt_tokenizer):\n",
    "    pieces, result, enc_attns, dec_attns, dec_enc_attns = \\\n",
    "    evaluate(sentence, model, src_tokenizer, tgt_tokenizer)\n",
    "\n",
    "    return result\n",
    "print(\"슝=3\")"
   ]
  },
  {
   "cell_type": "code",
   "execution_count": 61,
   "id": "ideal-atmosphere",
   "metadata": {},
   "outputs": [
    {
     "name": "stdout",
     "output_type": "stream",
     "text": [
      "슝=3\n"
     ]
    }
   ],
   "source": [
    "def eval_bleu(src_corpus, tgt_corpus, verbose=True):\n",
    "    total_score = 0.0\n",
    "    sample_size = len(tgt_corpus)\n",
    "\n",
    "    for idx in tqdm_notebook(range(sample_size)):\n",
    "        src_tokens = src_corpus[idx]\n",
    "        tgt_tokens = tgt_corpus[idx]\n",
    "\n",
    "#         src_sentence = tokenizer.decode_ids((src_tokens.tolist()))\n",
    "#         tgt_sentence = tokenizer.decode_ids((tgt_tokens.tolist()))\n",
    "\n",
    "        src_sentence = []\n",
    "        tgt_sentence = []\n",
    "        \n",
    "        for w in src_tokens:\n",
    "            if w != 0:\n",
    "                ow = index_to_word[w]\n",
    "                src_sentence.append(ow)\n",
    "\n",
    "        src_sentence = ' '.join(src_sentence)\n",
    "        \n",
    "        for w in tgt_tokens:\n",
    "            if w != 0 and w != 1 and w != 3:\n",
    "                ow = index_to_word[w]\n",
    "                tgt_sentence.append(ow)\n",
    "   \n",
    "        tgt_sentence = ' '.join(tgt_sentence)\n",
    "        \n",
    "        reference = preprocess_sentence(tgt_sentence).split()\n",
    "        candidate = translate(src_sentence, transformer, tokenizer, tokenizer)\n",
    "        \n",
    "        score = sentence_bleu([reference], candidate,\n",
    "                              smoothing_function=SmoothingFunction().method1)\n",
    "        total_score += score\n",
    "\n",
    "        if verbose:\n",
    "            print(\"Source Sentence: \", src_sentence)\n",
    "            print(\"Model Prediction: \", candidate)\n",
    "            print(\"Real: \", reference)\n",
    "            print(\"Score: %lf\\n\" % score)\n",
    "\n",
    "    print(\"Num of Sample:\", sample_size)\n",
    "    print(\"Total Score:\", total_score / sample_size)\n",
    "print(\"슝=3\")"
   ]
  },
  {
   "cell_type": "code",
   "execution_count": 62,
   "id": "independent-instrument",
   "metadata": {},
   "outputs": [
    {
     "name": "stderr",
     "output_type": "stream",
     "text": [
      "/home/aiffel-dj28/anaconda3/envs/aiffel/lib/python3.7/site-packages/ipykernel_launcher.py:5: TqdmDeprecationWarning: This function will be removed in tqdm==5.0.0\n",
      "Please use `tqdm.notebook.tqdm` instead of `tqdm.tqdm_notebook`\n",
      "  \"\"\"\n"
     ]
    },
    {
     "data": {
      "application/vnd.jupyter.widget-view+json": {
       "model_id": "4186f7af132e4991bd8adf881809cd20",
       "version_major": 2,
       "version_minor": 0
      },
      "text/plain": [
       "  0%|          | 0/3 [00:00<?, ?it/s]"
      ]
     },
     "metadata": {},
     "output_type": "display_data"
    },
    {
     "name": "stdout",
     "output_type": "stream",
     "text": [
      "돈 어디 갔 지\n",
      "['퍼', '가', '쇼키']\n",
      "Source Sentence:  돈 어디 갔 지\n",
      "Model Prediction:  ['퍼', '가', '쇼키']\n",
      "Real:  ['퍼', '가', '쇼키']\n",
      "Score: 0.562341\n",
      "\n",
      "이별 준비 하 려고\n",
      "['쉽', '지', '않', '은', '마음', '고생', '많', '았', '어요', '.']\n",
      "Source Sentence:  이별 준비 하 려고\n",
      "Model Prediction:  ['쉽', '지', '않', '은', '마음', '고생', '많', '았', '어요', '.']\n",
      "Real:  ['쉽', '지', '않', '은', '결정', '이', '었', '을', '텐데', '마음', '고생', '많', '았', '어요', '.']\n",
      "Score: 0.476508\n",
      "\n",
      "행복 한 돌 싱 슬하\n",
      "['매일', '매일', '행복', '한', '일', '이', '생기', '시', '로', '나', '봅니다', '.']\n",
      "Source Sentence:  행복 한 돌 싱 슬하\n",
      "Model Prediction:  ['매일', '매일', '행복', '한', '일', '이', '생기', '시', '로', '나', '봅니다', '.']\n",
      "Real:  ['매일', '매일', '행복', '한', '일', '이', '생기', '시', '가', '길', '바랄', '게요']\n",
      "Score: 0.613230\n",
      "\n",
      "Num of Sample: 3\n",
      "Total Score: 0.5506931086532787\n"
     ]
    }
   ],
   "source": [
    "eval_bleu(enc_val[:3], dec_val[:3], True)"
   ]
  },
  {
   "cell_type": "code",
   "execution_count": 63,
   "id": "caroline-sphere",
   "metadata": {},
   "outputs": [
    {
     "name": "stderr",
     "output_type": "stream",
     "text": [
      "/home/aiffel-dj28/anaconda3/envs/aiffel/lib/python3.7/site-packages/ipykernel_launcher.py:5: TqdmDeprecationWarning: This function will be removed in tqdm==5.0.0\n",
      "Please use `tqdm.notebook.tqdm` instead of `tqdm.tqdm_notebook`\n",
      "  \"\"\"\n"
     ]
    },
    {
     "data": {
      "application/vnd.jupyter.widget-view+json": {
       "model_id": "57f2c7db2b3945ddb8f61b2f3c18df10",
       "version_major": 2,
       "version_minor": 0
      },
      "text/plain": [
       "  0%|          | 0/38 [00:00<?, ?it/s]"
      ]
     },
     "metadata": {},
     "output_type": "display_data"
    },
    {
     "name": "stdout",
     "output_type": "stream",
     "text": [
      "돈 어디 갔 지\n",
      "['퍼', '가', '쇼키']\n",
      "재미 없 어\n",
      "['변화', '쓰루타', '필요', '해보여요', '.']\n",
      "짝 녀 생각 에 잠 을 못 자 겠 어 .\n",
      "['짝사랑', '이', '자기만족', '을', '복잡', '하', '게', '만들', '어요', '.']\n",
      "짝 녀랑 카톡 했 던 거 다시 읽 어 보 는데 매우 다 만 물 어 보 네 .\n",
      "['상대', '분', '이', '아직', '관심', '이', '덜한', '걸', '수', '도', '있', '어요', '.']\n",
      "새벽 노승호\n",
      "['조용', '하', '니', '혼자', '생각', '하', '기', '좋', '죠', '.']\n",
      "술기운 에 연락 했 는데 .\n",
      "['후회', '하', '지', '않', '길', '바라', '아', '리페', '.']\n",
      "3 년 부부 돈 싸움 . 헤어짐\n",
      "['돈', '것', '문제', '죠', '.']\n",
      "소개팅 응우옌 반 쑤 언 고 싶 다\n",
      "['친구', '한테', '부탁', '해', '보', '세요', '.']\n",
      "내 가 힘든 불구\n",
      "['자신', '이', '알', '고', '있', '겠', '죠', '.']\n",
      "손발 이 차가워\n",
      "['지압', '키', '리바', '운동', '해', '보', '세요', '.']\n",
      "봄 에 동물원 쓰루 타 는 거 어때 ?\n",
      "['동심', '으로', '돌아갈', '거', '같', '아요', '.']\n",
      "좋 아 하 는 여자 드버 생겼 는데 떨려 죽 겠 음 .\n",
      "['설렘', '을', '감추', '는', '게', '더', '힘들', '때', '네요', '.']\n",
      "겨울 에 는 온천 이 지 !\n",
      "['몸', '은', '뜨겁', '고', '머리', '는', '차갑', '게', '!']\n",
      "더 이상 나 한테 안 왔 으면 좋 겠 어\n",
      "['명확', '하', '게', '거부', '의', '의사', '를', '표현', '하', '세요', '.']\n",
      "오늘 그 사람 생일 이 네\n",
      "['생각날', '수', '밖', '에', '없', '다고', '생각', '해요', '.']\n",
      "썸 쿠 는데 머리 아파 신경 쓰여 .\n",
      "['하루', '먹', '고', '잘', '는', '게', '좋', '겠', '어요', '.']\n",
      "정말로 이별 응우옌 반 쑤 언 려고 준비 합니다 .\n",
      "['충분', '한', '고민', '고민', '하', '겠', '어요', '.']\n",
      "썸남 의 계속 메타 위 키 는 약속 취소 .\n",
      "['괘씸', '하', '니', '약속', '잡', '으세요', '?']\n",
      "학부 가 면 좋 겠 지\n",
      "['행복', '은', '마음', '가짐', '에', '있', '어요', '.']\n",
      "시간 이 약 이 라는 데 스눕 이 되 는 거 같 습니다 .\n",
      "['좀', '더', '휴식', '시간', '이', '필요', '한', '것', '같', '네요', '.']\n",
      "짝 남 한테 도 의 철벽 이 게 돼 왜 그럴까 .\n",
      "['트라우마', '가', '생겼', '는지', '도', '모르', '겠', '네요', '.']\n",
      "같이 살까 ?\n",
      "['함께', '있', '는', '고민', '이', '많', '아서', '그래요', '.']\n",
      "좋 아 하 는 남자 애 가 게임 을 좋아하 는데 줄거리 오래가 는 소재 좀 알려 줘 .\n",
      "['요즘', '인기', '있', '는', '게임', '을', '검색', '해', '봐요', '.']\n",
      "왜 극복 이 안 이 되 는지 제자신이 실망 스러워 ㅠ\n",
      "['달라지', '는', '게', '없', '어도', '실망', '하', '지', '말', '아요', '.', '이', '별', '앞', '에', '태연', '한', '사람', '은', '없', '을', '거', '예요', '.']\n",
      "금수 말 입 물 고 태어나 면 좋 겠 지 ?\n",
      "['뭔가', '안', '풀리', '는', '일', '이', '있', '나', '봐요', '.']\n",
      "군인 남친 보 고 싶 어\n",
      "['조금', '만', '참', '고', '기다려', '보', '세요', '.']\n",
      "연락 보 지 하 는 아픔 .\n",
      "['당분간', '은', '힘들', '지', '몰라요', '.']\n",
      "결혼 한 지 1 년 됐 는데 넘 좋 아\n",
      "['계속', '행복', '하', '실', '거', '예요', '.']\n",
      "같 은 하늘 다른 공간\n",
      "['같', '은', '하늘', '아래', '숨', '쉬', '라며', '있', '어요', '.']\n",
      "썸 타 다 늙 어 살 가 죽 을 듯\n",
      "['달고기목', '타', '죽', '기', '전', '에', '표현', '해', '보', '세요', '.']\n",
      "남자 친구 가 너무 귀찮 페닝 거 해 .\n",
      "['사랑', '이', '식', '은', '건', '아닌지', '추정', '해', '보', '세요', '.']\n",
      "근육 있 으면 멋있 정우준 텐데\n",
      "['저', '말씀', '이', '신가요', '?']\n",
      "노트북 부팅 안 돼\n",
      "['그럴', '때', '는', '초기', '화', '하', '는', '게', '속', '시원', '해요', '.']\n",
      "그 사람 이 나 안 좋아하 는 거 같 아\n",
      "['슬픈', '줄거리', '네요', '.']\n",
      "도시락 싸 서 놀 러 쓰루 타 고 싶 어\n",
      "['갈', '때', '저', '도', '같이', '가요', '.']\n",
      "그 는 지금 무슨 자기만족 을 할까 ?\n",
      "['연락', '갑', '해', '보', '세요', '.']\n",
      "인터넷 쇼핑 에서 바지 샀 는데 망함\n",
      "['사이즈', '를', '잘', '보', '고', '사세요', '.']\n",
      "남편 이 회식 이 라고 안 와\n",
      "['사회생활', '정우준', '이해', '해', '주', '세요', '.']\n",
      "Num of Sample: 38\n",
      "Total Score: 0.5644041016804958\n"
     ]
    }
   ],
   "source": [
    "eval_bleu(enc_val[::10], dec_val[::10], verbose=False)"
   ]
  },
  {
   "cell_type": "code",
   "execution_count": 64,
   "id": "liable-retro",
   "metadata": {},
   "outputs": [
    {
     "name": "stdout",
     "output_type": "stream",
     "text": [
      "지루하다 , 놀러가고 싶어 .\n",
      "['제', '생각', '해', '보', '세요', '.']\n"
     ]
    },
    {
     "data": {
      "text/plain": [
       "['제', '생각', '해', '보', '세요', '.']"
      ]
     },
     "execution_count": 64,
     "metadata": {},
     "output_type": "execute_result"
    }
   ],
   "source": [
    "translate(\"지루하다, 놀러가고 싶어.\", transformer, tokenizer, tokenizer)"
   ]
  },
  {
   "cell_type": "code",
   "execution_count": 65,
   "id": "hidden-computer",
   "metadata": {},
   "outputs": [
    {
     "name": "stdout",
     "output_type": "stream",
     "text": [
      "오늘 일찍 일어났더니 피곤하다 .\n",
      "['이제', '이나고', '이', '라도', '괜찮', '아', '했', '나', '봐요', '.']\n"
     ]
    },
    {
     "data": {
      "text/plain": [
       "['이제', '이나고', '이', '라도', '괜찮', '아', '했', '나', '봐요', '.']"
      ]
     },
     "execution_count": 65,
     "metadata": {},
     "output_type": "execute_result"
    }
   ],
   "source": [
    "translate(\"오늘 일찍 일어났더니 피곤하다.\", transformer, tokenizer, tokenizer)"
   ]
  },
  {
   "cell_type": "code",
   "execution_count": 66,
   "id": "worth-interim",
   "metadata": {},
   "outputs": [
    {
     "name": "stdout",
     "output_type": "stream",
     "text": [
      "간만에 여자친구랑 데이트 하기로 했어 .\n",
      "['시간', '도', '흐르', '고', '많', '았', '죠', '.']\n"
     ]
    },
    {
     "data": {
      "text/plain": [
       "['시간', '도', '흐르', '고', '많', '았', '죠', '.']"
      ]
     },
     "execution_count": 66,
     "metadata": {},
     "output_type": "execute_result"
    }
   ],
   "source": [
    "translate(\"간만에 여자친구랑 데이트 하기로 했어.\", transformer, tokenizer, tokenizer)"
   ]
  },
  {
   "cell_type": "code",
   "execution_count": 67,
   "id": "reduced-kennedy",
   "metadata": {},
   "outputs": [
    {
     "name": "stdout",
     "output_type": "stream",
     "text": [
      "집에 있는다는 소리야 .\n",
      "['조금', '씩', '조금', '씩', '정리', '해', '보', '세요', '.']\n"
     ]
    },
    {
     "data": {
      "text/plain": [
       "['조금', '씩', '조금', '씩', '정리', '해', '보', '세요', '.']"
      ]
     },
     "execution_count": 67,
     "metadata": {},
     "output_type": "execute_result"
    }
   ],
   "source": [
    "translate(\"집에 있는다는 소리야.\", transformer, tokenizer, tokenizer)"
   ]
  },
  {
   "cell_type": "markdown",
   "id": "plastic-marina",
   "metadata": {},
   "source": [
    "## 회고 및 루브릭 평가"
   ]
  },
  {
   "cell_type": "markdown",
   "id": "composite-sauce",
   "metadata": {},
   "source": [
    "### 루브릭 평가 항목\n",
    "1. 챗봇 훈련데이터 전처리 과정이 체계적으로 진행되었는가?\n",
    "\t(챗봇 훈련데이터를 위한 전처리와 augmentation이 적절히 수행되어 3만개 가량의 훈련데이터셋이 구축되었다.)\n",
    "2. transformer 모델을 활용한 챗봇 모델이 과적합을 피해 안정적으로 훈련되었는가?\n",
    "\t(과적합을 피할 수 있는 하이퍼파라미터 셋이 적절히 제시되었다.)\n",
    "3. 챗봇이 사용자의 질문에 그럴듯한 형태로 답하는 사례가 있는가?\n",
    "\t(주어진 예문을 포함하여 챗봇에 던진 질문에 적절히 답하는 사례가 제출되었다.)"
   ]
  },
  {
   "cell_type": "markdown",
   "id": "endless-premises",
   "metadata": {},
   "source": [
    "### 평가 항목에 대한 수행\n",
    "1. 훈련데이터 augmentation과 전처리 과정을 진행하였다.\n",
    "2. transformer 모델을 안정적으로 훈련시켰다.\n",
    "3. 예문을 포함하여 그럴듯한 형태로 답을 하는 것을 확인하였다. "
   ]
  },
  {
   "cell_type": "markdown",
   "id": "interracial-desert",
   "metadata": {},
   "source": [
    "### 회고"
   ]
  },
  {
   "cell_type": "markdown",
   "id": "colored-blogger",
   "metadata": {},
   "source": [
    "노션에 공지된 꼭 포함이 되어야 할 점\n",
    "- 이번 프로젝트에서 **어려웠던 점,**\n",
    "- 프로젝트를 진행하면서 **알아낸 점** 혹은 **아직 모호한 점**.\n",
    "- 루브릭 평가 지표를 맞추기 위해 **시도한 것들**.\n",
    "- 만약에 루브릭 평가 관련 지표를 **달성 하지 못했을 때, 이유에 관한 추정**.\n",
    "- **자기 다짐**"
   ]
  },
  {
   "cell_type": "markdown",
   "id": "divided-kitchen",
   "metadata": {},
   "source": [
    "---\n",
    "- **어려웠던 점**    \n",
    "word2vec 모델이 로드가 되지 않아서 데이터를 이용하여 처음부터 학습시켜서 이용을 했다.\n",
    "\n",
    "---\n",
    "- **알아낸 점**    \n",
    "wiki 데이터를 이용하는 방법을 알 수 있었고 bleu 점수에 대해서 알 수 있었다.\n",
    "\n",
    "- **모호한 점**    \n",
    "챗봇 점수와 실제적으로 느껴지는 성능 사이에 괴리감이 있다.\n",
    "\n",
    "---\n",
    "- **시도한 것들**   \n",
    "wiki 데이터를 이용하여 임베딩 모델을 만들고 실험하였다.\n",
    "\n",
    "---\n",
    "- **루브릭 평가 관련 지표**   \n",
    "제 예상에는 모두 달성되었다고 생각한다. 그 이유는 위에 있는 **평가 항목에 대한 수행**에 나와있다.  \n",
    "- **자기 다짐** 및 **나의 생각들**      \n",
    "이전 노드에 이어서 transformer를 이용한다. NLP에서 데이터를 augmentation에 대해서 생각해 볼 수 있는 시간이였다. "
   ]
  },
  {
   "cell_type": "markdown",
   "id": "entire-energy",
   "metadata": {},
   "source": [
    "### word2vec 훈련\n",
    "wiki data를 이용하여 w2v을 만든다.    \n",
    "이때 wikiextractor를 이용하여 데이터를 얻고 훈련한다."
   ]
  },
  {
   "cell_type": "code",
   "execution_count": null,
   "id": "moved-applicant",
   "metadata": {},
   "outputs": [],
   "source": [
    "import os\n",
    "path = os.getenv('HOME')+'/w2v/wikiextractor/wikiextractor/text/wiki_sdata.txt'\n",
    "\n",
    "f = open(path,encoding=\"utf8\")\n",
    "i=0\n",
    "while True:\n",
    "    line = f.readline()\n",
    "    if line != '\\n':\n",
    "        i=i+1\n",
    "        print(\"%d번째 줄 :\"%i + line)\n",
    "    if i==5:\n",
    "        break \n",
    "f.close()"
   ]
  },
  {
   "cell_type": "code",
   "execution_count": null,
   "id": "powered-actor",
   "metadata": {},
   "outputs": [],
   "source": [
    "from konlpy.tag import Okt  \n",
    "okt=Okt()\n",
    "fread = open(path, encoding=\"utf8\")\n",
    "# 파일을 다시 처음부터 읽음.\n",
    "n=0\n",
    "result = []\n",
    "\n",
    "while True:\n",
    "    line = fread.readline() #한 줄씩 읽음.\n",
    "    if not line: break # 모두 읽으면 while문 종료.\n",
    "    n=n+1\n",
    "    if n%5000==0: # 5,000의 배수로 While문이 실행될 때마다 몇 번째 While문 실행인지 출력.\n",
    "        print(\"%d번째 While문.\"%n)\n",
    "    tokenlist = okt.pos(line, stem=True, norm=True) # 단어 토큰화\n",
    "    temp=[]\n",
    "    for word in tokenlist:\n",
    "        if word[1] in [\"Noun\"]: # 명사일 때만\n",
    "            temp.append((word[0])) # 해당 단어를 저장함\n",
    "\n",
    "    if temp: # 만약 이번에 읽은 데이터에 명사가 존재할 경우에만\n",
    "        result.append(temp) # 결과에 저장\n",
    "fread.close()"
   ]
  },
  {
   "cell_type": "code",
   "execution_count": null,
   "id": "wooden-velvet",
   "metadata": {},
   "outputs": [],
   "source": [
    "from gensim.models import Word2Vec\n",
    "model = Word2Vec(result, vector_size=300, window=5, min_count=5, workers=4, sg=1)"
   ]
  },
  {
   "cell_type": "code",
   "execution_count": null,
   "id": "forbidden-weight",
   "metadata": {},
   "outputs": [],
   "source": [
    "w2v = model.wv"
   ]
  },
  {
   "cell_type": "code",
   "execution_count": null,
   "id": "coordinate-institution",
   "metadata": {},
   "outputs": [],
   "source": [
    "w2v.save(\"w2v_wiki.wv\")"
   ]
  },
  {
   "cell_type": "code",
   "execution_count": null,
   "id": "widespread-space",
   "metadata": {},
   "outputs": [],
   "source": [
    "model.wv.most_similar('사람')"
   ]
  }
 ],
 "metadata": {
  "kernelspec": {
   "display_name": "aiffel",
   "language": "python",
   "name": "aiffel"
  },
  "language_info": {
   "codemirror_mode": {
    "name": "ipython",
    "version": 3
   },
   "file_extension": ".py",
   "mimetype": "text/x-python",
   "name": "python",
   "nbconvert_exporter": "python",
   "pygments_lexer": "ipython3",
   "version": "3.7.9"
  }
 },
 "nbformat": 4,
 "nbformat_minor": 5
}
