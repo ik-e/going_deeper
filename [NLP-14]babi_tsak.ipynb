{
 "cells": [
  {
   "cell_type": "markdown",
   "id": "separated-static",
   "metadata": {},
   "source": [
    "# babi task  project\n",
    "GD 노드 14\n",
    "\n",
    "프로세스는 다음과 같다.\n",
    "1. 데이터 로드 및 전처리\n",
    "2. 모델링\n",
    "3. 모델 훈련\n",
    "4. 모델 평가"
   ]
  },
  {
   "cell_type": "markdown",
   "id": "expensive-retail",
   "metadata": {},
   "source": [
    "## 1. 데이터 로드 및 전처리"
   ]
  },
  {
   "cell_type": "code",
   "execution_count": 1,
   "id": "incident-coffee",
   "metadata": {},
   "outputs": [],
   "source": [
    "from tensorflow.keras.utils import get_file\n",
    "from tensorflow.keras.preprocessing.sequence import pad_sequences\n",
    "from tensorflow.keras.utils import to_categorical\n",
    "import numpy as np\n",
    "import tarfile\n",
    "from nltk import FreqDist\n",
    "from functools import reduce\n",
    "import os\n",
    "import re"
   ]
  },
  {
   "cell_type": "code",
   "execution_count": 2,
   "id": "juvenile-navigation",
   "metadata": {},
   "outputs": [],
   "source": [
    "# 환경에 맞게 경로 수정\n",
    "home_dir = os.getenv('HOME')+'/aiffel/babi_memory_net'"
   ]
  },
  {
   "cell_type": "code",
   "execution_count": 3,
   "id": "friendly-permission",
   "metadata": {},
   "outputs": [],
   "source": [
    "# 환경에 맞게 경로 적절히 수정\n",
    "DATA_DIR = home_dir\n",
    "TRAIN_FILE = os.path.join(DATA_DIR, \"qa1_single-supporting-fact_train_kor.txt\")\n",
    "TEST_FILE = os.path.join(DATA_DIR, \"qa1_single-supporting-fact_test_kor.txt\")"
   ]
  },
  {
   "cell_type": "code",
   "execution_count": 4,
   "id": "little-ordinary",
   "metadata": {},
   "outputs": [
    {
     "name": "stdout",
     "output_type": "stream",
     "text": [
      "1 필웅이는 화장실로 갔습니다.\n",
      "2 은경이는 복도로 이동했습니다.\n",
      "3 필웅이는 어디야? \t화장실\t1\n",
      "4 수종이는 복도로 복귀했습니다.\n",
      "5 경임이는 정원으로 갔습니다.\n",
      "6 수종이는 어디야? \t복도\t4\n",
      "7 은경이는 사무실로 갔습니다.\n",
      "8 경임이는 화장실로 뛰어갔습니다.\n",
      "9 수종이는 어디야? \t복도\t4\n",
      "10 필웅이는 복도로 갔습니다.\n",
      "11 수종이는 사무실로 가버렸습니다.\n",
      "12 수종이는 어디야? \t사무실\t11\n",
      "13 은경이는 정원으로 복귀했습니다.\n",
      "14 은경이는 침실로 갔습니다.\n",
      "15 경임이는 어디야? \t화장실\t8\n",
      "1 경임이는 사무실로 가버렸습니다.\n",
      "2 경임이는 화장실로 이동했습니다.\n",
      "3 경임이는 어디야? \t화장실\t2\n",
      "4 필웅이는 침실로 이동했습니다.\n",
      "5 수종이는 복도로 갔습니다.\n"
     ]
    }
   ],
   "source": [
    "i = 0\n",
    "lines = open(TRAIN_FILE , \"rb\")\n",
    "for line in lines:\n",
    "    line = line.decode(\"utf-8\").strip()\n",
    "    # lno, text = line.split(\" \", 1) # ID와 TEXT 분리\n",
    "    i = i + 1\n",
    "    print(line)\n",
    "    if i == 20:\n",
    "        break"
   ]
  },
  {
   "cell_type": "markdown",
   "id": "centered-collapse",
   "metadata": {},
   "source": [
    "### 데이터 분할\n",
    "스토리, 질문, 답변으로 데이터를 분할한다."
   ]
  },
  {
   "cell_type": "code",
   "execution_count": 5,
   "id": "informed-monitor",
   "metadata": {},
   "outputs": [],
   "source": [
    "def read_data(dir):\n",
    "    stories, questions, answers = [], [], [] # 각각 스토리, 질문, 답변을 저장할 예정\n",
    "    story_temp = [] # 현재 시점의 스토리 임시 저장\n",
    "    lines = open(dir, \"rb\")\n",
    "\n",
    "    for line in lines:\n",
    "        line = line.decode(\"utf-8\") # b' 제거\n",
    "        line = line.strip() # '\\n' 제거\n",
    "        idx, text = line.split(\" \", 1) # 맨 앞에 있는 id number 분리\n",
    "        # 여기까지는 모든 줄에 적용되는 전처리\n",
    "\n",
    "        if int(idx) == 1:\n",
    "            story_temp = []\n",
    "        \n",
    "        if \"\\t\" in text: # 현재 읽는 줄이 질문 (tab) 답변 (tab)인 경우\n",
    "            question, answer, _ = text.split(\"\\t\") # 질문과 답변을 각각 저장\n",
    "            stories.append([x for x in story_temp if x]) # 지금까지의 누적 스토리를 스토리에 저장\n",
    "            questions.append(question)\n",
    "            answers.append(answer)\n",
    "\n",
    "        else: # 현재 읽는 줄이 스토리인 경우\n",
    "            story_temp.append(text) # 임시 저장\n",
    "\n",
    "    lines.close()\n",
    "    return stories, questions, answers"
   ]
  },
  {
   "cell_type": "code",
   "execution_count": 6,
   "id": "virtual-pastor",
   "metadata": {},
   "outputs": [],
   "source": [
    "train_data = read_data(TRAIN_FILE)\n",
    "test_data = read_data(TEST_FILE)"
   ]
  },
  {
   "cell_type": "code",
   "execution_count": 7,
   "id": "dynamic-election",
   "metadata": {},
   "outputs": [],
   "source": [
    "train_stories, train_questions, train_answers = read_data(TRAIN_FILE)\n",
    "test_stories, test_questions, test_answers = read_data(TEST_FILE)"
   ]
  },
  {
   "cell_type": "code",
   "execution_count": 8,
   "id": "absent-norway",
   "metadata": {},
   "outputs": [
    {
     "name": "stdout",
     "output_type": "stream",
     "text": [
      "train 스토리 개수: 10000\n",
      "train 질문 개수: 10000\n",
      "train 답변 개수: 10000\n",
      "test 스토리 개수: 1000\n",
      "test 질문 개수: 1000\n",
      "test 답변 개수: 1000\n"
     ]
    }
   ],
   "source": [
    "print(\"train 스토리 개수:\", len(train_stories))\n",
    "print(\"train 질문 개수:\", len(train_questions))\n",
    "print(\"train 답변 개수:\", len(train_answers))\n",
    "print(\"test 스토리 개수:\", len(test_stories))\n",
    "print(\"test 질문 개수:\", len(test_questions))\n",
    "print(\"test 답변 개수:\", len(test_answers))"
   ]
  },
  {
   "cell_type": "code",
   "execution_count": 9,
   "id": "palestinian-triumph",
   "metadata": {},
   "outputs": [
    {
     "data": {
      "text/plain": [
       "['수종이는 화장실로 뛰어갔습니다.',\n",
       " '경임이는 사무실로 갔습니다.',\n",
       " '은경이는 부엌으로 이동했습니다.',\n",
       " '경임이는 화장실로 갔습니다.',\n",
       " '수종이는 복도로 갔습니다.',\n",
       " '필웅이는 부엌으로 가버렸습니다.',\n",
       " '수종이는 부엌으로 이동했습니다.',\n",
       " '수종이는 화장실로 가버렸습니다.']"
      ]
     },
     "execution_count": 9,
     "metadata": {},
     "output_type": "execute_result"
    }
   ],
   "source": [
    "train_stories[3878]"
   ]
  },
  {
   "cell_type": "code",
   "execution_count": 10,
   "id": "imposed-lloyd",
   "metadata": {},
   "outputs": [
    {
     "data": {
      "text/plain": [
       "['필웅이는 어디야? ', '수종이는 어디야? ', '수종이는 어디야? ', '수종이는 어디야? ', '경임이는 어디야? ']"
      ]
     },
     "execution_count": 10,
     "metadata": {},
     "output_type": "execute_result"
    }
   ],
   "source": [
    "train_questions[:5]"
   ]
  },
  {
   "cell_type": "code",
   "execution_count": 11,
   "id": "maritime-river",
   "metadata": {},
   "outputs": [
    {
     "data": {
      "text/plain": [
       "['화장실', '복도', '복도', '사무실', '화장실']"
      ]
     },
     "execution_count": 11,
     "metadata": {},
     "output_type": "execute_result"
    }
   ],
   "source": [
    "train_answers[:5]"
   ]
  },
  {
   "cell_type": "markdown",
   "id": "superior-great",
   "metadata": {},
   "source": [
    "### 전처리\n",
    "토크나이징 및 사전 구축을 한다.    \n",
    "계산을 위하여 벡터화 과정도 거친다."
   ]
  },
  {
   "cell_type": "code",
   "execution_count": 12,
   "id": "inappropriate-marine",
   "metadata": {},
   "outputs": [],
   "source": [
    "def tokenize(sent):\n",
    "    return [ x.strip() for x in re.sub(r\"\\s+|\\b\", '\\f', sent).split('\\f') if x.strip() ] # python 3.7의 경우 \n",
    "    # return [ x.strip() for x in re.split('(\\W+)?', sent) if x.strip()] # python 3.6의 경우"
   ]
  },
  {
   "cell_type": "code",
   "execution_count": 13,
   "id": "nonprofit-suspension",
   "metadata": {},
   "outputs": [],
   "source": [
    "def preprocess_data(train_data, test_data):\n",
    "    counter = FreqDist()\n",
    "    \n",
    "    # 두 문장의 story를 하나의 문장으로 통합하는 함수\n",
    "    flatten = lambda data: reduce(lambda x, y: x + y, data)\n",
    "\n",
    "    # 각 샘플의 길이를 저장하는 리스트\n",
    "    story_len = []\n",
    "    question_len = []\n",
    "    \n",
    "    for stories, questions, answers in [train_data, test_data]:\n",
    "        for story in stories:\n",
    "            stories = tokenize(flatten(story)) # 스토리의 문장들을 펼친 후 토큰화\n",
    "            story_len.append(len(stories)) # 각 story의 길이 저장\n",
    "            for word in stories: # 단어 집합에 단어 추가\n",
    "                counter[word] += 1\n",
    "        for question in questions:\n",
    "            question = tokenize(question)\n",
    "            question_len.append(len(question))\n",
    "            for word in question:\n",
    "                counter[word] += 1\n",
    "        for answer in answers:\n",
    "            answer = tokenize(answer)\n",
    "            for word in answer:\n",
    "                counter[word] += 1\n",
    "\n",
    "    # 단어장 생성\n",
    "    word2idx = {word : (idx + 1) for idx, (word, _) in enumerate(counter.most_common())}\n",
    "    idx2word = {idx : word for word, idx in word2idx.items()}\n",
    "\n",
    "    # 가장 긴 샘플의 길이\n",
    "    story_max_len = np.max(story_len)\n",
    "    question_max_len = np.max(question_len)\n",
    "\n",
    "    return word2idx, idx2word, story_max_len, question_max_len"
   ]
  },
  {
   "cell_type": "code",
   "execution_count": 14,
   "id": "shared-israel",
   "metadata": {},
   "outputs": [],
   "source": [
    "word2idx, idx2word, story_max_len, question_max_len = preprocess_data(train_data, test_data)"
   ]
  },
  {
   "cell_type": "code",
   "execution_count": 15,
   "id": "relevant-realtor",
   "metadata": {},
   "outputs": [
    {
     "name": "stdout",
     "output_type": "stream",
     "text": [
      "{'.': 1, '경임이는': 2, '은경이는': 3, '수종이는': 4, '필웅이는': 5, '이동했습니다': 6, '가버렸습니다': 7, '뛰어갔습니다': 8, '복귀했습니다': 9, '갔습니다': 10, '화장실로': 11, '정원으로': 12, '복도로': 13, '어디야': 14, '?': 15, '부엌으로': 16, '사무실로': 17, '침실로': 18, '화장실': 19, '정원': 20, '사무실': 21, '침실': 22, '복도': 23, '부엌': 24}\n"
     ]
    }
   ],
   "source": [
    "print(word2idx)"
   ]
  },
  {
   "cell_type": "code",
   "execution_count": 16,
   "id": "mexican-passport",
   "metadata": {},
   "outputs": [],
   "source": [
    "vocab_size = len(word2idx) + 1"
   ]
  },
  {
   "cell_type": "code",
   "execution_count": 17,
   "id": "arbitrary-fleet",
   "metadata": {},
   "outputs": [
    {
     "name": "stdout",
     "output_type": "stream",
     "text": [
      "스토리의 최대 길이 : 40\n",
      "질문의 최대 길이 : 3\n"
     ]
    }
   ],
   "source": [
    "print('스토리의 최대 길이 :',story_max_len)\n",
    "print('질문의 최대 길이 :',question_max_len)"
   ]
  },
  {
   "cell_type": "code",
   "execution_count": 18,
   "id": "retired-reach",
   "metadata": {},
   "outputs": [],
   "source": [
    "def vectorize(data, word2idx, story_maxlen, question_maxlen):\n",
    "    Xs, Xq, Y = [], [], []\n",
    "    flatten = lambda data: reduce(lambda x, y: x + y, data)\n",
    "\n",
    "    stories, questions, answers = data\n",
    "    for story, question, answer in zip(stories, questions, answers):\n",
    "        xs = [word2idx[w] for w in tokenize(flatten(story))]\n",
    "        xq = [word2idx[w] for w in tokenize(question)]\n",
    "        Xs.append(xs)\n",
    "        Xq.append(xq)\n",
    "        Y.append(word2idx[answer])\n",
    "\n",
    "    # 스토리와 질문은 각각의 최대 길이로 패딩\n",
    "    # 정답은 원-핫 인코딩\n",
    "    return pad_sequences(Xs, maxlen=story_maxlen),\\\n",
    "           pad_sequences(Xq, maxlen=question_maxlen),\\\n",
    "           to_categorical(Y, num_classes=len(word2idx) + 1)"
   ]
  },
  {
   "cell_type": "code",
   "execution_count": 19,
   "id": "hourly-beijing",
   "metadata": {},
   "outputs": [],
   "source": [
    "Xstrain, Xqtrain, Ytrain = vectorize(train_data, word2idx, story_max_len, question_max_len)\n",
    "Xstest, Xqtest, Ytest = vectorize(test_data, word2idx, story_max_len, question_max_len)"
   ]
  },
  {
   "cell_type": "code",
   "execution_count": 20,
   "id": "sticky-usage",
   "metadata": {},
   "outputs": [
    {
     "name": "stdout",
     "output_type": "stream",
     "text": [
      "(10000, 40) (10000, 3) (10000, 25) (1000, 40) (1000, 3) (1000, 25)\n"
     ]
    }
   ],
   "source": [
    "print(Xstrain.shape, Xqtrain.shape, Ytrain.shape, Xstest.shape, Xqtest.shape, Ytest.shape)"
   ]
  },
  {
   "cell_type": "markdown",
   "id": "thirty-needle",
   "metadata": {},
   "source": [
    "## 2. 모델링 \n",
    "모델은 LSTM을 기본으로 한다. (메모리 네트워크)"
   ]
  },
  {
   "cell_type": "code",
   "execution_count": 21,
   "id": "intelligent-rebate",
   "metadata": {},
   "outputs": [
    {
     "name": "stderr",
     "output_type": "stream",
     "text": [
      "Duplicate key in file PosixPath('/home/aiffel-dj28/anaconda3/envs/aiffel/lib/python3.7/site-packages/matplotlib/mpl-data/matplotlibrc'), line 250 ('font.family:  NanumGothic')\n"
     ]
    }
   ],
   "source": [
    "from tensorflow.keras.models import Sequential, Model\n",
    "from tensorflow.keras.layers import Embedding\n",
    "from tensorflow.keras.layers import Permute, dot, add, concatenate\n",
    "from tensorflow.keras.layers import LSTM, Dense, Dropout, Input, Activation\n",
    "import matplotlib.pyplot as plt"
   ]
  },
  {
   "cell_type": "code",
   "execution_count": 22,
   "id": "coated-might",
   "metadata": {},
   "outputs": [],
   "source": [
    "# 에포크 횟수\n",
    "train_epochs = 120\n",
    "# 배치 크기\n",
    "batch_size = 32\n",
    "# 임베딩 크기\n",
    "embed_size = 50\n",
    "# LSTM의 크기\n",
    "lstm_size = 64\n",
    "# 과적합 방지 기법인 드롭아웃 적용 비율\n",
    "dropout_rate = 0.30"
   ]
  },
  {
   "cell_type": "code",
   "execution_count": 23,
   "id": "popular-funeral",
   "metadata": {},
   "outputs": [
    {
     "name": "stdout",
     "output_type": "stream",
     "text": [
      "Stories : Tensor(\"input_1:0\", shape=(None, 40), dtype=float32)\n",
      "Question: Tensor(\"input_2:0\", shape=(None, 3), dtype=float32)\n"
     ]
    }
   ],
   "source": [
    "input_sequence = Input((story_max_len,))\n",
    "question = Input((question_max_len,))\n",
    " \n",
    "print('Stories :', input_sequence)\n",
    "print('Question:', question)"
   ]
  },
  {
   "cell_type": "code",
   "execution_count": 24,
   "id": "thrown-power",
   "metadata": {},
   "outputs": [],
   "source": [
    "# 스토리를 위한 첫 번째 임베딩. 그림에서의 Embedding A\n",
    "input_encoder_m = Sequential()\n",
    "input_encoder_m.add(Embedding(input_dim=vocab_size,\n",
    "                              output_dim=embed_size))\n",
    "input_encoder_m.add(Dropout(dropout_rate))\n",
    "# 결과 : (samples, story_max_len, embed_size) / 샘플의 수, 문장의 최대 길이, 임베딩 벡터의 차원\n",
    "\n",
    "# 스토리를 위한 두 번째 임베딩. 그림에서의 Embedding C\n",
    "# 임베딩 벡터의 차원을 question_max_len(질문의 최대 길이)로 한다.\n",
    "input_encoder_c = Sequential()\n",
    "input_encoder_c.add(Embedding(input_dim=vocab_size,\n",
    "                              output_dim=question_max_len))\n",
    "input_encoder_c.add(Dropout(dropout_rate))\n",
    "# 결과 : (samples, story_max_len, question_max_len) / 샘플의 수, 문장의 최대 길이, 질문의 최대 길이(임베딩 벡터의 차원)"
   ]
  },
  {
   "cell_type": "code",
   "execution_count": 25,
   "id": "removed-addiction",
   "metadata": {},
   "outputs": [],
   "source": [
    "# 질문을 위한 임베딩. 그림에서의 Embedding B\n",
    "question_encoder = Sequential()\n",
    "question_encoder.add(Embedding(input_dim=vocab_size,\n",
    "                               output_dim=embed_size,\n",
    "                               input_length=question_max_len))\n",
    "question_encoder.add(Dropout(dropout_rate))\n",
    "# 결과 : (samples, question_max_len, embed_size) / 샘플의 수, 질문의 최대 길이, 임베딩 벡터의 차원"
   ]
  },
  {
   "cell_type": "code",
   "execution_count": 26,
   "id": "african-portable",
   "metadata": {},
   "outputs": [
    {
     "name": "stdout",
     "output_type": "stream",
     "text": [
      "Input encoded m Tensor(\"sequential/Identity:0\", shape=(None, 40, 50), dtype=float32) \n",
      "\n",
      "Input encoded c Tensor(\"sequential_1/Identity:0\", shape=(None, 40, 3), dtype=float32) \n",
      "\n",
      "Question encoded Tensor(\"sequential_2/Identity:0\", shape=(None, 3, 50), dtype=float32) \n",
      "\n"
     ]
    }
   ],
   "source": [
    "# 실질적인 임베딩 과정\n",
    "input_encoded_m = input_encoder_m(input_sequence)\n",
    "input_encoded_c = input_encoder_c(input_sequence)\n",
    "question_encoded = question_encoder(question)\n",
    "\n",
    "print('Input encoded m', input_encoded_m, '\\n')\n",
    "print('Input encoded c', input_encoded_c, '\\n')\n",
    "print('Question encoded', question_encoded, '\\n')"
   ]
  },
  {
   "cell_type": "code",
   "execution_count": 27,
   "id": "vocational-multimedia",
   "metadata": {},
   "outputs": [
    {
     "name": "stdout",
     "output_type": "stream",
     "text": [
      "Match shape Tensor(\"activation/Identity:0\", shape=(None, 40, 3), dtype=float32)\n"
     ]
    }
   ],
   "source": [
    "# 스토리 단어들과 질문 단어들 간의 유사도를 구하는 과정\n",
    "# 유사도는 내적을 사용한다.\n",
    "match = dot([input_encoded_m, question_encoded], axes=-1, normalize=False)\n",
    "match = Activation('softmax')(match)\n",
    "print('Match shape', match)\n",
    "# 결과 : (samples, story_max_len, question_max_len) / 샘플의 수, 문장의 최대 길이, 질문의 최대 길이"
   ]
  },
  {
   "cell_type": "code",
   "execution_count": 28,
   "id": "incorporate-chocolate",
   "metadata": {},
   "outputs": [
    {
     "name": "stdout",
     "output_type": "stream",
     "text": [
      "Response shape Tensor(\"permute/Identity:0\", shape=(None, 3, 40), dtype=float32)\n"
     ]
    }
   ],
   "source": [
    "# 매칭 유사도 행렬과 질문에 대한 임베딩을 더한다.\n",
    "response = add([match, input_encoded_c])  # (samples, story_maxlen, question_max_len)\n",
    "response = Permute((2, 1))(response)  # (samples, question_max_len, story_maxlen)\n",
    "print('Response shape', response)"
   ]
  },
  {
   "cell_type": "code",
   "execution_count": 29,
   "id": "modern-mentor",
   "metadata": {},
   "outputs": [
    {
     "name": "stdout",
     "output_type": "stream",
     "text": [
      "Answer shape Tensor(\"concatenate/Identity:0\", shape=(None, 3, 90), dtype=float32)\n"
     ]
    }
   ],
   "source": [
    "# concatenate the response vector with the question vector sequence\n",
    "answer = concatenate([response, question_encoded])\n",
    "print('Answer shape', answer)\n",
    " \n",
    "answer = LSTM(lstm_size)(answer)  # Generate tensors of shape 32\n",
    "answer = Dropout(dropout_rate)(answer)\n",
    "answer = Dense(vocab_size)(answer)  # (samples, vocab_size)\n",
    "# we output a probability distribution over the vocabulary\n",
    "answer = Activation('softmax')(answer)"
   ]
  },
  {
   "cell_type": "markdown",
   "id": "preceding-paint",
   "metadata": {},
   "source": [
    "## 3. 모델 훈련"
   ]
  },
  {
   "cell_type": "code",
   "execution_count": 30,
   "id": "selected-freeze",
   "metadata": {},
   "outputs": [
    {
     "name": "stdout",
     "output_type": "stream",
     "text": [
      "Epoch 1/120\n",
      "313/313 [==============================] - 1s 4ms/step - loss: 1.9117 - acc: 0.1689 - val_loss: 1.7791 - val_acc: 0.1770\n",
      "Epoch 2/120\n",
      "313/313 [==============================] - 1s 3ms/step - loss: 1.7167 - acc: 0.2533 - val_loss: 1.6329 - val_acc: 0.3070\n",
      "Epoch 3/120\n",
      "313/313 [==============================] - 1s 3ms/step - loss: 1.5946 - acc: 0.3510 - val_loss: 1.5211 - val_acc: 0.3980\n",
      "Epoch 4/120\n",
      "313/313 [==============================] - 1s 3ms/step - loss: 1.5126 - acc: 0.3911 - val_loss: 1.5024 - val_acc: 0.3870\n",
      "Epoch 5/120\n",
      "313/313 [==============================] - 1s 3ms/step - loss: 1.4935 - acc: 0.3948 - val_loss: 1.4749 - val_acc: 0.4000\n",
      "Epoch 6/120\n",
      "313/313 [==============================] - 1s 4ms/step - loss: 1.4798 - acc: 0.4068 - val_loss: 1.4720 - val_acc: 0.4130\n",
      "Epoch 7/120\n",
      "313/313 [==============================] - 1s 4ms/step - loss: 1.4462 - acc: 0.4232 - val_loss: 1.4094 - val_acc: 0.4440\n",
      "Epoch 8/120\n",
      "313/313 [==============================] - 1s 3ms/step - loss: 1.4124 - acc: 0.4393 - val_loss: 1.3707 - val_acc: 0.4670\n",
      "Epoch 9/120\n",
      "313/313 [==============================] - 1s 4ms/step - loss: 1.3867 - acc: 0.4570 - val_loss: 1.3448 - val_acc: 0.4770\n",
      "Epoch 10/120\n",
      "313/313 [==============================] - 1s 4ms/step - loss: 1.3691 - acc: 0.4653 - val_loss: 1.3293 - val_acc: 0.4950\n",
      "Epoch 11/120\n",
      "313/313 [==============================] - 1s 4ms/step - loss: 1.3489 - acc: 0.4719 - val_loss: 1.3055 - val_acc: 0.5040\n",
      "Epoch 12/120\n",
      "313/313 [==============================] - 1s 4ms/step - loss: 1.3326 - acc: 0.4812 - val_loss: 1.2876 - val_acc: 0.5090\n",
      "Epoch 13/120\n",
      "313/313 [==============================] - 1s 3ms/step - loss: 1.3105 - acc: 0.4941 - val_loss: 1.2614 - val_acc: 0.5280\n",
      "Epoch 14/120\n",
      "313/313 [==============================] - 1s 4ms/step - loss: 1.2961 - acc: 0.4994 - val_loss: 1.2404 - val_acc: 0.5230\n",
      "Epoch 15/120\n",
      "313/313 [==============================] - 1s 3ms/step - loss: 1.2734 - acc: 0.5061 - val_loss: 1.2403 - val_acc: 0.5200\n",
      "Epoch 16/120\n",
      "313/313 [==============================] - 1s 3ms/step - loss: 1.2568 - acc: 0.5104 - val_loss: 1.2501 - val_acc: 0.5200\n",
      "Epoch 17/120\n",
      "313/313 [==============================] - 1s 3ms/step - loss: 1.2487 - acc: 0.5130 - val_loss: 1.2438 - val_acc: 0.5150\n",
      "Epoch 18/120\n",
      "313/313 [==============================] - 1s 3ms/step - loss: 1.2416 - acc: 0.5160 - val_loss: 1.2048 - val_acc: 0.5400\n",
      "Epoch 19/120\n",
      "313/313 [==============================] - 1s 3ms/step - loss: 1.2298 - acc: 0.5182 - val_loss: 1.2337 - val_acc: 0.5180\n",
      "Epoch 20/120\n",
      "313/313 [==============================] - 1s 3ms/step - loss: 1.2137 - acc: 0.5196 - val_loss: 1.2267 - val_acc: 0.5190\n",
      "Epoch 21/120\n",
      "313/313 [==============================] - 1s 3ms/step - loss: 1.2195 - acc: 0.5173 - val_loss: 1.2032 - val_acc: 0.5230\n",
      "Epoch 22/120\n",
      "313/313 [==============================] - 1s 3ms/step - loss: 1.1974 - acc: 0.5242 - val_loss: 1.1996 - val_acc: 0.5250\n",
      "Epoch 23/120\n",
      "313/313 [==============================] - 1s 3ms/step - loss: 1.1997 - acc: 0.5244 - val_loss: 1.1936 - val_acc: 0.5390\n",
      "Epoch 24/120\n",
      "313/313 [==============================] - 1s 3ms/step - loss: 1.1847 - acc: 0.5241 - val_loss: 1.2136 - val_acc: 0.5130\n",
      "Epoch 25/120\n",
      "313/313 [==============================] - 1s 3ms/step - loss: 1.1884 - acc: 0.5258 - val_loss: 1.2017 - val_acc: 0.5250\n",
      "Epoch 26/120\n",
      "313/313 [==============================] - 1s 3ms/step - loss: 1.1706 - acc: 0.5322 - val_loss: 1.1825 - val_acc: 0.5370\n",
      "Epoch 27/120\n",
      "313/313 [==============================] - 1s 3ms/step - loss: 1.1518 - acc: 0.5385 - val_loss: 1.1633 - val_acc: 0.5500\n",
      "Epoch 28/120\n",
      "313/313 [==============================] - 1s 3ms/step - loss: 1.1334 - acc: 0.5505 - val_loss: 1.1257 - val_acc: 0.5800\n",
      "Epoch 29/120\n",
      "313/313 [==============================] - 1s 3ms/step - loss: 1.0917 - acc: 0.5830 - val_loss: 1.0647 - val_acc: 0.6340\n",
      "Epoch 30/120\n",
      "313/313 [==============================] - 1s 3ms/step - loss: 1.0413 - acc: 0.6140 - val_loss: 1.0088 - val_acc: 0.6450\n",
      "Epoch 31/120\n",
      "313/313 [==============================] - 1s 3ms/step - loss: 0.9775 - acc: 0.6450 - val_loss: 0.9465 - val_acc: 0.6740\n",
      "Epoch 32/120\n",
      "313/313 [==============================] - 1s 3ms/step - loss: 0.9050 - acc: 0.6803 - val_loss: 0.8610 - val_acc: 0.6960\n",
      "Epoch 33/120\n",
      "313/313 [==============================] - 1s 3ms/step - loss: 0.8288 - acc: 0.7082 - val_loss: 0.7843 - val_acc: 0.7400\n",
      "Epoch 34/120\n",
      "313/313 [==============================] - 1s 3ms/step - loss: 0.7508 - acc: 0.7368 - val_loss: 0.7550 - val_acc: 0.7370\n",
      "Epoch 35/120\n",
      "313/313 [==============================] - 1s 3ms/step - loss: 0.6873 - acc: 0.7593 - val_loss: 0.6436 - val_acc: 0.7720\n",
      "Epoch 36/120\n",
      "313/313 [==============================] - 1s 3ms/step - loss: 0.6382 - acc: 0.7782 - val_loss: 0.6031 - val_acc: 0.7750\n",
      "Epoch 37/120\n",
      "313/313 [==============================] - 1s 4ms/step - loss: 0.5817 - acc: 0.7928 - val_loss: 0.5537 - val_acc: 0.8020\n",
      "Epoch 38/120\n",
      "313/313 [==============================] - 1s 4ms/step - loss: 0.5405 - acc: 0.8052 - val_loss: 0.5432 - val_acc: 0.8010\n",
      "Epoch 39/120\n",
      "313/313 [==============================] - 1s 4ms/step - loss: 0.5071 - acc: 0.8197 - val_loss: 0.5054 - val_acc: 0.8210\n",
      "Epoch 40/120\n",
      "313/313 [==============================] - 1s 4ms/step - loss: 0.4716 - acc: 0.8293 - val_loss: 0.4659 - val_acc: 0.8350\n",
      "Epoch 41/120\n",
      "313/313 [==============================] - 1s 3ms/step - loss: 0.4461 - acc: 0.8354 - val_loss: 0.4485 - val_acc: 0.8360\n",
      "Epoch 42/120\n",
      "313/313 [==============================] - 1s 4ms/step - loss: 0.4144 - acc: 0.8488 - val_loss: 0.4413 - val_acc: 0.8520\n",
      "Epoch 43/120\n",
      "313/313 [==============================] - 1s 4ms/step - loss: 0.4048 - acc: 0.8512 - val_loss: 0.4290 - val_acc: 0.8460\n",
      "Epoch 44/120\n",
      "313/313 [==============================] - 1s 4ms/step - loss: 0.3869 - acc: 0.8564 - val_loss: 0.4078 - val_acc: 0.8490\n",
      "Epoch 45/120\n",
      "313/313 [==============================] - 1s 4ms/step - loss: 0.3748 - acc: 0.8559 - val_loss: 0.4080 - val_acc: 0.8480\n",
      "Epoch 46/120\n",
      "313/313 [==============================] - 1s 4ms/step - loss: 0.3625 - acc: 0.8645 - val_loss: 0.4036 - val_acc: 0.8560\n",
      "Epoch 47/120\n",
      "313/313 [==============================] - 1s 3ms/step - loss: 0.3488 - acc: 0.8666 - val_loss: 0.3968 - val_acc: 0.8600\n",
      "Epoch 48/120\n",
      "313/313 [==============================] - 1s 3ms/step - loss: 0.3396 - acc: 0.8732 - val_loss: 0.3812 - val_acc: 0.8510\n",
      "Epoch 49/120\n",
      "313/313 [==============================] - 1s 4ms/step - loss: 0.3320 - acc: 0.8744 - val_loss: 0.3750 - val_acc: 0.8520\n",
      "Epoch 50/120\n",
      "313/313 [==============================] - 1s 3ms/step - loss: 0.3174 - acc: 0.8827 - val_loss: 0.3866 - val_acc: 0.8530\n",
      "Epoch 51/120\n",
      "313/313 [==============================] - 1s 4ms/step - loss: 0.3137 - acc: 0.8843 - val_loss: 0.3662 - val_acc: 0.8670\n",
      "Epoch 52/120\n",
      "313/313 [==============================] - 1s 4ms/step - loss: 0.3041 - acc: 0.8853 - val_loss: 0.3672 - val_acc: 0.8610\n",
      "Epoch 53/120\n",
      "313/313 [==============================] - 1s 4ms/step - loss: 0.2963 - acc: 0.8900 - val_loss: 0.3637 - val_acc: 0.8710\n",
      "Epoch 54/120\n",
      "313/313 [==============================] - 1s 4ms/step - loss: 0.2855 - acc: 0.8957 - val_loss: 0.3564 - val_acc: 0.8710\n",
      "Epoch 55/120\n",
      "313/313 [==============================] - 1s 4ms/step - loss: 0.2739 - acc: 0.8982 - val_loss: 0.3403 - val_acc: 0.8820\n",
      "Epoch 56/120\n",
      "313/313 [==============================] - 1s 4ms/step - loss: 0.2731 - acc: 0.9024 - val_loss: 0.3396 - val_acc: 0.8760\n",
      "Epoch 57/120\n",
      "313/313 [==============================] - 1s 3ms/step - loss: 0.2621 - acc: 0.9022 - val_loss: 0.3228 - val_acc: 0.8840\n",
      "Epoch 58/120\n",
      "313/313 [==============================] - 1s 4ms/step - loss: 0.2509 - acc: 0.9086 - val_loss: 0.3196 - val_acc: 0.8840\n",
      "Epoch 59/120\n",
      "313/313 [==============================] - 1s 3ms/step - loss: 0.2402 - acc: 0.9129 - val_loss: 0.3153 - val_acc: 0.8840\n",
      "Epoch 60/120\n",
      "313/313 [==============================] - 1s 3ms/step - loss: 0.2241 - acc: 0.9174 - val_loss: 0.3132 - val_acc: 0.8940\n",
      "Epoch 61/120\n",
      "313/313 [==============================] - 1s 4ms/step - loss: 0.2136 - acc: 0.9249 - val_loss: 0.2929 - val_acc: 0.8940\n",
      "Epoch 62/120\n"
     ]
    },
    {
     "name": "stdout",
     "output_type": "stream",
     "text": [
      "313/313 [==============================] - 1s 4ms/step - loss: 0.2174 - acc: 0.9211 - val_loss: 0.2829 - val_acc: 0.8970\n",
      "Epoch 63/120\n",
      "313/313 [==============================] - 1s 4ms/step - loss: 0.2000 - acc: 0.9276 - val_loss: 0.2781 - val_acc: 0.9080\n",
      "Epoch 64/120\n",
      "313/313 [==============================] - 1s 4ms/step - loss: 0.1941 - acc: 0.9305 - val_loss: 0.2734 - val_acc: 0.9020\n",
      "Epoch 65/120\n",
      "313/313 [==============================] - 1s 4ms/step - loss: 0.1871 - acc: 0.9321 - val_loss: 0.2672 - val_acc: 0.9080\n",
      "Epoch 66/120\n",
      "313/313 [==============================] - 1s 4ms/step - loss: 0.1824 - acc: 0.9369 - val_loss: 0.2708 - val_acc: 0.9130\n",
      "Epoch 67/120\n",
      "313/313 [==============================] - 1s 4ms/step - loss: 0.1793 - acc: 0.9378 - val_loss: 0.2751 - val_acc: 0.9020\n",
      "Epoch 68/120\n",
      "313/313 [==============================] - 1s 4ms/step - loss: 0.1705 - acc: 0.9411 - val_loss: 0.2528 - val_acc: 0.9180\n",
      "Epoch 69/120\n",
      "313/313 [==============================] - 1s 4ms/step - loss: 0.1657 - acc: 0.9391 - val_loss: 0.2627 - val_acc: 0.9110\n",
      "Epoch 70/120\n",
      "313/313 [==============================] - 1s 3ms/step - loss: 0.1634 - acc: 0.9418 - val_loss: 0.2589 - val_acc: 0.9130\n",
      "Epoch 71/120\n",
      "313/313 [==============================] - 1s 4ms/step - loss: 0.1517 - acc: 0.9435 - val_loss: 0.2410 - val_acc: 0.9200\n",
      "Epoch 72/120\n",
      "313/313 [==============================] - 1s 4ms/step - loss: 0.1531 - acc: 0.9460 - val_loss: 0.2445 - val_acc: 0.9200\n",
      "Epoch 73/120\n",
      "313/313 [==============================] - 1s 4ms/step - loss: 0.1470 - acc: 0.9487 - val_loss: 0.2644 - val_acc: 0.9170\n",
      "Epoch 74/120\n",
      "313/313 [==============================] - 1s 4ms/step - loss: 0.1428 - acc: 0.9505 - val_loss: 0.2461 - val_acc: 0.9210\n",
      "Epoch 75/120\n",
      "313/313 [==============================] - 1s 3ms/step - loss: 0.1412 - acc: 0.9485 - val_loss: 0.2457 - val_acc: 0.9200\n",
      "Epoch 76/120\n",
      "313/313 [==============================] - 1s 4ms/step - loss: 0.1343 - acc: 0.9536 - val_loss: 0.2489 - val_acc: 0.9240\n",
      "Epoch 77/120\n",
      "313/313 [==============================] - 1s 3ms/step - loss: 0.1294 - acc: 0.9554 - val_loss: 0.2483 - val_acc: 0.9180\n",
      "Epoch 78/120\n",
      "313/313 [==============================] - 1s 4ms/step - loss: 0.1242 - acc: 0.9549 - val_loss: 0.2471 - val_acc: 0.9150\n",
      "Epoch 79/120\n",
      "313/313 [==============================] - 1s 4ms/step - loss: 0.1300 - acc: 0.9532 - val_loss: 0.2419 - val_acc: 0.9200\n",
      "Epoch 80/120\n",
      "313/313 [==============================] - 1s 3ms/step - loss: 0.1156 - acc: 0.9589 - val_loss: 0.2292 - val_acc: 0.9250\n",
      "Epoch 81/120\n",
      "313/313 [==============================] - 1s 4ms/step - loss: 0.1228 - acc: 0.9572 - val_loss: 0.2532 - val_acc: 0.9200\n",
      "Epoch 82/120\n",
      "313/313 [==============================] - 1s 3ms/step - loss: 0.1172 - acc: 0.9589 - val_loss: 0.2348 - val_acc: 0.9240\n",
      "Epoch 83/120\n",
      "313/313 [==============================] - 1s 4ms/step - loss: 0.1120 - acc: 0.9612 - val_loss: 0.2387 - val_acc: 0.9250\n",
      "Epoch 84/120\n",
      "313/313 [==============================] - 1s 4ms/step - loss: 0.1100 - acc: 0.9626 - val_loss: 0.2490 - val_acc: 0.9240\n",
      "Epoch 85/120\n",
      "313/313 [==============================] - 1s 4ms/step - loss: 0.1000 - acc: 0.9666 - val_loss: 0.2444 - val_acc: 0.9250\n",
      "Epoch 86/120\n",
      "313/313 [==============================] - 1s 4ms/step - loss: 0.1006 - acc: 0.9643 - val_loss: 0.2467 - val_acc: 0.9160\n",
      "Epoch 87/120\n",
      "313/313 [==============================] - 1s 4ms/step - loss: 0.0973 - acc: 0.9677 - val_loss: 0.2369 - val_acc: 0.9270\n",
      "Epoch 88/120\n",
      "313/313 [==============================] - 1s 4ms/step - loss: 0.0947 - acc: 0.9661 - val_loss: 0.2346 - val_acc: 0.9210\n",
      "Epoch 89/120\n",
      "313/313 [==============================] - 1s 4ms/step - loss: 0.0883 - acc: 0.9681 - val_loss: 0.2365 - val_acc: 0.9290\n",
      "Epoch 90/120\n",
      "313/313 [==============================] - 1s 4ms/step - loss: 0.0860 - acc: 0.9700 - val_loss: 0.2528 - val_acc: 0.9270\n",
      "Epoch 91/120\n",
      "313/313 [==============================] - 1s 4ms/step - loss: 0.0871 - acc: 0.9729 - val_loss: 0.2365 - val_acc: 0.9260\n",
      "Epoch 92/120\n",
      "313/313 [==============================] - 1s 4ms/step - loss: 0.0854 - acc: 0.9711 - val_loss: 0.2280 - val_acc: 0.9280\n",
      "Epoch 93/120\n",
      "313/313 [==============================] - 1s 4ms/step - loss: 0.0836 - acc: 0.9724 - val_loss: 0.2243 - val_acc: 0.9330\n",
      "Epoch 94/120\n",
      "313/313 [==============================] - 1s 3ms/step - loss: 0.0820 - acc: 0.9721 - val_loss: 0.2239 - val_acc: 0.9350\n",
      "Epoch 95/120\n",
      "313/313 [==============================] - 1s 4ms/step - loss: 0.0734 - acc: 0.9754 - val_loss: 0.2380 - val_acc: 0.9280\n",
      "Epoch 96/120\n",
      "313/313 [==============================] - 1s 3ms/step - loss: 0.0712 - acc: 0.9754 - val_loss: 0.2711 - val_acc: 0.9260\n",
      "Epoch 97/120\n",
      "313/313 [==============================] - 1s 3ms/step - loss: 0.0711 - acc: 0.9749 - val_loss: 0.2191 - val_acc: 0.9340\n",
      "Epoch 98/120\n",
      "313/313 [==============================] - 1s 4ms/step - loss: 0.0680 - acc: 0.9772 - val_loss: 0.2222 - val_acc: 0.9290\n",
      "Epoch 99/120\n",
      "313/313 [==============================] - 1s 3ms/step - loss: 0.0668 - acc: 0.9765 - val_loss: 0.2423 - val_acc: 0.9370\n",
      "Epoch 100/120\n",
      "313/313 [==============================] - 1s 3ms/step - loss: 0.0652 - acc: 0.9777 - val_loss: 0.2185 - val_acc: 0.9380\n",
      "Epoch 101/120\n",
      "313/313 [==============================] - 1s 3ms/step - loss: 0.0610 - acc: 0.9791 - val_loss: 0.2024 - val_acc: 0.9410\n",
      "Epoch 102/120\n",
      "313/313 [==============================] - 1s 3ms/step - loss: 0.0597 - acc: 0.9813 - val_loss: 0.2366 - val_acc: 0.9350\n",
      "Epoch 103/120\n",
      "313/313 [==============================] - 1s 3ms/step - loss: 0.0620 - acc: 0.9797 - val_loss: 0.2297 - val_acc: 0.9390\n",
      "Epoch 104/120\n",
      "313/313 [==============================] - 1s 3ms/step - loss: 0.0592 - acc: 0.9817 - val_loss: 0.2127 - val_acc: 0.9400\n",
      "Epoch 105/120\n",
      "313/313 [==============================] - 1s 4ms/step - loss: 0.0552 - acc: 0.9824 - val_loss: 0.2154 - val_acc: 0.9340\n",
      "Epoch 106/120\n",
      "313/313 [==============================] - 1s 3ms/step - loss: 0.0554 - acc: 0.9821 - val_loss: 0.2182 - val_acc: 0.9360\n",
      "Epoch 107/120\n",
      "313/313 [==============================] - 1s 3ms/step - loss: 0.0500 - acc: 0.9827 - val_loss: 0.2006 - val_acc: 0.9440\n",
      "Epoch 108/120\n",
      "313/313 [==============================] - 1s 3ms/step - loss: 0.0512 - acc: 0.9833 - val_loss: 0.1957 - val_acc: 0.9440\n",
      "Epoch 109/120\n",
      "313/313 [==============================] - 1s 3ms/step - loss: 0.0462 - acc: 0.9846 - val_loss: 0.2140 - val_acc: 0.9400\n",
      "Epoch 110/120\n",
      "313/313 [==============================] - 1s 3ms/step - loss: 0.0498 - acc: 0.9836 - val_loss: 0.2087 - val_acc: 0.9410\n",
      "Epoch 111/120\n",
      "313/313 [==============================] - 1s 3ms/step - loss: 0.0495 - acc: 0.9834 - val_loss: 0.2185 - val_acc: 0.9420\n",
      "Epoch 112/120\n",
      "313/313 [==============================] - 1s 4ms/step - loss: 0.0482 - acc: 0.9845 - val_loss: 0.2314 - val_acc: 0.9310\n",
      "Epoch 113/120\n",
      "313/313 [==============================] - 1s 3ms/step - loss: 0.0508 - acc: 0.9827 - val_loss: 0.1967 - val_acc: 0.9430\n",
      "Epoch 114/120\n",
      "313/313 [==============================] - 1s 4ms/step - loss: 0.0414 - acc: 0.9863 - val_loss: 0.2236 - val_acc: 0.9430\n",
      "Epoch 115/120\n",
      "313/313 [==============================] - 1s 3ms/step - loss: 0.0490 - acc: 0.9840 - val_loss: 0.2051 - val_acc: 0.9450\n",
      "Epoch 116/120\n",
      "313/313 [==============================] - 1s 3ms/step - loss: 0.0438 - acc: 0.9850 - val_loss: 0.1929 - val_acc: 0.9480\n",
      "Epoch 117/120\n",
      "313/313 [==============================] - 1s 3ms/step - loss: 0.0424 - acc: 0.9882 - val_loss: 0.2227 - val_acc: 0.9410\n",
      "Epoch 118/120\n",
      "313/313 [==============================] - 1s 3ms/step - loss: 0.0459 - acc: 0.9852 - val_loss: 0.1839 - val_acc: 0.9510\n",
      "Epoch 119/120\n",
      "313/313 [==============================] - 1s 3ms/step - loss: 0.0415 - acc: 0.9866 - val_loss: 0.2006 - val_acc: 0.9460\n",
      "Epoch 120/120\n",
      "313/313 [==============================] - 1s 3ms/step - loss: 0.0354 - acc: 0.9894 - val_loss: 0.1858 - val_acc: 0.9500\n"
     ]
    }
   ],
   "source": [
    "import os\n",
    "\n",
    "# 모델 컴파일\n",
    "model = Model([input_sequence, question], answer)\n",
    "model.compile(optimizer='rmsprop', loss='categorical_crossentropy',\n",
    "              metrics=['acc'])\n",
    " \n",
    "# 테스트 데이터를 검증 데이터로 사용하면서 모델 훈련 시작\n",
    "history = model.fit([Xstrain, Xqtrain],\n",
    "         Ytrain, batch_size, train_epochs,\n",
    "         validation_data=([Xstest, Xqtest], Ytest))\n",
    " \n",
    "# 훈련 후에는 모델 저장\n",
    "model_path = os.getenv('HOME')+'/aiffel/babi_memory_net/model.h5'\n",
    "model.save(model_path)"
   ]
  },
  {
   "cell_type": "markdown",
   "id": "functional-shannon",
   "metadata": {},
   "source": [
    "## 4. 모델 평가\n",
    "훈련한 모델에 대하여 정확도와 실제 예측이 어떻게 되는 지 확인한다."
   ]
  },
  {
   "cell_type": "code",
   "execution_count": 31,
   "id": "overall-notice",
   "metadata": {},
   "outputs": [
    {
     "name": "stdout",
     "output_type": "stream",
     "text": [
      "32/32 [==============================] - 0s 2ms/step - loss: 0.1858 - acc: 0.9500\n",
      "\n",
      " 테스트 정확도: 0.9500\n"
     ]
    }
   ],
   "source": [
    "print(\"\\n 테스트 정확도: %.4f\" % (model.evaluate([Xstest, Xqtest], Ytest)[1]))"
   ]
  },
  {
   "cell_type": "code",
   "execution_count": 32,
   "id": "hindu-camcorder",
   "metadata": {},
   "outputs": [
    {
     "data": {
      "image/png": "[encoded data removed]",
      "text/plain": [
       "<Figure size 432x288 with 2 Axes>"
      ]
     },
     "metadata": {
      "needs_background": "light"
     },
     "output_type": "display_data"
    }
   ],
   "source": [
    "# plot accuracy and loss plot\n",
    "plt.subplot(211)\n",
    "plt.title(\"Accuracy\")\n",
    "plt.plot(history.history[\"acc\"], color=\"g\", label=\"train\")\n",
    "plt.plot(history.history[\"val_acc\"], color=\"b\", label=\"validation\")\n",
    "plt.legend(loc=\"best\")\n",
    "\n",
    "plt.subplot(212)\n",
    "plt.title(\"Loss\")\n",
    "plt.plot(history.history[\"loss\"], color=\"g\", label=\"train\")\n",
    "plt.plot(history.history[\"val_loss\"], color=\"b\", label=\"validation\")\n",
    "plt.legend(loc=\"best\")\n",
    "\n",
    "plt.tight_layout()\n",
    "plt.show()\n",
    "\n",
    "# labels\n",
    "ytest = np.argmax(Ytest, axis=1)\n",
    "\n",
    "# get predictions\n",
    "Ytest_ = model.predict([Xstest, Xqtest])\n",
    "ytest_ = np.argmax(Ytest_, axis=1)"
   ]
  },
  {
   "cell_type": "code",
   "execution_count": 33,
   "id": "immediate-mailing",
   "metadata": {},
   "outputs": [
    {
     "name": "stdout",
     "output_type": "stream",
     "text": [
      "질문                  |실제값    |예측값\n",
      "---------------------------------------\n",
      "은경이는 어디야 ?          : 복도       복도\n",
      "필웅이는 어디야 ?          : 화장실      화장실\n",
      "경임이는 어디야 ?          : 부엌       부엌\n",
      "경임이는 어디야 ?          : 복도       복도\n",
      "경임이는 어디야 ?          : 부엌       부엌\n",
      "경임이는 어디야 ?          : 복도       복도\n",
      "경임이는 어디야 ?          : 정원       정원\n",
      "수종이는 어디야 ?          : 복도       복도\n",
      "경임이는 어디야 ?          : 사무실      정원\n",
      "수종이는 어디야 ?          : 사무실      부엌\n",
      "필웅이는 어디야 ?          : 부엌       부엌\n",
      "필웅이는 어디야 ?          : 정원       정원\n",
      "수종이는 어디야 ?          : 사무실      사무실\n",
      "필웅이는 어디야 ?          : 침실       침실\n",
      "필웅이는 어디야 ?          : 침실       침실\n",
      "은경이는 어디야 ?          : 부엌       부엌\n",
      "은경이는 어디야 ?          : 정원       정원\n",
      "은경이는 어디야 ?          : 부엌       부엌\n",
      "수종이는 어디야 ?          : 사무실      사무실\n",
      "은경이는 어디야 ?          : 부엌       복도\n",
      "필웅이는 어디야 ?          : 복도       복도\n",
      "은경이는 어디야 ?          : 사무실      사무실\n",
      "은경이는 어디야 ?          : 사무실      사무실\n",
      "경임이는 어디야 ?          : 복도       복도\n",
      "수종이는 어디야 ?          : 침실       침실\n",
      "경임이는 어디야 ?          : 침실       침실\n",
      "필웅이는 어디야 ?          : 침실       침실\n",
      "수종이는 어디야 ?          : 부엌       부엌\n",
      "수종이는 어디야 ?          : 부엌       부엌\n",
      "수종이는 어디야 ?          : 부엌       부엌\n"
     ]
    }
   ],
   "source": [
    "NUM_DISPLAY = 30\n",
    "\n",
    "print(\"{:20}|{:7}|{}\".format(\"질문\", \"실제값\", \"예측값\"))\n",
    "print(39 * \"-\")\n",
    "\n",
    "for i in range(NUM_DISPLAY):\n",
    "    question = \" \".join([idx2word[x] for x in Xqtest[i].tolist()])\n",
    "    label = idx2word[ytest[i]]\n",
    "    prediction = idx2word[ytest_[i]]\n",
    "    print(\"{:20}: {:8} {}\".format(question, label, prediction))"
   ]
  },
  {
   "cell_type": "markdown",
   "id": "altered-fault",
   "metadata": {},
   "source": [
    "### ckonlpy 사용해보기\n",
    "토크나이징할 때에 한국어 특성을 고려한 토크나이징을 사용해본다.   \n",
    "ckonlpy를 이용하여 이전과 동일한 조건으로 실험한다.   \n",
    "오히려 성능이 안 좋은 것을 알 수 있는데 아마도 이름같은 고유명사들을 형태소로 분리해서 분석하기 때문일 것이다.   \n",
    "이를 방지하기 위해서는 각각의 고유명사들을 모두 등록해줘야 하는 일이 필요할 것이다.   "
   ]
  },
  {
   "cell_type": "code",
   "execution_count": 35,
   "id": "golden-contact",
   "metadata": {},
   "outputs": [
    {
     "data": {
      "text/plain": [
       "['은경이', '는', '사무실', '로', '갔습니다', '.']"
      ]
     },
     "execution_count": 35,
     "metadata": {},
     "output_type": "execute_result"
    }
   ],
   "source": [
    "from ckonlpy.tag import Twitter\n",
    "twitter = Twitter()\n",
    "twitter.add_dictionary('은경이', 'Noun')\n",
    "twitter.morphs('은경이는 사무실로 갔습니다.')"
   ]
  },
  {
   "cell_type": "code",
   "execution_count": 36,
   "id": "municipal-plasma",
   "metadata": {},
   "outputs": [],
   "source": [
    "def tokenize(sent):\n",
    "    return twitter.morphs(sent)"
   ]
  },
  {
   "cell_type": "code",
   "execution_count": 37,
   "id": "soviet-finish",
   "metadata": {},
   "outputs": [],
   "source": [
    "word2idx, idx2word, story_max_len, question_max_len = preprocess_data(train_data, test_data)"
   ]
  },
  {
   "cell_type": "code",
   "execution_count": 38,
   "id": "major-manufacturer",
   "metadata": {},
   "outputs": [
    {
     "name": "stdout",
     "output_type": "stream",
     "text": [
      "{'는': 1, '.': 2, '로': 3, '이': 4, '했습니다': 5, '으로': 6, '경': 7, '임': 8, '은경이': 9, '수종': 10, '필웅이': 11, '이동': 12, '가버렸습니다': 13, '뛰어갔습니다': 14, '복귀': 15, '화장실': 16, '정원': 17, '복도': 18, '갔습니다': 19, '사무실': 20, '부엌': 21, '침실': 22, '어디': 23, '야': 24, '?': 25}\n"
     ]
    }
   ],
   "source": [
    "print(word2idx)"
   ]
  },
  {
   "cell_type": "code",
   "execution_count": 39,
   "id": "experimental-deadline",
   "metadata": {},
   "outputs": [],
   "source": [
    "vocab_size = len(word2idx) + 1"
   ]
  },
  {
   "cell_type": "code",
   "execution_count": 40,
   "id": "brief-satisfaction",
   "metadata": {},
   "outputs": [
    {
     "name": "stdout",
     "output_type": "stream",
     "text": [
      "스토리의 최대 길이 : 82\n",
      "질문의 최대 길이 : 7\n"
     ]
    }
   ],
   "source": [
    "print('스토리의 최대 길이 :',story_max_len)\n",
    "print('질문의 최대 길이 :',question_max_len)"
   ]
  },
  {
   "cell_type": "code",
   "execution_count": 41,
   "id": "helpful-letters",
   "metadata": {},
   "outputs": [],
   "source": [
    "def vectorize(data, word2idx, story_maxlen, question_maxlen):\n",
    "    Xs, Xq, Y = [], [], []\n",
    "    flatten = lambda data: reduce(lambda x, y: x + y, data)\n",
    "\n",
    "    stories, questions, answers = data\n",
    "    for story, question, answer in zip(stories, questions, answers):\n",
    "        xs = [word2idx[w] for w in tokenize(flatten(story))]\n",
    "        xq = [word2idx[w] for w in tokenize(question)]\n",
    "        Xs.append(xs)\n",
    "        Xq.append(xq)\n",
    "        Y.append(word2idx[answer])\n",
    "\n",
    "    # 스토리와 질문은 각각의 최대 길이로 패딩\n",
    "    # 정답은 원-핫 인코딩\n",
    "    return pad_sequences(Xs, maxlen=story_maxlen),\\\n",
    "           pad_sequences(Xq, maxlen=question_maxlen),\\\n",
    "           to_categorical(Y, num_classes=len(word2idx) + 1)"
   ]
  },
  {
   "cell_type": "code",
   "execution_count": 42,
   "id": "innovative-jacket",
   "metadata": {},
   "outputs": [],
   "source": [
    "Xstrain, Xqtrain, Ytrain = vectorize(train_data, word2idx, story_max_len, question_max_len)\n",
    "Xstest, Xqtest, Ytest = vectorize(test_data, word2idx, story_max_len, question_max_len)"
   ]
  },
  {
   "cell_type": "code",
   "execution_count": 43,
   "id": "cardiovascular-dressing",
   "metadata": {},
   "outputs": [
    {
     "name": "stdout",
     "output_type": "stream",
     "text": [
      "(10000, 82) (10000, 7) (10000, 26) (1000, 82) (1000, 7) (1000, 26)\n"
     ]
    }
   ],
   "source": [
    "print(Xstrain.shape, Xqtrain.shape, Ytrain.shape, Xstest.shape, Xqtest.shape, Ytest.shape)"
   ]
  },
  {
   "cell_type": "code",
   "execution_count": 45,
   "id": "tested-fairy",
   "metadata": {},
   "outputs": [
    {
     "name": "stdout",
     "output_type": "stream",
     "text": [
      "Stories : Tensor(\"input_3:0\", shape=(None, 82), dtype=float32)\n",
      "Question: Tensor(\"input_4:0\", shape=(None, 7), dtype=float32)\n",
      "Input encoded m Tensor(\"sequential_3/Identity:0\", shape=(None, 82, 50), dtype=float32) \n",
      "\n",
      "Input encoded c Tensor(\"sequential_4/Identity:0\", shape=(None, 82, 7), dtype=float32) \n",
      "\n",
      "Question encoded Tensor(\"sequential_5/Identity:0\", shape=(None, 7, 50), dtype=float32) \n",
      "\n",
      "Match shape Tensor(\"activation_2/Identity:0\", shape=(None, 82, 7), dtype=float32)\n",
      "Response shape Tensor(\"permute_1/Identity:0\", shape=(None, 7, 82), dtype=float32)\n",
      "Answer shape Tensor(\"concatenate_1/Identity:0\", shape=(None, 7, 132), dtype=float32)\n"
     ]
    }
   ],
   "source": [
    "# 에포크 횟수\n",
    "train_epochs = 120\n",
    "# 배치 크기\n",
    "batch_size = 32\n",
    "# 임베딩 크기\n",
    "embed_size = 50\n",
    "# LSTM의 크기\n",
    "lstm_size = 64\n",
    "# 과적합 방지 기법인 드롭아웃 적용 비율\n",
    "dropout_rate = 0.30\n",
    "\n",
    "input_sequence = Input((story_max_len,))\n",
    "question = Input((question_max_len,))\n",
    " \n",
    "print('Stories :', input_sequence)\n",
    "print('Question:', question)\n",
    "\n",
    "# 스토리를 위한 첫 번째 임베딩. 그림에서의 Embedding A\n",
    "input_encoder_m = Sequential()\n",
    "input_encoder_m.add(Embedding(input_dim=vocab_size,\n",
    "                              output_dim=embed_size))\n",
    "input_encoder_m.add(Dropout(dropout_rate))\n",
    "# 결과 : (samples, story_max_len, embed_size) / 샘플의 수, 문장의 최대 길이, 임베딩 벡터의 차원\n",
    "\n",
    "# 스토리를 위한 두 번째 임베딩. 그림에서의 Embedding C\n",
    "# 임베딩 벡터의 차원을 question_max_len(질문의 최대 길이)로 한다.\n",
    "input_encoder_c = Sequential()\n",
    "input_encoder_c.add(Embedding(input_dim=vocab_size,\n",
    "                              output_dim=question_max_len))\n",
    "input_encoder_c.add(Dropout(dropout_rate))\n",
    "# 결과 : (samples, story_max_len, question_max_len) / 샘플의 수, 문장의 최대 길이, 질문의 최대 길이(임베딩 벡터의 차원)\n",
    "\n",
    "# 질문을 위한 임베딩. 그림에서의 Embedding B\n",
    "question_encoder = Sequential()\n",
    "question_encoder.add(Embedding(input_dim=vocab_size,\n",
    "                               output_dim=embed_size,\n",
    "                               input_length=question_max_len))\n",
    "question_encoder.add(Dropout(dropout_rate))\n",
    "# 결과 : (samples, question_max_len, embed_size) / 샘플의 수, 질문의 최대 길이, 임베딩 벡터의 차원\n",
    "\n",
    "# 실질적인 임베딩 과정\n",
    "input_encoded_m = input_encoder_m(input_sequence)\n",
    "input_encoded_c = input_encoder_c(input_sequence)\n",
    "question_encoded = question_encoder(question)\n",
    "\n",
    "print('Input encoded m', input_encoded_m, '\\n')\n",
    "print('Input encoded c', input_encoded_c, '\\n')\n",
    "print('Question encoded', question_encoded, '\\n')\n",
    "\n",
    "# 스토리 단어들과 질문 단어들 간의 유사도를 구하는 과정\n",
    "# 유사도는 내적을 사용한다.\n",
    "match = dot([input_encoded_m, question_encoded], axes=-1, normalize=False)\n",
    "match = Activation('softmax')(match)\n",
    "print('Match shape', match)\n",
    "# 결과 : (samples, story_max_len, question_max_len) / 샘플의 수, 문장의 최대 길이, 질문의 최대 길이\n",
    "\n",
    "# 매칭 유사도 행렬과 질문에 대한 임베딩을 더한다.\n",
    "response = add([match, input_encoded_c])  # (samples, story_maxlen, question_max_len)\n",
    "response = Permute((2, 1))(response)  # (samples, question_max_len, story_maxlen)\n",
    "print('Response shape', response)\n",
    "\n",
    "# concatenate the response vector with the question vector sequence\n",
    "answer = concatenate([response, question_encoded])\n",
    "print('Answer shape', answer)\n",
    " \n",
    "answer = LSTM(lstm_size)(answer)  # Generate tensors of shape 32\n",
    "answer = Dropout(dropout_rate)(answer)\n",
    "answer = Dense(vocab_size)(answer)  # (samples, vocab_size)\n",
    "# we output a probability distribution over the vocabulary\n",
    "answer = Activation('softmax')(answer)"
   ]
  },
  {
   "cell_type": "code",
   "execution_count": 46,
   "id": "filled-dover",
   "metadata": {},
   "outputs": [
    {
     "name": "stdout",
     "output_type": "stream",
     "text": [
      "Epoch 1/120\n",
      "313/313 [==============================] - 2s 6ms/step - loss: 1.8982 - acc: 0.1771 - val_loss: 1.7263 - val_acc: 0.2610\n",
      "Epoch 2/120\n",
      "313/313 [==============================] - 1s 4ms/step - loss: 1.6799 - acc: 0.2660 - val_loss: 1.6063 - val_acc: 0.3200\n",
      "Epoch 3/120\n",
      "313/313 [==============================] - 1s 4ms/step - loss: 1.5639 - acc: 0.3412 - val_loss: 1.4992 - val_acc: 0.3730\n",
      "Epoch 4/120\n",
      "313/313 [==============================] - 1s 5ms/step - loss: 1.5064 - acc: 0.3681 - val_loss: 1.4695 - val_acc: 0.3870\n",
      "Epoch 5/120\n",
      "313/313 [==============================] - 1s 4ms/step - loss: 1.4849 - acc: 0.3763 - val_loss: 1.4647 - val_acc: 0.4090\n",
      "Epoch 6/120\n",
      "313/313 [==============================] - 1s 4ms/step - loss: 1.4468 - acc: 0.4067 - val_loss: 1.4182 - val_acc: 0.4490\n",
      "Epoch 7/120\n",
      "313/313 [==============================] - 1s 4ms/step - loss: 1.3861 - acc: 0.4594 - val_loss: 1.3271 - val_acc: 0.4910\n",
      "Epoch 8/120\n",
      "313/313 [==============================] - 1s 4ms/step - loss: 1.3323 - acc: 0.4897 - val_loss: 1.3075 - val_acc: 0.5070\n",
      "Epoch 9/120\n",
      "313/313 [==============================] - 1s 4ms/step - loss: 1.2942 - acc: 0.5075 - val_loss: 1.2823 - val_acc: 0.5250\n",
      "Epoch 10/120\n",
      "313/313 [==============================] - 1s 4ms/step - loss: 1.2714 - acc: 0.5148 - val_loss: 1.2548 - val_acc: 0.5320\n",
      "Epoch 11/120\n",
      "313/313 [==============================] - 1s 4ms/step - loss: 1.2508 - acc: 0.5275 - val_loss: 1.2224 - val_acc: 0.5420\n",
      "Epoch 12/120\n",
      "313/313 [==============================] - 1s 4ms/step - loss: 1.2117 - acc: 0.5488 - val_loss: 1.2194 - val_acc: 0.5510\n",
      "Epoch 13/120\n",
      "313/313 [==============================] - 1s 5ms/step - loss: 1.1875 - acc: 0.5642 - val_loss: 1.1839 - val_acc: 0.5500\n",
      "Epoch 14/120\n",
      "313/313 [==============================] - 1s 4ms/step - loss: 1.1701 - acc: 0.5675 - val_loss: 1.1814 - val_acc: 0.5680\n",
      "Epoch 15/120\n",
      "313/313 [==============================] - 1s 4ms/step - loss: 1.1379 - acc: 0.5854 - val_loss: 1.1640 - val_acc: 0.5730\n",
      "Epoch 16/120\n",
      "313/313 [==============================] - 1s 4ms/step - loss: 1.1177 - acc: 0.5916 - val_loss: 1.1745 - val_acc: 0.5660\n",
      "Epoch 17/120\n",
      "313/313 [==============================] - 1s 4ms/step - loss: 1.0976 - acc: 0.5983 - val_loss: 1.1439 - val_acc: 0.5790\n",
      "Epoch 18/120\n",
      "313/313 [==============================] - 1s 4ms/step - loss: 1.0819 - acc: 0.5994 - val_loss: 1.1292 - val_acc: 0.5930\n",
      "Epoch 19/120\n",
      "313/313 [==============================] - 1s 4ms/step - loss: 1.0693 - acc: 0.6105 - val_loss: 1.1247 - val_acc: 0.6000\n",
      "Epoch 20/120\n",
      "313/313 [==============================] - 1s 4ms/step - loss: 1.0386 - acc: 0.6212 - val_loss: 1.1366 - val_acc: 0.6070\n",
      "Epoch 21/120\n",
      "313/313 [==============================] - 1s 4ms/step - loss: 1.0216 - acc: 0.6297 - val_loss: 1.1033 - val_acc: 0.6060\n",
      "Epoch 22/120\n",
      "313/313 [==============================] - 1s 5ms/step - loss: 1.0030 - acc: 0.6341 - val_loss: 1.1070 - val_acc: 0.6080\n",
      "Epoch 23/120\n",
      "313/313 [==============================] - 1s 4ms/step - loss: 0.9882 - acc: 0.6371 - val_loss: 1.1042 - val_acc: 0.6230\n",
      "Epoch 24/120\n",
      "313/313 [==============================] - 1s 4ms/step - loss: 0.9602 - acc: 0.6504 - val_loss: 1.0664 - val_acc: 0.6300\n",
      "Epoch 25/120\n",
      "313/313 [==============================] - 1s 4ms/step - loss: 0.9367 - acc: 0.6668 - val_loss: 1.0462 - val_acc: 0.6500\n",
      "Epoch 26/120\n",
      "313/313 [==============================] - 1s 4ms/step - loss: 0.8954 - acc: 0.6843 - val_loss: 0.9948 - val_acc: 0.6490\n",
      "Epoch 27/120\n",
      "313/313 [==============================] - 1s 4ms/step - loss: 0.8644 - acc: 0.6984 - val_loss: 0.9703 - val_acc: 0.6670\n",
      "Epoch 28/120\n",
      "313/313 [==============================] - 1s 4ms/step - loss: 0.8349 - acc: 0.7064 - val_loss: 0.9304 - val_acc: 0.6840\n",
      "Epoch 29/120\n",
      "313/313 [==============================] - 1s 4ms/step - loss: 0.8001 - acc: 0.7251 - val_loss: 0.9486 - val_acc: 0.6830\n",
      "Epoch 30/120\n",
      "313/313 [==============================] - 1s 4ms/step - loss: 0.7801 - acc: 0.7290 - val_loss: 0.8930 - val_acc: 0.7010\n",
      "Epoch 31/120\n",
      "313/313 [==============================] - 2s 5ms/step - loss: 0.7515 - acc: 0.7395 - val_loss: 0.8758 - val_acc: 0.6970\n",
      "Epoch 32/120\n",
      "313/313 [==============================] - 1s 4ms/step - loss: 0.7304 - acc: 0.7419 - val_loss: 0.8727 - val_acc: 0.6830\n",
      "Epoch 33/120\n",
      "313/313 [==============================] - 2s 7ms/step - loss: 0.7112 - acc: 0.7465 - val_loss: 0.8718 - val_acc: 0.6960\n",
      "Epoch 34/120\n",
      "313/313 [==============================] - 2s 7ms/step - loss: 0.6817 - acc: 0.7606 - val_loss: 0.8800 - val_acc: 0.7160\n",
      "Epoch 35/120\n",
      "313/313 [==============================] - 2s 7ms/step - loss: 0.6645 - acc: 0.7665 - val_loss: 0.8500 - val_acc: 0.7060\n",
      "Epoch 36/120\n",
      "313/313 [==============================] - 2s 5ms/step - loss: 0.6528 - acc: 0.7704 - val_loss: 0.8451 - val_acc: 0.7020\n",
      "Epoch 37/120\n",
      "313/313 [==============================] - 1s 5ms/step - loss: 0.6353 - acc: 0.7744 - val_loss: 0.8583 - val_acc: 0.6980\n",
      "Epoch 38/120\n",
      "313/313 [==============================] - 1s 5ms/step - loss: 0.6311 - acc: 0.7794 - val_loss: 0.8573 - val_acc: 0.7120\n",
      "Epoch 39/120\n",
      "313/313 [==============================] - 2s 5ms/step - loss: 0.6148 - acc: 0.7841 - val_loss: 0.8492 - val_acc: 0.7100\n",
      "Epoch 40/120\n",
      "313/313 [==============================] - 2s 6ms/step - loss: 0.5997 - acc: 0.7886 - val_loss: 0.8546 - val_acc: 0.7090\n",
      "Epoch 41/120\n",
      "313/313 [==============================] - 2s 6ms/step - loss: 0.5866 - acc: 0.7936 - val_loss: 0.8636 - val_acc: 0.7040\n",
      "Epoch 42/120\n",
      "313/313 [==============================] - 2s 5ms/step - loss: 0.5749 - acc: 0.7958 - val_loss: 0.8668 - val_acc: 0.7200\n",
      "Epoch 43/120\n",
      "313/313 [==============================] - 2s 5ms/step - loss: 0.5529 - acc: 0.8081 - val_loss: 0.8494 - val_acc: 0.7240\n",
      "Epoch 44/120\n",
      "313/313 [==============================] - 2s 5ms/step - loss: 0.5389 - acc: 0.8060 - val_loss: 0.8464 - val_acc: 0.7090\n",
      "Epoch 45/120\n",
      "313/313 [==============================] - 2s 5ms/step - loss: 0.5235 - acc: 0.8127 - val_loss: 0.8115 - val_acc: 0.7290\n",
      "Epoch 46/120\n",
      "313/313 [==============================] - 2s 5ms/step - loss: 0.5183 - acc: 0.8148 - val_loss: 0.8296 - val_acc: 0.7360\n",
      "Epoch 47/120\n",
      "313/313 [==============================] - 2s 6ms/step - loss: 0.5091 - acc: 0.8193 - val_loss: 0.8368 - val_acc: 0.7270\n",
      "Epoch 48/120\n",
      "313/313 [==============================] - 2s 6ms/step - loss: 0.4868 - acc: 0.8265 - val_loss: 0.8067 - val_acc: 0.7270\n",
      "Epoch 49/120\n",
      "313/313 [==============================] - 2s 6ms/step - loss: 0.4703 - acc: 0.8361 - val_loss: 0.8529 - val_acc: 0.7300\n",
      "Epoch 50/120\n",
      "313/313 [==============================] - 2s 5ms/step - loss: 0.4593 - acc: 0.8376 - val_loss: 0.8107 - val_acc: 0.7340\n",
      "Epoch 51/120\n",
      "313/313 [==============================] - 2s 5ms/step - loss: 0.4558 - acc: 0.8411 - val_loss: 0.7895 - val_acc: 0.7330\n",
      "Epoch 52/120\n",
      "313/313 [==============================] - 2s 5ms/step - loss: 0.4354 - acc: 0.8449 - val_loss: 0.8356 - val_acc: 0.7340\n",
      "Epoch 53/120\n",
      "313/313 [==============================] - 2s 5ms/step - loss: 0.4305 - acc: 0.8467 - val_loss: 0.8284 - val_acc: 0.7410\n",
      "Epoch 54/120\n",
      "313/313 [==============================] - 2s 6ms/step - loss: 0.4171 - acc: 0.8540 - val_loss: 0.8548 - val_acc: 0.7350\n",
      "Epoch 55/120\n",
      "313/313 [==============================] - 3s 8ms/step - loss: 0.4143 - acc: 0.8524 - val_loss: 0.7991 - val_acc: 0.7460\n",
      "Epoch 56/120\n",
      "313/313 [==============================] - 2s 8ms/step - loss: 0.3969 - acc: 0.8604 - val_loss: 0.8203 - val_acc: 0.7420\n",
      "Epoch 57/120\n",
      "313/313 [==============================] - 2s 7ms/step - loss: 0.3906 - acc: 0.8606 - val_loss: 0.7900 - val_acc: 0.7450\n",
      "Epoch 58/120\n",
      "313/313 [==============================] - 2s 6ms/step - loss: 0.3849 - acc: 0.8606 - val_loss: 0.8253 - val_acc: 0.7430\n",
      "Epoch 59/120\n",
      "313/313 [==============================] - 2s 6ms/step - loss: 0.3783 - acc: 0.8694 - val_loss: 0.8424 - val_acc: 0.7340\n",
      "Epoch 60/120\n",
      "313/313 [==============================] - 2s 7ms/step - loss: 0.3666 - acc: 0.8695 - val_loss: 0.8152 - val_acc: 0.7440\n",
      "Epoch 61/120\n",
      "313/313 [==============================] - 2s 7ms/step - loss: 0.3596 - acc: 0.8716 - val_loss: 0.8565 - val_acc: 0.7450\n",
      "Epoch 62/120\n"
     ]
    },
    {
     "name": "stdout",
     "output_type": "stream",
     "text": [
      "313/313 [==============================] - 1s 4ms/step - loss: 0.3431 - acc: 0.8774 - val_loss: 0.8292 - val_acc: 0.7560\n",
      "Epoch 63/120\n",
      "313/313 [==============================] - 1s 4ms/step - loss: 0.3340 - acc: 0.8831 - val_loss: 0.8392 - val_acc: 0.7450\n",
      "Epoch 64/120\n",
      "313/313 [==============================] - 1s 4ms/step - loss: 0.3349 - acc: 0.8837 - val_loss: 0.8602 - val_acc: 0.7590\n",
      "Epoch 65/120\n",
      "313/313 [==============================] - 1s 4ms/step - loss: 0.3173 - acc: 0.8833 - val_loss: 0.8430 - val_acc: 0.7470\n",
      "Epoch 66/120\n",
      "313/313 [==============================] - 2s 6ms/step - loss: 0.3148 - acc: 0.8921 - val_loss: 0.8068 - val_acc: 0.7420\n",
      "Epoch 67/120\n",
      "313/313 [==============================] - 2s 7ms/step - loss: 0.2976 - acc: 0.8958 - val_loss: 0.8497 - val_acc: 0.7430\n",
      "Epoch 68/120\n",
      "313/313 [==============================] - 2s 6ms/step - loss: 0.3020 - acc: 0.8934 - val_loss: 0.8369 - val_acc: 0.7500\n",
      "Epoch 69/120\n",
      "313/313 [==============================] - 2s 7ms/step - loss: 0.2880 - acc: 0.8970 - val_loss: 0.8375 - val_acc: 0.7510\n",
      "Epoch 70/120\n",
      "313/313 [==============================] - 2s 5ms/step - loss: 0.2819 - acc: 0.9000 - val_loss: 0.8720 - val_acc: 0.7610\n",
      "Epoch 71/120\n",
      "313/313 [==============================] - 2s 7ms/step - loss: 0.2803 - acc: 0.8982 - val_loss: 0.8337 - val_acc: 0.7620\n",
      "Epoch 72/120\n",
      "313/313 [==============================] - 2s 6ms/step - loss: 0.2679 - acc: 0.9053 - val_loss: 0.8403 - val_acc: 0.7510\n",
      "Epoch 73/120\n",
      "313/313 [==============================] - 2s 7ms/step - loss: 0.2553 - acc: 0.9125 - val_loss: 0.8716 - val_acc: 0.7610\n",
      "Epoch 74/120\n",
      "313/313 [==============================] - 2s 6ms/step - loss: 0.2548 - acc: 0.9087 - val_loss: 0.9410 - val_acc: 0.7520\n",
      "Epoch 75/120\n",
      "313/313 [==============================] - 2s 7ms/step - loss: 0.2610 - acc: 0.9094 - val_loss: 0.8879 - val_acc: 0.7540\n",
      "Epoch 76/120\n",
      "313/313 [==============================] - 2s 6ms/step - loss: 0.2470 - acc: 0.9109 - val_loss: 0.8740 - val_acc: 0.7550\n",
      "Epoch 77/120\n",
      "313/313 [==============================] - 2s 6ms/step - loss: 0.2456 - acc: 0.9128 - val_loss: 0.8733 - val_acc: 0.7510\n",
      "Epoch 78/120\n",
      "313/313 [==============================] - 2s 8ms/step - loss: 0.2369 - acc: 0.9150 - val_loss: 0.9151 - val_acc: 0.7410\n",
      "Epoch 79/120\n",
      "313/313 [==============================] - 2s 7ms/step - loss: 0.2287 - acc: 0.9152 - val_loss: 0.9672 - val_acc: 0.7410\n",
      "Epoch 80/120\n",
      "313/313 [==============================] - 2s 7ms/step - loss: 0.2300 - acc: 0.9179 - val_loss: 0.9021 - val_acc: 0.7470\n",
      "Epoch 81/120\n",
      "313/313 [==============================] - 2s 8ms/step - loss: 0.2269 - acc: 0.9191 - val_loss: 0.8675 - val_acc: 0.7520\n",
      "Epoch 82/120\n",
      "313/313 [==============================] - 2s 7ms/step - loss: 0.2177 - acc: 0.9222 - val_loss: 0.8932 - val_acc: 0.7630\n",
      "Epoch 83/120\n",
      "313/313 [==============================] - 2s 6ms/step - loss: 0.2120 - acc: 0.9253 - val_loss: 0.9293 - val_acc: 0.7570\n",
      "Epoch 84/120\n",
      "313/313 [==============================] - 2s 6ms/step - loss: 0.2064 - acc: 0.9286 - val_loss: 0.9090 - val_acc: 0.7610\n",
      "Epoch 85/120\n",
      "313/313 [==============================] - 2s 7ms/step - loss: 0.2071 - acc: 0.9252 - val_loss: 0.8735 - val_acc: 0.7420\n",
      "Epoch 86/120\n",
      "313/313 [==============================] - 2s 7ms/step - loss: 0.2016 - acc: 0.9282 - val_loss: 0.9097 - val_acc: 0.7540\n",
      "Epoch 87/120\n",
      "313/313 [==============================] - 2s 7ms/step - loss: 0.2019 - acc: 0.9282 - val_loss: 0.9506 - val_acc: 0.7440\n",
      "Epoch 88/120\n",
      "313/313 [==============================] - 2s 7ms/step - loss: 0.1857 - acc: 0.9337 - val_loss: 0.9732 - val_acc: 0.7430\n",
      "Epoch 89/120\n",
      "313/313 [==============================] - 2s 6ms/step - loss: 0.1913 - acc: 0.9337 - val_loss: 0.9533 - val_acc: 0.7560\n",
      "Epoch 90/120\n",
      "313/313 [==============================] - 2s 7ms/step - loss: 0.1891 - acc: 0.9388 - val_loss: 1.0105 - val_acc: 0.7630\n",
      "Epoch 91/120\n",
      "313/313 [==============================] - 2s 7ms/step - loss: 0.1772 - acc: 0.9384 - val_loss: 0.9760 - val_acc: 0.7510\n",
      "Epoch 92/120\n",
      "313/313 [==============================] - 2s 7ms/step - loss: 0.1748 - acc: 0.9386 - val_loss: 0.9705 - val_acc: 0.7600\n",
      "Epoch 93/120\n",
      "313/313 [==============================] - 2s 7ms/step - loss: 0.1745 - acc: 0.9394 - val_loss: 0.9951 - val_acc: 0.7510\n",
      "Epoch 94/120\n",
      "313/313 [==============================] - 2s 7ms/step - loss: 0.1791 - acc: 0.9377 - val_loss: 1.0035 - val_acc: 0.7600\n",
      "Epoch 95/120\n",
      "313/313 [==============================] - 2s 6ms/step - loss: 0.1744 - acc: 0.9394 - val_loss: 0.9859 - val_acc: 0.7610\n",
      "Epoch 96/120\n",
      "313/313 [==============================] - 2s 6ms/step - loss: 0.1671 - acc: 0.9419 - val_loss: 0.9782 - val_acc: 0.7440\n",
      "Epoch 97/120\n",
      "313/313 [==============================] - 2s 7ms/step - loss: 0.1685 - acc: 0.9406 - val_loss: 1.0364 - val_acc: 0.7490\n",
      "Epoch 98/120\n",
      "313/313 [==============================] - 2s 7ms/step - loss: 0.1617 - acc: 0.9455 - val_loss: 1.0272 - val_acc: 0.7390\n",
      "Epoch 99/120\n",
      "313/313 [==============================] - 2s 7ms/step - loss: 0.1520 - acc: 0.9476 - val_loss: 0.9891 - val_acc: 0.7540\n",
      "Epoch 100/120\n",
      "313/313 [==============================] - 2s 7ms/step - loss: 0.1625 - acc: 0.9438 - val_loss: 0.9710 - val_acc: 0.7480\n",
      "Epoch 101/120\n",
      "313/313 [==============================] - 2s 6ms/step - loss: 0.1513 - acc: 0.9471 - val_loss: 1.0198 - val_acc: 0.7490\n",
      "Epoch 102/120\n",
      "313/313 [==============================] - 2s 7ms/step - loss: 0.1435 - acc: 0.9504 - val_loss: 0.9919 - val_acc: 0.7550\n",
      "Epoch 103/120\n",
      "313/313 [==============================] - 2s 6ms/step - loss: 0.1477 - acc: 0.9488 - val_loss: 1.0795 - val_acc: 0.7570\n",
      "Epoch 104/120\n",
      "313/313 [==============================] - 2s 7ms/step - loss: 0.1411 - acc: 0.9510 - val_loss: 1.0338 - val_acc: 0.7590\n",
      "Epoch 105/120\n",
      "313/313 [==============================] - 2s 6ms/step - loss: 0.1414 - acc: 0.9532 - val_loss: 1.1272 - val_acc: 0.7500\n",
      "Epoch 106/120\n",
      "313/313 [==============================] - 2s 7ms/step - loss: 0.1336 - acc: 0.9532 - val_loss: 1.0776 - val_acc: 0.7540\n",
      "Epoch 107/120\n",
      "313/313 [==============================] - 2s 7ms/step - loss: 0.1441 - acc: 0.9515 - val_loss: 1.0742 - val_acc: 0.7610\n",
      "Epoch 108/120\n",
      "313/313 [==============================] - 2s 8ms/step - loss: 0.1452 - acc: 0.9503 - val_loss: 1.0304 - val_acc: 0.7430\n",
      "Epoch 109/120\n",
      "313/313 [==============================] - 2s 7ms/step - loss: 0.1399 - acc: 0.9529 - val_loss: 1.0950 - val_acc: 0.7480\n",
      "Epoch 110/120\n",
      "313/313 [==============================] - 2s 6ms/step - loss: 0.1457 - acc: 0.9468 - val_loss: 1.0952 - val_acc: 0.7580\n",
      "Epoch 111/120\n",
      "313/313 [==============================] - 2s 6ms/step - loss: 0.1440 - acc: 0.9524 - val_loss: 1.0551 - val_acc: 0.7640\n",
      "Epoch 112/120\n",
      "313/313 [==============================] - 2s 7ms/step - loss: 0.1306 - acc: 0.9548 - val_loss: 1.0938 - val_acc: 0.7520\n",
      "Epoch 113/120\n",
      "313/313 [==============================] - 2s 7ms/step - loss: 0.1195 - acc: 0.9570 - val_loss: 1.1703 - val_acc: 0.7580\n",
      "Epoch 114/120\n",
      "313/313 [==============================] - 2s 7ms/step - loss: 0.1193 - acc: 0.9600 - val_loss: 1.1863 - val_acc: 0.7560\n",
      "Epoch 115/120\n",
      "313/313 [==============================] - 2s 7ms/step - loss: 0.1211 - acc: 0.9598 - val_loss: 1.1090 - val_acc: 0.7640\n",
      "Epoch 116/120\n",
      "313/313 [==============================] - 2s 7ms/step - loss: 0.1173 - acc: 0.9599 - val_loss: 1.0966 - val_acc: 0.7680\n",
      "Epoch 117/120\n",
      "313/313 [==============================] - 2s 6ms/step - loss: 0.1239 - acc: 0.9584 - val_loss: 1.0975 - val_acc: 0.7660\n",
      "Epoch 118/120\n",
      "313/313 [==============================] - 2s 7ms/step - loss: 0.1151 - acc: 0.9603 - val_loss: 1.1853 - val_acc: 0.7510\n",
      "Epoch 119/120\n",
      "313/313 [==============================] - 2s 7ms/step - loss: 0.1219 - acc: 0.9589 - val_loss: 1.2304 - val_acc: 0.7520\n",
      "Epoch 120/120\n",
      "313/313 [==============================] - 2s 7ms/step - loss: 0.1102 - acc: 0.9602 - val_loss: 1.1594 - val_acc: 0.7650\n"
     ]
    }
   ],
   "source": [
    "import os\n",
    "\n",
    "# 모델 컴파일\n",
    "model = Model([input_sequence, question], answer)\n",
    "model.compile(optimizer='rmsprop', loss='categorical_crossentropy',\n",
    "              metrics=['acc'])\n",
    " \n",
    "# 테스트 데이터를 검증 데이터로 사용하면서 모델 훈련 시작\n",
    "history = model.fit([Xstrain, Xqtrain],\n",
    "         Ytrain, batch_size, train_epochs,\n",
    "         validation_data=([Xstest, Xqtest], Ytest))\n",
    " \n",
    "# 훈련 후에는 모델 저장\n",
    "model_path = os.getenv('HOME')+'/aiffel/babi_memory_net/model_c.h5'\n",
    "model.save(model_path)"
   ]
  },
  {
   "cell_type": "code",
   "execution_count": 47,
   "id": "automated-claim",
   "metadata": {},
   "outputs": [
    {
     "data": {
      "image/png": "[encoded data removed]",
      "text/plain": [
       "<Figure size 432x288 with 2 Axes>"
      ]
     },
     "metadata": {
      "needs_background": "light"
     },
     "output_type": "display_data"
    }
   ],
   "source": [
    "# plot accuracy and loss plot\n",
    "plt.subplot(211)\n",
    "plt.title(\"Accuracy\")\n",
    "plt.plot(history.history[\"acc\"], color=\"g\", label=\"train\")\n",
    "plt.plot(history.history[\"val_acc\"], color=\"b\", label=\"validation\")\n",
    "plt.legend(loc=\"best\")\n",
    "\n",
    "plt.subplot(212)\n",
    "plt.title(\"Loss\")\n",
    "plt.plot(history.history[\"loss\"], color=\"g\", label=\"train\")\n",
    "plt.plot(history.history[\"val_loss\"], color=\"b\", label=\"validation\")\n",
    "plt.legend(loc=\"best\")\n",
    "\n",
    "plt.tight_layout()\n",
    "plt.show()\n",
    "\n",
    "# labels\n",
    "ytest = np.argmax(Ytest, axis=1)\n",
    "\n",
    "# get predictions\n",
    "Ytest_ = model.predict([Xstest, Xqtest])\n",
    "ytest_ = np.argmax(Ytest_, axis=1)"
   ]
  },
  {
   "cell_type": "code",
   "execution_count": 49,
   "id": "rough-labor",
   "metadata": {},
   "outputs": [
    {
     "name": "stdout",
     "output_type": "stream",
     "text": [
      "32/32 [==============================] - 0s 4ms/step - loss: 1.1594 - acc: 0.7650\n",
      "\n",
      " 테스트 정확도: 0.7650\n"
     ]
    }
   ],
   "source": [
    "print(\"\\n 테스트 정확도: %.4f\" % (model.evaluate([Xstest, Xqtest], Ytest)[1]))"
   ]
  },
  {
   "cell_type": "markdown",
   "id": "tracked-aberdeen",
   "metadata": {},
   "source": [
    "## 회고 및 루브릭 평가"
   ]
  },
  {
   "cell_type": "markdown",
   "id": "swedish-kitchen",
   "metadata": {},
   "source": [
    "### 루브릭 평가 항목\n",
    "1. 한국어의 특성에 알맞게 전처리가 진행되었다.\n",
    "\t(한국어 특성에 따른 토큰화, 임베딩을 거쳐 데이터셋이 적절히 구성되었다.)\n",
    "2. 메모리 네트워크가 정상적으로 구현되어 학습이 안정적으로 진행되었다.\n",
    "\t(validation loss가 안정적으로 수렴하는 것을 확인하고 이를 시각화하였다.)\n",
    "3. 메모리 네트워크를 통해 한국어 bAbI 태스크의 높은 정확도를 달성하였다.\n",
    "\t(추론 태스크의 테스트 정확도가 90% 이상 달성하였다.)"
   ]
  },
  {
   "cell_type": "markdown",
   "id": "classical-label",
   "metadata": {},
   "source": [
    "### 평가 항목에 대한 수행\n",
    "1. 데이터를 토큰화 및 임베딩을 거쳐 데이터셋을 구성하였다. 또한 한국어 특성에 따른 토큰화도 진행을 하였다.\n",
    "2. validation loss가 안정적으로 수렴하였고 이를 시각화하였다.\n",
    "3. 추론 태스크의 테스트 정확도가 95%가 되었다."
   ]
  },
  {
   "cell_type": "markdown",
   "id": "mature-pride",
   "metadata": {},
   "source": [
    "### 회고"
   ]
  },
  {
   "cell_type": "markdown",
   "id": "ahead-testimony",
   "metadata": {},
   "source": [
    "노션에 공지된 꼭 포함이 되어야 할 점\n",
    "- 이번 프로젝트에서 **어려웠던 점,**\n",
    "- 프로젝트를 진행하면서 **알아낸 점** 혹은 **아직 모호한 점**.\n",
    "- 루브릭 평가 지표를 맞추기 위해 **시도한 것들**.\n",
    "- 만약에 루브릭 평가 관련 지표를 **달성 하지 못했을 때, 이유에 관한 추정**.\n",
    "- **자기 다짐**"
   ]
  },
  {
   "cell_type": "markdown",
   "id": "significant-clark",
   "metadata": {},
   "source": [
    "---\n",
    "- **어려웠던 점**    \n",
    "특별히 어려웠던 점은 없었던 것 같다.\n",
    "\n",
    "---\n",
    "- **알아낸 점**    \n",
    "메모리 네트워크를 구성할 때 기본적으로 LSTM이 이용될 수 있다는 것을 알 수 있었다.\n",
    "\n",
    "\n",
    "- **모호한 점**    \n",
    "한국어 특성을 이용하지 않고도 충분히 좋은 성능을 낼 수 있는데 굳이 ckonlpy를 사용하는 이유를 모르겠다.\n",
    "\n",
    "---\n",
    "- **시도한 것들**   \n",
    "ckonlpy를 이용한 것과 이용하지 않은 것을 비교해 볼 수 있었다.\n",
    "\n",
    "---\n",
    "- **루브릭 평가 관련 지표**   \n",
    "제 예상에는 모두 달성되었다고 생각한다. 그 이유는 위에 있는 **평가 항목에 대한 수행**에 나와있다.  \n",
    "- **자기 다짐** 및 **나의 생각들**      \n",
    "간단하게 메모리 네트워크에 대해서 구현해 볼 수 있는 기회였다. babi task에 대해서 문제를 해결하였는데 사실 문제의 난이도가 높아 보이지는 않아서 간단하게 해결이 되었던 것 같다. 인간의 지능 중에서 추론하는 능력을 구현하기 위해서는 기억(저장)하는 능력이 필수적인데 이와 관련해서 좀 더 공부를 하면 좋을 것 같다. "
   ]
  },
  {
   "cell_type": "code",
   "execution_count": null,
   "id": "numeric-master",
   "metadata": {},
   "outputs": [],
   "source": []
  }
 ],
 "metadata": {
  "kernelspec": {
   "display_name": "aiffel",
   "language": "python",
   "name": "aiffel"
  },
  "language_info": {
   "codemirror_mode": {
    "name": "ipython",
    "version": 3
   },
   "file_extension": ".py",
   "mimetype": "text/x-python",
   "name": "python",
   "nbconvert_exporter": "python",
   "pygments_lexer": "ipython3",
   "version": "3.7.9"
  }
 },
 "nbformat": 4,
 "nbformat_minor": 5
}
